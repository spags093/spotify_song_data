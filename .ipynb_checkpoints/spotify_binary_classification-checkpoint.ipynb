{
 "cells": [
  {
   "cell_type": "markdown",
   "metadata": {},
   "source": [
    "# Spotify Song Data - Binary Classification"
   ]
  },
  {
   "cell_type": "markdown",
   "metadata": {},
   "source": [
    "This is a binary classification project that uses a dataset of Spotify song data to determine what features make a song popular on the platform, aka a hit song."
   ]
  },
  {
   "cell_type": "markdown",
   "metadata": {},
   "source": [
    "## Introduction"
   ]
  },
  {
   "cell_type": "markdown",
   "metadata": {},
   "source": [
    "### Imports"
   ]
  },
  {
   "cell_type": "code",
   "execution_count": 2,
   "metadata": {
    "ExecuteTime": {
     "end_time": "2021-03-23T16:13:11.345909Z",
     "start_time": "2021-03-23T16:13:09.130652Z"
    }
   },
   "outputs": [
    {
     "name": "stderr",
     "output_type": "stream",
     "text": [
      "\n",
      "Bad key \"text.kerning_factor\" on line 4 in\n",
      "/Users/spags/opt/anaconda3/envs/learn-env/lib/python3.6/site-packages/matplotlib/mpl-data/stylelib/_classic_test_patch.mplstyle.\n",
      "You probably need to get an updated matplotlibrc file from\n",
      "https://github.com/matplotlib/matplotlib/blob/v3.1.3/matplotlibrc.template\n",
      "or from the matplotlib source distribution\n"
     ]
    }
   ],
   "source": [
    "# Regulars\n",
    "import numpy as np\n",
    "import pandas as pd\n",
    "import seaborn as sns\n",
    "import matplotlib.pyplot as plt\n",
    "%matplotlib inline\n",
    "\n",
    "# Model evaluation\n",
    "from sklearn.metrics import confusion_matrix, plot_confusion_matrix\n",
    "from sklearn.metrics import classification_report, plot_roc_curve"
   ]
  },
  {
   "cell_type": "code",
   "execution_count": 3,
   "metadata": {
    "ExecuteTime": {
     "end_time": "2021-03-23T16:13:11.402120Z",
     "start_time": "2021-03-23T16:13:11.348444Z"
    }
   },
   "outputs": [
    {
     "name": "stderr",
     "output_type": "stream",
     "text": [
      "/Users/spags/opt/anaconda3/envs/learn-env/lib/python3.6/site-packages/ipykernel_launcher.py:4: TqdmDeprecationWarning: This function will be removed in tqdm==5.0.0\n",
      "Please use `tqdm.notebook.tqdm` instead of `tqdm.tqdm_notebook`\n",
      "  after removing the cwd from sys.path.\n"
     ]
    },
    {
     "data": {
      "application/vnd.jupyter.widget-view+json": {
       "model_id": "16d47edd4a7146c3a733c4b459ec8753",
       "version_major": 2,
       "version_minor": 0
      },
      "text/plain": [
       "0it [00:00, ?it/s]"
      ]
     },
     "metadata": {},
     "output_type": "display_data"
    }
   ],
   "source": [
    "# tqdm\n",
    "# %%capture\n",
    "from tqdm import tqdm_notebook as tqdm\n",
    "tqdm().pandas()"
   ]
  },
  {
   "cell_type": "markdown",
   "metadata": {},
   "source": [
    "### Functions"
   ]
  },
  {
   "cell_type": "markdown",
   "metadata": {},
   "source": [
    "#### Processing Functions"
   ]
  },
  {
   "cell_type": "code",
   "execution_count": 4,
   "metadata": {
    "ExecuteTime": {
     "end_time": "2021-03-23T16:13:11.411071Z",
     "start_time": "2021-03-23T16:13:11.404723Z"
    }
   },
   "outputs": [],
   "source": [
    "def get_info(df):\n",
    "    '''Simple function that takes in a full dataframe and returns\n",
    "    some basic information about the countents of the dataframe.'''\n",
    "    \n",
    "    print('Shape of DataFrame:\\n', df.shape)\n",
    "    print('\\nDataFrame Info:')\n",
    "    print(df.info())\n",
    "    print('\\n Null Values Present:\\n', df.isna().sum())"
   ]
  },
  {
   "cell_type": "markdown",
   "metadata": {},
   "source": [
    "#### Plotting Functions"
   ]
  },
  {
   "cell_type": "markdown",
   "metadata": {},
   "source": [
    "##### Scikit-Learn Evaluations"
   ]
  },
  {
   "cell_type": "code",
   "execution_count": 5,
   "metadata": {
    "ExecuteTime": {
     "end_time": "2021-03-23T16:13:11.423152Z",
     "start_time": "2021-03-23T16:13:11.413755Z"
    }
   },
   "outputs": [],
   "source": [
    "def evaluate_model(model, X_test, y_test):\n",
    "    '''Evaluates a scikit-learn classification model and displays a classification report, \n",
    "    a confusion matrix, and a ROC-AUC plot.\n",
    "    \n",
    "    -----------\n",
    "    Parameters\n",
    "    -----------\n",
    "    model - the model you want to evaluate\n",
    "    \n",
    "    X_test - Dataset used in testing the model \n",
    "    \n",
    "    y_test - Label used for predictions and evaluation the model'''\n",
    "    \n",
    "    # Predictions\n",
    "    y_hat_test = model.predict(X_test)\n",
    "    \n",
    "    # Classification Report\n",
    "    print('--------- Classification Report ----------\\n')\n",
    "    print(classification_report(y_test, y_hat_test))\n",
    "    \n",
    "    # Confusion Matrix\n",
    "    fig, axes = plt.subplots(figsize = (12, 6), ncols = 2)\n",
    "    plot_confusion_matrix(model, X_test, y_test, normalize = 'true',\n",
    "                          cmap = 'Blues', ax = axes[0])\n",
    "    \n",
    "    # ROC-AUC Curve\n",
    "    roc_auc_plot = plot_roc_curve(model, X_test, y_test, ax = axes[1])\n",
    "    axes[1].legend()\n",
    "    axes[1].plot([0,1], [0,1], ls = ':')\n",
    "    axes[1].grid()\n",
    "    axes[1].set_title('ROC-AUC Plot')\n",
    "    fig.tight_layout()\n",
    "    plt.show()"
   ]
  },
  {
   "cell_type": "markdown",
   "metadata": {},
   "source": [
    "##### Tensorflow Evaluations"
   ]
  },
  {
   "cell_type": "code",
   "execution_count": 6,
   "metadata": {
    "ExecuteTime": {
     "end_time": "2021-03-23T16:13:11.439960Z",
     "start_time": "2021-03-23T16:13:11.425500Z"
    }
   },
   "outputs": [],
   "source": [
    "def network_eval_plots(results):\n",
    "    history = results.history\n",
    "    \n",
    "    # Loss\n",
    "    plt.figure()\n",
    "    plt.plot(history['val_loss'])\n",
    "    plt.plot(history['loss'])\n",
    "    plt.legend(['val_loss', 'loss'])\n",
    "    plt.title('Loss')\n",
    "    plt.xlabel('Epochs')\n",
    "    plt.ylabel('Loss')\n",
    "    plt.show()\n",
    "    \n",
    "    # Accuracy\n",
    "    plt.figure()\n",
    "    plt.plot(history['val_accuracy'])\n",
    "    plt.plot(history['accuracy'])\n",
    "    plt.legend(['val_accuracy', 'accuracy'])\n",
    "    plt.title('Accuracy')\n",
    "    plt.xlabel('Epochs')\n",
    "    plt.ylabel('Accuracy')\n",
    "    plt.show()\n",
    "    \n",
    "    \n",
    "def nn_confusion_matrix(y_test, preds):\n",
    "    labels = ['Hit', 'Dud']\n",
    "    cm = confusion_matrix(y_test, preds, normalize = 'true')\n",
    "    ax = plt.figure(figsize = (6, 6))\n",
    "    ax = sns.heatmap(cm, cmap = 'Blues', annot = True, \n",
    "                     xticklabels = labels, yticklabels = labels)\n",
    "    ax.set_ylim([0,2])\n",
    "    \n",
    "    \n",
    "def evaluate_network(results, model, X_test, y_test):\n",
    "    preds = model.predict(X_test).round()\n",
    "    print('                 Model Evaluation')\n",
    "    print('-------------------------------------------------------')\n",
    "    print(model.evaluate(X_test, y_test))\n",
    "    print(' ')\n",
    "    print('                 Loss & Accuracy Curves')\n",
    "    print('-------------------------------------------------------')\n",
    "    network_eval_plots(results)\n",
    "    print(' ')\n",
    "    print('                 Classification Report')\n",
    "    print('-------------------------------------------------------')\n",
    "    print(classification_report(y_test, preds))\n",
    "    print(' ')    \n",
    "    print('                 Confusion Matrix')\n",
    "    print('-------------------------------------------------------')\n",
    "    nn_confusion_matrix(y_test, preds)    "
   ]
  },
  {
   "cell_type": "markdown",
   "metadata": {},
   "source": [
    "## Obtain"
   ]
  },
  {
   "cell_type": "markdown",
   "metadata": {},
   "source": [
    "### Import Clean DataFrame"
   ]
  },
  {
   "cell_type": "markdown",
   "metadata": {},
   "source": [
    "In the 'data_cleaning.ipynb' notebook, we cleaned the original dataframe and saved it to it's own csv.  Here, we'll just import it and make sure everything looks okay prior to processing the data for modeling."
   ]
  },
  {
   "cell_type": "code",
   "execution_count": 7,
   "metadata": {
    "ExecuteTime": {
     "end_time": "2021-03-23T16:13:12.065592Z",
     "start_time": "2021-03-23T16:13:11.442334Z"
    }
   },
   "outputs": [
    {
     "data": {
      "text/html": [
       "<div>\n",
       "<style scoped>\n",
       "    .dataframe tbody tr th:only-of-type {\n",
       "        vertical-align: middle;\n",
       "    }\n",
       "\n",
       "    .dataframe tbody tr th {\n",
       "        vertical-align: top;\n",
       "    }\n",
       "\n",
       "    .dataframe thead th {\n",
       "        text-align: right;\n",
       "    }\n",
       "</style>\n",
       "<table border=\"1\" class=\"dataframe\">\n",
       "  <thead>\n",
       "    <tr style=\"text-align: right;\">\n",
       "      <th></th>\n",
       "      <th>acousticness</th>\n",
       "      <th>danceability</th>\n",
       "      <th>duration_ms</th>\n",
       "      <th>energy</th>\n",
       "      <th>explicit</th>\n",
       "      <th>instrumentalness</th>\n",
       "      <th>key</th>\n",
       "      <th>liveness</th>\n",
       "      <th>loudness</th>\n",
       "      <th>mode</th>\n",
       "      <th>popularity</th>\n",
       "      <th>release_date</th>\n",
       "      <th>speechiness</th>\n",
       "      <th>tempo</th>\n",
       "      <th>valence</th>\n",
       "      <th>year</th>\n",
       "    </tr>\n",
       "    <tr>\n",
       "      <th>name</th>\n",
       "      <th></th>\n",
       "      <th></th>\n",
       "      <th></th>\n",
       "      <th></th>\n",
       "      <th></th>\n",
       "      <th></th>\n",
       "      <th></th>\n",
       "      <th></th>\n",
       "      <th></th>\n",
       "      <th></th>\n",
       "      <th></th>\n",
       "      <th></th>\n",
       "      <th></th>\n",
       "      <th></th>\n",
       "      <th></th>\n",
       "      <th></th>\n",
       "    </tr>\n",
       "  </thead>\n",
       "  <tbody>\n",
       "    <tr>\n",
       "      <th>Keep A Song In Your Soul</th>\n",
       "      <td>0.991000</td>\n",
       "      <td>0.598</td>\n",
       "      <td>168333</td>\n",
       "      <td>0.224</td>\n",
       "      <td>0</td>\n",
       "      <td>0.000522</td>\n",
       "      <td>5</td>\n",
       "      <td>0.3790</td>\n",
       "      <td>-12.628</td>\n",
       "      <td>0</td>\n",
       "      <td>0</td>\n",
       "      <td>1920-01-01</td>\n",
       "      <td>0.0936</td>\n",
       "      <td>149.976</td>\n",
       "      <td>0.6340</td>\n",
       "      <td>1920s</td>\n",
       "    </tr>\n",
       "    <tr>\n",
       "      <th>I Put A Spell On You</th>\n",
       "      <td>0.643000</td>\n",
       "      <td>0.852</td>\n",
       "      <td>150200</td>\n",
       "      <td>0.517</td>\n",
       "      <td>0</td>\n",
       "      <td>0.026400</td>\n",
       "      <td>5</td>\n",
       "      <td>0.0809</td>\n",
       "      <td>-7.261</td>\n",
       "      <td>0</td>\n",
       "      <td>0</td>\n",
       "      <td>1920-01-05</td>\n",
       "      <td>0.0534</td>\n",
       "      <td>86.889</td>\n",
       "      <td>0.9500</td>\n",
       "      <td>1920s</td>\n",
       "    </tr>\n",
       "    <tr>\n",
       "      <th>Golfing Papa</th>\n",
       "      <td>0.993000</td>\n",
       "      <td>0.647</td>\n",
       "      <td>163827</td>\n",
       "      <td>0.186</td>\n",
       "      <td>0</td>\n",
       "      <td>0.000018</td>\n",
       "      <td>0</td>\n",
       "      <td>0.5190</td>\n",
       "      <td>-12.098</td>\n",
       "      <td>1</td>\n",
       "      <td>0</td>\n",
       "      <td>1920-01-01</td>\n",
       "      <td>0.1740</td>\n",
       "      <td>97.600</td>\n",
       "      <td>0.6890</td>\n",
       "      <td>1920s</td>\n",
       "    </tr>\n",
       "    <tr>\n",
       "      <th>True House Music - Xavier Santos &amp; Carlos Gomix Remix</th>\n",
       "      <td>0.000173</td>\n",
       "      <td>0.730</td>\n",
       "      <td>422087</td>\n",
       "      <td>0.798</td>\n",
       "      <td>0</td>\n",
       "      <td>0.801000</td>\n",
       "      <td>2</td>\n",
       "      <td>0.1280</td>\n",
       "      <td>-7.311</td>\n",
       "      <td>1</td>\n",
       "      <td>0</td>\n",
       "      <td>1920-01-01</td>\n",
       "      <td>0.0425</td>\n",
       "      <td>127.997</td>\n",
       "      <td>0.0422</td>\n",
       "      <td>1920s</td>\n",
       "    </tr>\n",
       "    <tr>\n",
       "      <th>Xuniverxe</th>\n",
       "      <td>0.295000</td>\n",
       "      <td>0.704</td>\n",
       "      <td>165224</td>\n",
       "      <td>0.707</td>\n",
       "      <td>1</td>\n",
       "      <td>0.000246</td>\n",
       "      <td>10</td>\n",
       "      <td>0.4020</td>\n",
       "      <td>-6.036</td>\n",
       "      <td>0</td>\n",
       "      <td>0</td>\n",
       "      <td>1920-10-01</td>\n",
       "      <td>0.0768</td>\n",
       "      <td>122.076</td>\n",
       "      <td>0.2990</td>\n",
       "      <td>1920s</td>\n",
       "    </tr>\n",
       "  </tbody>\n",
       "</table>\n",
       "</div>"
      ],
      "text/plain": [
       "                                                    acousticness  \\\n",
       "name                                                               \n",
       "Keep A Song In Your Soul                                0.991000   \n",
       "I Put A Spell On You                                    0.643000   \n",
       "Golfing Papa                                            0.993000   \n",
       "True House Music - Xavier Santos & Carlos Gomix...      0.000173   \n",
       "Xuniverxe                                               0.295000   \n",
       "\n",
       "                                                    danceability  duration_ms  \\\n",
       "name                                                                            \n",
       "Keep A Song In Your Soul                                   0.598       168333   \n",
       "I Put A Spell On You                                       0.852       150200   \n",
       "Golfing Papa                                               0.647       163827   \n",
       "True House Music - Xavier Santos & Carlos Gomix...         0.730       422087   \n",
       "Xuniverxe                                                  0.704       165224   \n",
       "\n",
       "                                                    energy  explicit  \\\n",
       "name                                                                   \n",
       "Keep A Song In Your Soul                             0.224         0   \n",
       "I Put A Spell On You                                 0.517         0   \n",
       "Golfing Papa                                         0.186         0   \n",
       "True House Music - Xavier Santos & Carlos Gomix...   0.798         0   \n",
       "Xuniverxe                                            0.707         1   \n",
       "\n",
       "                                                    instrumentalness  key  \\\n",
       "name                                                                        \n",
       "Keep A Song In Your Soul                                    0.000522    5   \n",
       "I Put A Spell On You                                        0.026400    5   \n",
       "Golfing Papa                                                0.000018    0   \n",
       "True House Music - Xavier Santos & Carlos Gomix...          0.801000    2   \n",
       "Xuniverxe                                                   0.000246   10   \n",
       "\n",
       "                                                    liveness  loudness  mode  \\\n",
       "name                                                                           \n",
       "Keep A Song In Your Soul                              0.3790   -12.628     0   \n",
       "I Put A Spell On You                                  0.0809    -7.261     0   \n",
       "Golfing Papa                                          0.5190   -12.098     1   \n",
       "True House Music - Xavier Santos & Carlos Gomix...    0.1280    -7.311     1   \n",
       "Xuniverxe                                             0.4020    -6.036     0   \n",
       "\n",
       "                                                    popularity release_date  \\\n",
       "name                                                                          \n",
       "Keep A Song In Your Soul                                     0   1920-01-01   \n",
       "I Put A Spell On You                                         0   1920-01-05   \n",
       "Golfing Papa                                                 0   1920-01-01   \n",
       "True House Music - Xavier Santos & Carlos Gomix...           0   1920-01-01   \n",
       "Xuniverxe                                                    0   1920-10-01   \n",
       "\n",
       "                                                    speechiness    tempo  \\\n",
       "name                                                                       \n",
       "Keep A Song In Your Soul                                 0.0936  149.976   \n",
       "I Put A Spell On You                                     0.0534   86.889   \n",
       "Golfing Papa                                             0.1740   97.600   \n",
       "True House Music - Xavier Santos & Carlos Gomix...       0.0425  127.997   \n",
       "Xuniverxe                                                0.0768  122.076   \n",
       "\n",
       "                                                    valence   year  \n",
       "name                                                                \n",
       "Keep A Song In Your Soul                             0.6340  1920s  \n",
       "I Put A Spell On You                                 0.9500  1920s  \n",
       "Golfing Papa                                         0.6890  1920s  \n",
       "True House Music - Xavier Santos & Carlos Gomix...   0.0422  1920s  \n",
       "Xuniverxe                                            0.2990  1920s  "
      ]
     },
     "execution_count": 7,
     "metadata": {},
     "output_type": "execute_result"
    }
   ],
   "source": [
    "df = pd.read_csv('clean_spotify_data.csv').set_index('name')\n",
    "df.head()"
   ]
  },
  {
   "cell_type": "markdown",
   "metadata": {},
   "source": [
    "## Data Processing"
   ]
  },
  {
   "cell_type": "code",
   "execution_count": 8,
   "metadata": {
    "ExecuteTime": {
     "end_time": "2021-03-23T16:13:12.083685Z",
     "start_time": "2021-03-23T16:13:12.068044Z"
    }
   },
   "outputs": [],
   "source": [
    "from sklearn.model_selection import train_test_split"
   ]
  },
  {
   "cell_type": "code",
   "execution_count": 9,
   "metadata": {
    "ExecuteTime": {
     "end_time": "2021-03-23T16:13:12.221772Z",
     "start_time": "2021-03-23T16:13:12.087281Z"
    },
    "cell_style": "split"
   },
   "outputs": [
    {
     "name": "stdout",
     "output_type": "stream",
     "text": [
      "Shape of X_train: (139511, 15)\n",
      "Shape of X_test: (34878, 15)\n",
      "Shape of y_train (139511,)\n",
      "Shape of y_test (139511,)\n"
     ]
    }
   ],
   "source": [
    "# Set X and Y\n",
    "X = df.drop('popularity', axis = 1)\n",
    "y = df['popularity']\n",
    "\n",
    "# Train test split\n",
    "X_train, X_test, y_train, y_test = train_test_split(X, y, test_size = 0.2, random_state = 30)\n",
    "\n",
    "# See what we have\n",
    "print('Shape of X_train:', X_train.shape)\n",
    "print('Shape of X_test:', X_test.shape)\n",
    "print('Shape of y_train', y_train.shape)\n",
    "print('Shape of y_test', y_train.shape)"
   ]
  },
  {
   "cell_type": "code",
   "execution_count": 10,
   "metadata": {
    "ExecuteTime": {
     "end_time": "2021-03-23T16:13:12.254164Z",
     "start_time": "2021-03-23T16:13:12.225151Z"
    }
   },
   "outputs": [],
   "source": [
    "# Separate into num_cols and cat_cols\n",
    "num_cols = X_train.select_dtypes('number').columns\n",
    "cat_cols = X_train.select_dtypes('object').columns"
   ]
  },
  {
   "cell_type": "code",
   "execution_count": 11,
   "metadata": {
    "ExecuteTime": {
     "end_time": "2021-03-23T16:13:12.267197Z",
     "start_time": "2021-03-23T16:13:12.256556Z"
    }
   },
   "outputs": [],
   "source": [
    "from sklearn.pipeline import Pipeline\n",
    "from sklearn.preprocessing import StandardScaler, OneHotEncoder\n",
    "from sklearn.preprocessing import MinMaxScaler\n",
    "from sklearn.compose import ColumnTransformer"
   ]
  },
  {
   "cell_type": "code",
   "execution_count": 12,
   "metadata": {
    "ExecuteTime": {
     "end_time": "2021-03-23T16:13:37.585020Z",
     "start_time": "2021-03-23T16:13:12.269699Z"
    }
   },
   "outputs": [],
   "source": [
    "# Create Pipelines for column transformer\n",
    "\n",
    "num_transformer = Pipeline(steps = [('scaler', StandardScaler())])\n",
    "\n",
    "cat_transformer = Pipeline(steps = [('encoder', OneHotEncoder(handle_unknown = 'ignore', \n",
    "                                                              sparse = False))])\n",
    "\n",
    "# Create preprocessing pipeline with column transformer\n",
    "preprocessing = ColumnTransformer(transformers = [('num', num_transformer, num_cols),\n",
    "                                                  ('cat', cat_transformer, cat_cols)])\n",
    "\n",
    "X_train_processed = preprocessing.fit_transform(X_train)\n",
    "X_test_processed = preprocessing.transform(X_test)"
   ]
  },
  {
   "cell_type": "code",
   "execution_count": 13,
   "metadata": {
    "ExecuteTime": {
     "end_time": "2021-03-23T16:13:37.639591Z",
     "start_time": "2021-03-23T16:13:37.592878Z"
    }
   },
   "outputs": [],
   "source": [
    "# Get components together to make a dataframe\n",
    "slice_pipe = preprocessing.named_transformers_['cat']\n",
    "cat_features = slice_pipe.named_steps['encoder'].get_feature_names(cat_cols)\n",
    "\n",
    "# Put data back into a clean dataframe\n",
    "X_train_df = pd.DataFrame(X_train_processed, columns = [*num_cols, *cat_features])\n",
    "X_test_df = pd.DataFrame(X_test_processed, columns = [*num_cols, *cat_features])"
   ]
  },
  {
   "cell_type": "markdown",
   "metadata": {},
   "source": [
    "#### Final Clean Dataframe"
   ]
  },
  {
   "cell_type": "code",
   "execution_count": 14,
   "metadata": {
    "ExecuteTime": {
     "end_time": "2021-03-23T16:13:37.702723Z",
     "start_time": "2021-03-23T16:13:37.649685Z"
    }
   },
   "outputs": [
    {
     "data": {
      "text/html": [
       "<div>\n",
       "<style scoped>\n",
       "    .dataframe tbody tr th:only-of-type {\n",
       "        vertical-align: middle;\n",
       "    }\n",
       "\n",
       "    .dataframe tbody tr th {\n",
       "        vertical-align: top;\n",
       "    }\n",
       "\n",
       "    .dataframe thead th {\n",
       "        text-align: right;\n",
       "    }\n",
       "</style>\n",
       "<table border=\"1\" class=\"dataframe\">\n",
       "  <thead>\n",
       "    <tr style=\"text-align: right;\">\n",
       "      <th></th>\n",
       "      <th>acousticness</th>\n",
       "      <th>danceability</th>\n",
       "      <th>duration_ms</th>\n",
       "      <th>energy</th>\n",
       "      <th>explicit</th>\n",
       "      <th>instrumentalness</th>\n",
       "      <th>key</th>\n",
       "      <th>liveness</th>\n",
       "      <th>loudness</th>\n",
       "      <th>mode</th>\n",
       "      <th>...</th>\n",
       "      <th>year_1930s</th>\n",
       "      <th>year_1940s</th>\n",
       "      <th>year_1950s</th>\n",
       "      <th>year_1960s</th>\n",
       "      <th>year_1970s</th>\n",
       "      <th>year_1980s</th>\n",
       "      <th>year_1990s</th>\n",
       "      <th>year_2000s</th>\n",
       "      <th>year_2010s</th>\n",
       "      <th>year_2020s</th>\n",
       "    </tr>\n",
       "  </thead>\n",
       "  <tbody>\n",
       "    <tr>\n",
       "      <th>0</th>\n",
       "      <td>-1.299562</td>\n",
       "      <td>1.556711</td>\n",
       "      <td>1.435024</td>\n",
       "      <td>1.028590</td>\n",
       "      <td>3.695202</td>\n",
       "      <td>2.029732</td>\n",
       "      <td>0.226166</td>\n",
       "      <td>-0.560845</td>\n",
       "      <td>0.398806</td>\n",
       "      <td>0.650954</td>\n",
       "      <td>...</td>\n",
       "      <td>0.0</td>\n",
       "      <td>0.0</td>\n",
       "      <td>0.0</td>\n",
       "      <td>0.0</td>\n",
       "      <td>0.0</td>\n",
       "      <td>0.0</td>\n",
       "      <td>0.0</td>\n",
       "      <td>0.0</td>\n",
       "      <td>1.0</td>\n",
       "      <td>0.0</td>\n",
       "    </tr>\n",
       "    <tr>\n",
       "      <th>1</th>\n",
       "      <td>-1.313867</td>\n",
       "      <td>0.074183</td>\n",
       "      <td>0.139441</td>\n",
       "      <td>1.035929</td>\n",
       "      <td>-0.270621</td>\n",
       "      <td>2.017785</td>\n",
       "      <td>0.510619</td>\n",
       "      <td>-0.438669</td>\n",
       "      <td>0.538275</td>\n",
       "      <td>0.650954</td>\n",
       "      <td>...</td>\n",
       "      <td>0.0</td>\n",
       "      <td>0.0</td>\n",
       "      <td>0.0</td>\n",
       "      <td>0.0</td>\n",
       "      <td>0.0</td>\n",
       "      <td>1.0</td>\n",
       "      <td>0.0</td>\n",
       "      <td>0.0</td>\n",
       "      <td>0.0</td>\n",
       "      <td>0.0</td>\n",
       "    </tr>\n",
       "    <tr>\n",
       "      <th>2</th>\n",
       "      <td>0.133647</td>\n",
       "      <td>-0.385911</td>\n",
       "      <td>-0.081235</td>\n",
       "      <td>0.081851</td>\n",
       "      <td>-0.270621</td>\n",
       "      <td>-0.589023</td>\n",
       "      <td>-1.480552</td>\n",
       "      <td>-0.874616</td>\n",
       "      <td>-0.133776</td>\n",
       "      <td>0.650954</td>\n",
       "      <td>...</td>\n",
       "      <td>0.0</td>\n",
       "      <td>0.0</td>\n",
       "      <td>1.0</td>\n",
       "      <td>0.0</td>\n",
       "      <td>0.0</td>\n",
       "      <td>0.0</td>\n",
       "      <td>0.0</td>\n",
       "      <td>0.0</td>\n",
       "      <td>0.0</td>\n",
       "      <td>0.0</td>\n",
       "    </tr>\n",
       "    <tr>\n",
       "      <th>3</th>\n",
       "      <td>1.241662</td>\n",
       "      <td>-1.618511</td>\n",
       "      <td>-0.117687</td>\n",
       "      <td>-0.971305</td>\n",
       "      <td>-0.270621</td>\n",
       "      <td>0.130043</td>\n",
       "      <td>-0.911646</td>\n",
       "      <td>0.460994</td>\n",
       "      <td>0.014827</td>\n",
       "      <td>0.650954</td>\n",
       "      <td>...</td>\n",
       "      <td>0.0</td>\n",
       "      <td>1.0</td>\n",
       "      <td>0.0</td>\n",
       "      <td>0.0</td>\n",
       "      <td>0.0</td>\n",
       "      <td>0.0</td>\n",
       "      <td>0.0</td>\n",
       "      <td>0.0</td>\n",
       "      <td>0.0</td>\n",
       "      <td>0.0</td>\n",
       "    </tr>\n",
       "    <tr>\n",
       "      <th>4</th>\n",
       "      <td>0.810036</td>\n",
       "      <td>1.085256</td>\n",
       "      <td>-0.410690</td>\n",
       "      <td>-0.119974</td>\n",
       "      <td>-0.270621</td>\n",
       "      <td>-0.589793</td>\n",
       "      <td>1.079525</td>\n",
       "      <td>0.338818</td>\n",
       "      <td>1.146212</td>\n",
       "      <td>0.650954</td>\n",
       "      <td>...</td>\n",
       "      <td>0.0</td>\n",
       "      <td>0.0</td>\n",
       "      <td>1.0</td>\n",
       "      <td>0.0</td>\n",
       "      <td>0.0</td>\n",
       "      <td>0.0</td>\n",
       "      <td>0.0</td>\n",
       "      <td>0.0</td>\n",
       "      <td>0.0</td>\n",
       "      <td>0.0</td>\n",
       "    </tr>\n",
       "  </tbody>\n",
       "</table>\n",
       "<p>5 rows × 10183 columns</p>\n",
       "</div>"
      ],
      "text/plain": [
       "   acousticness  danceability  duration_ms    energy  explicit  \\\n",
       "0     -1.299562      1.556711     1.435024  1.028590  3.695202   \n",
       "1     -1.313867      0.074183     0.139441  1.035929 -0.270621   \n",
       "2      0.133647     -0.385911    -0.081235  0.081851 -0.270621   \n",
       "3      1.241662     -1.618511    -0.117687 -0.971305 -0.270621   \n",
       "4      0.810036      1.085256    -0.410690 -0.119974 -0.270621   \n",
       "\n",
       "   instrumentalness       key  liveness  loudness      mode  ...  year_1930s  \\\n",
       "0          2.029732  0.226166 -0.560845  0.398806  0.650954  ...         0.0   \n",
       "1          2.017785  0.510619 -0.438669  0.538275  0.650954  ...         0.0   \n",
       "2         -0.589023 -1.480552 -0.874616 -0.133776  0.650954  ...         0.0   \n",
       "3          0.130043 -0.911646  0.460994  0.014827  0.650954  ...         0.0   \n",
       "4         -0.589793  1.079525  0.338818  1.146212  0.650954  ...         0.0   \n",
       "\n",
       "   year_1940s  year_1950s  year_1960s  year_1970s  year_1980s  year_1990s  \\\n",
       "0         0.0         0.0         0.0         0.0         0.0         0.0   \n",
       "1         0.0         0.0         0.0         0.0         1.0         0.0   \n",
       "2         0.0         1.0         0.0         0.0         0.0         0.0   \n",
       "3         1.0         0.0         0.0         0.0         0.0         0.0   \n",
       "4         0.0         1.0         0.0         0.0         0.0         0.0   \n",
       "\n",
       "   year_2000s  year_2010s  year_2020s  \n",
       "0         0.0         1.0         0.0  \n",
       "1         0.0         0.0         0.0  \n",
       "2         0.0         0.0         0.0  \n",
       "3         0.0         0.0         0.0  \n",
       "4         0.0         0.0         0.0  \n",
       "\n",
       "[5 rows x 10183 columns]"
      ]
     },
     "execution_count": 14,
     "metadata": {},
     "output_type": "execute_result"
    }
   ],
   "source": [
    "X_train_df.head()"
   ]
  },
  {
   "cell_type": "code",
   "execution_count": 15,
   "metadata": {
    "ExecuteTime": {
     "end_time": "2021-03-23T16:13:37.758764Z",
     "start_time": "2021-03-23T16:13:37.709460Z"
    }
   },
   "outputs": [
    {
     "data": {
      "text/html": [
       "<div>\n",
       "<style scoped>\n",
       "    .dataframe tbody tr th:only-of-type {\n",
       "        vertical-align: middle;\n",
       "    }\n",
       "\n",
       "    .dataframe tbody tr th {\n",
       "        vertical-align: top;\n",
       "    }\n",
       "\n",
       "    .dataframe thead th {\n",
       "        text-align: right;\n",
       "    }\n",
       "</style>\n",
       "<table border=\"1\" class=\"dataframe\">\n",
       "  <thead>\n",
       "    <tr style=\"text-align: right;\">\n",
       "      <th></th>\n",
       "      <th>acousticness</th>\n",
       "      <th>danceability</th>\n",
       "      <th>duration_ms</th>\n",
       "      <th>energy</th>\n",
       "      <th>explicit</th>\n",
       "      <th>instrumentalness</th>\n",
       "      <th>key</th>\n",
       "      <th>liveness</th>\n",
       "      <th>loudness</th>\n",
       "      <th>mode</th>\n",
       "      <th>...</th>\n",
       "      <th>year_1930s</th>\n",
       "      <th>year_1940s</th>\n",
       "      <th>year_1950s</th>\n",
       "      <th>year_1960s</th>\n",
       "      <th>year_1970s</th>\n",
       "      <th>year_1980s</th>\n",
       "      <th>year_1990s</th>\n",
       "      <th>year_2000s</th>\n",
       "      <th>year_2010s</th>\n",
       "      <th>year_2020s</th>\n",
       "    </tr>\n",
       "  </thead>\n",
       "  <tbody>\n",
       "    <tr>\n",
       "      <th>0</th>\n",
       "      <td>0.825828</td>\n",
       "      <td>0.233228</td>\n",
       "      <td>0.059099</td>\n",
       "      <td>-0.483257</td>\n",
       "      <td>-0.270621</td>\n",
       "      <td>-0.589808</td>\n",
       "      <td>1.648431</td>\n",
       "      <td>-0.488650</td>\n",
       "      <td>-0.120075</td>\n",
       "      <td>-1.536206</td>\n",
       "      <td>...</td>\n",
       "      <td>0.0</td>\n",
       "      <td>0.0</td>\n",
       "      <td>1.0</td>\n",
       "      <td>0.0</td>\n",
       "      <td>0.0</td>\n",
       "      <td>0.0</td>\n",
       "      <td>0.0</td>\n",
       "      <td>0.0</td>\n",
       "      <td>0.0</td>\n",
       "      <td>0.0</td>\n",
       "    </tr>\n",
       "    <tr>\n",
       "      <th>1</th>\n",
       "      <td>-1.310485</td>\n",
       "      <td>-0.834646</td>\n",
       "      <td>-0.985601</td>\n",
       "      <td>1.582690</td>\n",
       "      <td>-0.270621</td>\n",
       "      <td>-0.589808</td>\n",
       "      <td>-0.342740</td>\n",
       "      <td>3.765311</td>\n",
       "      <td>0.824766</td>\n",
       "      <td>-1.536206</td>\n",
       "      <td>...</td>\n",
       "      <td>0.0</td>\n",
       "      <td>0.0</td>\n",
       "      <td>0.0</td>\n",
       "      <td>0.0</td>\n",
       "      <td>0.0</td>\n",
       "      <td>1.0</td>\n",
       "      <td>0.0</td>\n",
       "      <td>0.0</td>\n",
       "      <td>0.0</td>\n",
       "      <td>0.0</td>\n",
       "    </tr>\n",
       "    <tr>\n",
       "      <th>2</th>\n",
       "      <td>1.270613</td>\n",
       "      <td>-0.868727</td>\n",
       "      <td>0.097934</td>\n",
       "      <td>-0.149330</td>\n",
       "      <td>-0.270621</td>\n",
       "      <td>-0.551277</td>\n",
       "      <td>-0.911646</td>\n",
       "      <td>0.749775</td>\n",
       "      <td>-0.068257</td>\n",
       "      <td>-1.536206</td>\n",
       "      <td>...</td>\n",
       "      <td>0.0</td>\n",
       "      <td>0.0</td>\n",
       "      <td>1.0</td>\n",
       "      <td>0.0</td>\n",
       "      <td>0.0</td>\n",
       "      <td>0.0</td>\n",
       "      <td>0.0</td>\n",
       "      <td>0.0</td>\n",
       "      <td>0.0</td>\n",
       "      <td>0.0</td>\n",
       "    </tr>\n",
       "    <tr>\n",
       "      <th>3</th>\n",
       "      <td>1.257454</td>\n",
       "      <td>1.085256</td>\n",
       "      <td>-0.361463</td>\n",
       "      <td>-1.077722</td>\n",
       "      <td>-0.270621</td>\n",
       "      <td>-0.589780</td>\n",
       "      <td>-0.627193</td>\n",
       "      <td>1.732740</td>\n",
       "      <td>-0.225116</td>\n",
       "      <td>0.650954</td>\n",
       "      <td>...</td>\n",
       "      <td>1.0</td>\n",
       "      <td>0.0</td>\n",
       "      <td>0.0</td>\n",
       "      <td>0.0</td>\n",
       "      <td>0.0</td>\n",
       "      <td>0.0</td>\n",
       "      <td>0.0</td>\n",
       "      <td>0.0</td>\n",
       "      <td>0.0</td>\n",
       "      <td>0.0</td>\n",
       "    </tr>\n",
       "    <tr>\n",
       "      <th>4</th>\n",
       "      <td>0.865306</td>\n",
       "      <td>-1.947961</td>\n",
       "      <td>1.608862</td>\n",
       "      <td>-0.483257</td>\n",
       "      <td>-0.270621</td>\n",
       "      <td>2.131288</td>\n",
       "      <td>-1.480552</td>\n",
       "      <td>-0.549738</td>\n",
       "      <td>-0.630349</td>\n",
       "      <td>0.650954</td>\n",
       "      <td>...</td>\n",
       "      <td>0.0</td>\n",
       "      <td>0.0</td>\n",
       "      <td>0.0</td>\n",
       "      <td>0.0</td>\n",
       "      <td>0.0</td>\n",
       "      <td>0.0</td>\n",
       "      <td>0.0</td>\n",
       "      <td>0.0</td>\n",
       "      <td>1.0</td>\n",
       "      <td>0.0</td>\n",
       "    </tr>\n",
       "  </tbody>\n",
       "</table>\n",
       "<p>5 rows × 10183 columns</p>\n",
       "</div>"
      ],
      "text/plain": [
       "   acousticness  danceability  duration_ms    energy  explicit  \\\n",
       "0      0.825828      0.233228     0.059099 -0.483257 -0.270621   \n",
       "1     -1.310485     -0.834646    -0.985601  1.582690 -0.270621   \n",
       "2      1.270613     -0.868727     0.097934 -0.149330 -0.270621   \n",
       "3      1.257454      1.085256    -0.361463 -1.077722 -0.270621   \n",
       "4      0.865306     -1.947961     1.608862 -0.483257 -0.270621   \n",
       "\n",
       "   instrumentalness       key  liveness  loudness      mode  ...  year_1930s  \\\n",
       "0         -0.589808  1.648431 -0.488650 -0.120075 -1.536206  ...         0.0   \n",
       "1         -0.589808 -0.342740  3.765311  0.824766 -1.536206  ...         0.0   \n",
       "2         -0.551277 -0.911646  0.749775 -0.068257 -1.536206  ...         0.0   \n",
       "3         -0.589780 -0.627193  1.732740 -0.225116  0.650954  ...         1.0   \n",
       "4          2.131288 -1.480552 -0.549738 -0.630349  0.650954  ...         0.0   \n",
       "\n",
       "   year_1940s  year_1950s  year_1960s  year_1970s  year_1980s  year_1990s  \\\n",
       "0         0.0         1.0         0.0         0.0         0.0         0.0   \n",
       "1         0.0         0.0         0.0         0.0         1.0         0.0   \n",
       "2         0.0         1.0         0.0         0.0         0.0         0.0   \n",
       "3         0.0         0.0         0.0         0.0         0.0         0.0   \n",
       "4         0.0         0.0         0.0         0.0         0.0         0.0   \n",
       "\n",
       "   year_2000s  year_2010s  year_2020s  \n",
       "0         0.0         0.0         0.0  \n",
       "1         0.0         0.0         0.0  \n",
       "2         0.0         0.0         0.0  \n",
       "3         0.0         0.0         0.0  \n",
       "4         0.0         1.0         0.0  \n",
       "\n",
       "[5 rows x 10183 columns]"
      ]
     },
     "execution_count": 15,
     "metadata": {},
     "output_type": "execute_result"
    }
   ],
   "source": [
    "X_test_df.head()"
   ]
  },
  {
   "cell_type": "markdown",
   "metadata": {},
   "source": [
    "## Exploration"
   ]
  },
  {
   "cell_type": "code",
   "execution_count": 16,
   "metadata": {
    "ExecuteTime": {
     "end_time": "2021-03-23T16:13:37.803783Z",
     "start_time": "2021-03-23T16:13:37.761438Z"
    }
   },
   "outputs": [
    {
     "data": {
      "text/html": [
       "<div>\n",
       "<style scoped>\n",
       "    .dataframe tbody tr th:only-of-type {\n",
       "        vertical-align: middle;\n",
       "    }\n",
       "\n",
       "    .dataframe tbody tr th {\n",
       "        vertical-align: top;\n",
       "    }\n",
       "\n",
       "    .dataframe thead th {\n",
       "        text-align: right;\n",
       "    }\n",
       "</style>\n",
       "<table border=\"1\" class=\"dataframe\">\n",
       "  <thead>\n",
       "    <tr style=\"text-align: right;\">\n",
       "      <th></th>\n",
       "      <th>acousticness</th>\n",
       "      <th>danceability</th>\n",
       "      <th>duration_ms</th>\n",
       "      <th>energy</th>\n",
       "      <th>explicit</th>\n",
       "      <th>instrumentalness</th>\n",
       "      <th>key</th>\n",
       "      <th>liveness</th>\n",
       "      <th>loudness</th>\n",
       "      <th>mode</th>\n",
       "      <th>popularity</th>\n",
       "      <th>release_date</th>\n",
       "      <th>speechiness</th>\n",
       "      <th>tempo</th>\n",
       "      <th>valence</th>\n",
       "      <th>year</th>\n",
       "    </tr>\n",
       "    <tr>\n",
       "      <th>name</th>\n",
       "      <th></th>\n",
       "      <th></th>\n",
       "      <th></th>\n",
       "      <th></th>\n",
       "      <th></th>\n",
       "      <th></th>\n",
       "      <th></th>\n",
       "      <th></th>\n",
       "      <th></th>\n",
       "      <th></th>\n",
       "      <th></th>\n",
       "      <th></th>\n",
       "      <th></th>\n",
       "      <th></th>\n",
       "      <th></th>\n",
       "      <th></th>\n",
       "    </tr>\n",
       "  </thead>\n",
       "  <tbody>\n",
       "    <tr>\n",
       "      <th>Keep A Song In Your Soul</th>\n",
       "      <td>0.991000</td>\n",
       "      <td>0.598</td>\n",
       "      <td>168333</td>\n",
       "      <td>0.224</td>\n",
       "      <td>0</td>\n",
       "      <td>0.000522</td>\n",
       "      <td>5</td>\n",
       "      <td>0.3790</td>\n",
       "      <td>-12.628</td>\n",
       "      <td>0</td>\n",
       "      <td>0</td>\n",
       "      <td>1920-01-01</td>\n",
       "      <td>0.0936</td>\n",
       "      <td>149.976</td>\n",
       "      <td>0.6340</td>\n",
       "      <td>1920s</td>\n",
       "    </tr>\n",
       "    <tr>\n",
       "      <th>I Put A Spell On You</th>\n",
       "      <td>0.643000</td>\n",
       "      <td>0.852</td>\n",
       "      <td>150200</td>\n",
       "      <td>0.517</td>\n",
       "      <td>0</td>\n",
       "      <td>0.026400</td>\n",
       "      <td>5</td>\n",
       "      <td>0.0809</td>\n",
       "      <td>-7.261</td>\n",
       "      <td>0</td>\n",
       "      <td>0</td>\n",
       "      <td>1920-01-05</td>\n",
       "      <td>0.0534</td>\n",
       "      <td>86.889</td>\n",
       "      <td>0.9500</td>\n",
       "      <td>1920s</td>\n",
       "    </tr>\n",
       "    <tr>\n",
       "      <th>Golfing Papa</th>\n",
       "      <td>0.993000</td>\n",
       "      <td>0.647</td>\n",
       "      <td>163827</td>\n",
       "      <td>0.186</td>\n",
       "      <td>0</td>\n",
       "      <td>0.000018</td>\n",
       "      <td>0</td>\n",
       "      <td>0.5190</td>\n",
       "      <td>-12.098</td>\n",
       "      <td>1</td>\n",
       "      <td>0</td>\n",
       "      <td>1920-01-01</td>\n",
       "      <td>0.1740</td>\n",
       "      <td>97.600</td>\n",
       "      <td>0.6890</td>\n",
       "      <td>1920s</td>\n",
       "    </tr>\n",
       "    <tr>\n",
       "      <th>True House Music - Xavier Santos &amp; Carlos Gomix Remix</th>\n",
       "      <td>0.000173</td>\n",
       "      <td>0.730</td>\n",
       "      <td>422087</td>\n",
       "      <td>0.798</td>\n",
       "      <td>0</td>\n",
       "      <td>0.801000</td>\n",
       "      <td>2</td>\n",
       "      <td>0.1280</td>\n",
       "      <td>-7.311</td>\n",
       "      <td>1</td>\n",
       "      <td>0</td>\n",
       "      <td>1920-01-01</td>\n",
       "      <td>0.0425</td>\n",
       "      <td>127.997</td>\n",
       "      <td>0.0422</td>\n",
       "      <td>1920s</td>\n",
       "    </tr>\n",
       "    <tr>\n",
       "      <th>Xuniverxe</th>\n",
       "      <td>0.295000</td>\n",
       "      <td>0.704</td>\n",
       "      <td>165224</td>\n",
       "      <td>0.707</td>\n",
       "      <td>1</td>\n",
       "      <td>0.000246</td>\n",
       "      <td>10</td>\n",
       "      <td>0.4020</td>\n",
       "      <td>-6.036</td>\n",
       "      <td>0</td>\n",
       "      <td>0</td>\n",
       "      <td>1920-10-01</td>\n",
       "      <td>0.0768</td>\n",
       "      <td>122.076</td>\n",
       "      <td>0.2990</td>\n",
       "      <td>1920s</td>\n",
       "    </tr>\n",
       "  </tbody>\n",
       "</table>\n",
       "</div>"
      ],
      "text/plain": [
       "                                                    acousticness  \\\n",
       "name                                                               \n",
       "Keep A Song In Your Soul                                0.991000   \n",
       "I Put A Spell On You                                    0.643000   \n",
       "Golfing Papa                                            0.993000   \n",
       "True House Music - Xavier Santos & Carlos Gomix...      0.000173   \n",
       "Xuniverxe                                               0.295000   \n",
       "\n",
       "                                                    danceability  duration_ms  \\\n",
       "name                                                                            \n",
       "Keep A Song In Your Soul                                   0.598       168333   \n",
       "I Put A Spell On You                                       0.852       150200   \n",
       "Golfing Papa                                               0.647       163827   \n",
       "True House Music - Xavier Santos & Carlos Gomix...         0.730       422087   \n",
       "Xuniverxe                                                  0.704       165224   \n",
       "\n",
       "                                                    energy  explicit  \\\n",
       "name                                                                   \n",
       "Keep A Song In Your Soul                             0.224         0   \n",
       "I Put A Spell On You                                 0.517         0   \n",
       "Golfing Papa                                         0.186         0   \n",
       "True House Music - Xavier Santos & Carlos Gomix...   0.798         0   \n",
       "Xuniverxe                                            0.707         1   \n",
       "\n",
       "                                                    instrumentalness  key  \\\n",
       "name                                                                        \n",
       "Keep A Song In Your Soul                                    0.000522    5   \n",
       "I Put A Spell On You                                        0.026400    5   \n",
       "Golfing Papa                                                0.000018    0   \n",
       "True House Music - Xavier Santos & Carlos Gomix...          0.801000    2   \n",
       "Xuniverxe                                                   0.000246   10   \n",
       "\n",
       "                                                    liveness  loudness  mode  \\\n",
       "name                                                                           \n",
       "Keep A Song In Your Soul                              0.3790   -12.628     0   \n",
       "I Put A Spell On You                                  0.0809    -7.261     0   \n",
       "Golfing Papa                                          0.5190   -12.098     1   \n",
       "True House Music - Xavier Santos & Carlos Gomix...    0.1280    -7.311     1   \n",
       "Xuniverxe                                             0.4020    -6.036     0   \n",
       "\n",
       "                                                    popularity release_date  \\\n",
       "name                                                                          \n",
       "Keep A Song In Your Soul                                     0   1920-01-01   \n",
       "I Put A Spell On You                                         0   1920-01-05   \n",
       "Golfing Papa                                                 0   1920-01-01   \n",
       "True House Music - Xavier Santos & Carlos Gomix...           0   1920-01-01   \n",
       "Xuniverxe                                                    0   1920-10-01   \n",
       "\n",
       "                                                    speechiness    tempo  \\\n",
       "name                                                                       \n",
       "Keep A Song In Your Soul                                 0.0936  149.976   \n",
       "I Put A Spell On You                                     0.0534   86.889   \n",
       "Golfing Papa                                             0.1740   97.600   \n",
       "True House Music - Xavier Santos & Carlos Gomix...       0.0425  127.997   \n",
       "Xuniverxe                                                0.0768  122.076   \n",
       "\n",
       "                                                    valence   year  \n",
       "name                                                                \n",
       "Keep A Song In Your Soul                             0.6340  1920s  \n",
       "I Put A Spell On You                                 0.9500  1920s  \n",
       "Golfing Papa                                         0.6890  1920s  \n",
       "True House Music - Xavier Santos & Carlos Gomix...   0.0422  1920s  \n",
       "Xuniverxe                                            0.2990  1920s  "
      ]
     },
     "execution_count": 16,
     "metadata": {},
     "output_type": "execute_result"
    }
   ],
   "source": [
    "# Use original dataframe for this\n",
    "\n",
    "df.head()"
   ]
  },
  {
   "cell_type": "markdown",
   "metadata": {},
   "source": [
    "## Modeling"
   ]
  },
  {
   "cell_type": "markdown",
   "metadata": {},
   "source": [
    "### Class Imbalances"
   ]
  },
  {
   "cell_type": "markdown",
   "metadata": {},
   "source": [
    " Since the target classes are highly imbalanced, we're going to use an oversampling method to get a balanced sample."
   ]
  },
  {
   "cell_type": "code",
   "execution_count": 17,
   "metadata": {
    "ExecuteTime": {
     "end_time": "2021-03-23T16:13:37.820634Z",
     "start_time": "2021-03-23T16:13:37.806727Z"
    }
   },
   "outputs": [
    {
     "data": {
      "text/plain": [
       "0    133094\n",
       "1      6417\n",
       "Name: popularity, dtype: int64"
      ]
     },
     "execution_count": 17,
     "metadata": {},
     "output_type": "execute_result"
    }
   ],
   "source": [
    "y_train.value_counts()"
   ]
  },
  {
   "cell_type": "code",
   "execution_count": 18,
   "metadata": {
    "ExecuteTime": {
     "end_time": "2021-03-23T16:13:38.166194Z",
     "start_time": "2021-03-23T16:13:37.825079Z"
    }
   },
   "outputs": [],
   "source": [
    "from imblearn.over_sampling import SMOTE, RandomOverSampler"
   ]
  },
  {
   "cell_type": "code",
   "execution_count": 19,
   "metadata": {
    "ExecuteTime": {
     "end_time": "2021-03-23T16:17:51.372478Z",
     "start_time": "2021-03-23T16:13:38.169245Z"
    }
   },
   "outputs": [],
   "source": [
    "# Set the oversampler\n",
    "smote = RandomOverSampler(random_state = 30)\n",
    "\n",
    "# Create the sampled X_train, y_train\n",
    "X_train_resampled, y_train_resampled = smote.fit_resample(X_train_df, y_train)"
   ]
  },
  {
   "cell_type": "code",
   "execution_count": 20,
   "metadata": {
    "ExecuteTime": {
     "end_time": "2021-03-23T16:17:51.401927Z",
     "start_time": "2021-03-23T16:17:51.385389Z"
    }
   },
   "outputs": [
    {
     "data": {
      "text/plain": [
       "(266188, 10183)"
      ]
     },
     "execution_count": 20,
     "metadata": {},
     "output_type": "execute_result"
    }
   ],
   "source": [
    "X_train_resampled.shape"
   ]
  },
  {
   "cell_type": "code",
   "execution_count": 21,
   "metadata": {
    "ExecuteTime": {
     "end_time": "2021-03-23T16:17:51.425683Z",
     "start_time": "2021-03-23T16:17:51.405343Z"
    }
   },
   "outputs": [
    {
     "data": {
      "text/plain": [
       "1    133094\n",
       "0    133094\n",
       "Name: popularity, dtype: int64"
      ]
     },
     "execution_count": 21,
     "metadata": {},
     "output_type": "execute_result"
    }
   ],
   "source": [
    "y_train_resampled.value_counts()"
   ]
  },
  {
   "cell_type": "markdown",
   "metadata": {},
   "source": [
    "### Logistic Regression"
   ]
  },
  {
   "cell_type": "code",
   "execution_count": null,
   "metadata": {
    "ExecuteTime": {
     "start_time": "2021-03-23T16:05:28.784Z"
    }
   },
   "outputs": [],
   "source": [
    "from sklearn.linear_model import LogisticRegression"
   ]
  },
  {
   "cell_type": "markdown",
   "metadata": {},
   "source": [
    "#### Base Model"
   ]
  },
  {
   "cell_type": "code",
   "execution_count": null,
   "metadata": {
    "ExecuteTime": {
     "start_time": "2021-03-23T16:05:30.114Z"
    }
   },
   "outputs": [],
   "source": [
    "# Set model \n",
    "log = LogisticRegression(random_state = 30)\n",
    "\n",
    "# Fit model\n",
    "log.fit(X_train_resampled, y_train_resampled)\n",
    "\n",
    "# Evaluate Model\n",
    "evaluate_model(log, X_test_df, y_test)"
   ]
  },
  {
   "cell_type": "markdown",
   "metadata": {},
   "source": [
    "#### LogisticRegressionCV"
   ]
  },
  {
   "cell_type": "markdown",
   "metadata": {},
   "source": [
    "Trying this out.  Essentially Logistic Regression with built in cross validation."
   ]
  },
  {
   "cell_type": "code",
   "execution_count": null,
   "metadata": {
    "ExecuteTime": {
     "end_time": "2021-03-23T16:05:17.937421Z",
     "start_time": "2021-03-23T15:39:20.975Z"
    }
   },
   "outputs": [],
   "source": [
    "from sklearn.linear_model import LogisticRegressionCV"
   ]
  },
  {
   "cell_type": "code",
   "execution_count": null,
   "metadata": {
    "ExecuteTime": {
     "end_time": "2021-03-23T16:05:17.946261Z",
     "start_time": "2021-03-23T15:39:20.979Z"
    }
   },
   "outputs": [],
   "source": [
    "# Set model \n",
    "log_cv = LogisticRegressionCV(class_weight = 'balanced', \n",
    "                         random_state = 30)\n",
    "\n",
    "# Fit model\n",
    "log_cv.fit(X_train_resampled, y_train_resampled)\n",
    "\n",
    "# Evaluate Model\n",
    "evaluate_model(log_cv, X_test_df, y_test)"
   ]
  },
  {
   "cell_type": "markdown",
   "metadata": {},
   "source": [
    "#### Logistic Regression with Gridsearch"
   ]
  },
  {
   "cell_type": "code",
   "execution_count": null,
   "metadata": {
    "ExecuteTime": {
     "end_time": "2021-03-23T16:05:17.948046Z",
     "start_time": "2021-03-23T15:39:21.064Z"
    }
   },
   "outputs": [],
   "source": [
    "from sklearn.model_selection import GridSearchCV"
   ]
  },
  {
   "cell_type": "code",
   "execution_count": null,
   "metadata": {
    "ExecuteTime": {
     "end_time": "2021-03-23T16:05:17.950039Z",
     "start_time": "2021-03-23T15:39:21.067Z"
    }
   },
   "outputs": [],
   "source": [
    "# Set estimator \n",
    "estimator = LogisticRegression(class_weight = 'balanced',\n",
    "                            random_state = 30)\n",
    "\n",
    "# Set params \n",
    "params = {'penalty': ['l1', 'l2', 'elasticnet', 'none'],\n",
    "          'C': [0.1, 1, 10],\n",
    "          'solver': ['newton-cg','lbfgs', 'libliner', 'sag', 'saga'],\n",
    "          'max_iter': [50, 100, 250]}\n",
    "\n",
    "# Create Gridsearch\n",
    "grid = GridSearchCV(estimator = estimator,\n",
    "                    param_grid = params,\n",
    "                    n_jobs = -1, \n",
    "                    verbose = 1, \n",
    "                    cv = 3)\n",
    "\n",
    "# Fit gridsearch\n",
    "grid.fit(X_train_df, y_train)"
   ]
  },
  {
   "cell_type": "code",
   "execution_count": null,
   "metadata": {
    "ExecuteTime": {
     "end_time": "2021-03-23T16:05:17.951645Z",
     "start_time": "2021-03-23T15:39:21.071Z"
    }
   },
   "outputs": [],
   "source": [
    "# Fit the model with best parameters\n",
    "best_log_params = grid.best_params_\n",
    "best_log_model = LogisticRegression(**best_log_params,\n",
    "                                    class_weight = 'balanced',\n",
    "                                    random_state = 30)\n",
    "best_log_model.fit(X_train_resampled, y_train_resampled)\n",
    "\n",
    "# Evaluate model\n",
    "evaluate_model(best_log_model, X_test_df, y_test)"
   ]
  },
  {
   "cell_type": "markdown",
   "metadata": {},
   "source": [
    "### Naive Bayes"
   ]
  },
  {
   "cell_type": "markdown",
   "metadata": {},
   "source": [
    "#### GaussianNB"
   ]
  },
  {
   "cell_type": "code",
   "execution_count": null,
   "metadata": {
    "ExecuteTime": {
     "end_time": "2021-03-23T16:05:17.953206Z",
     "start_time": "2021-03-23T15:39:21.275Z"
    }
   },
   "outputs": [],
   "source": [
    "from sklearn.naive_bayes import GaussianNB"
   ]
  },
  {
   "cell_type": "code",
   "execution_count": null,
   "metadata": {
    "ExecuteTime": {
     "end_time": "2021-03-23T16:05:17.955232Z",
     "start_time": "2021-03-23T15:39:21.279Z"
    }
   },
   "outputs": [],
   "source": [
    "# Set Model\n",
    "gaussian = GaussianNB()\n",
    "\n",
    "# Fit model\n",
    "gaussian.fit(X_train_resampled, y_train_resampled)\n",
    "\n",
    "# Evaluate\n",
    "evaluate_model(gaussian, X_test_df, y_test)"
   ]
  },
  {
   "cell_type": "markdown",
   "metadata": {},
   "source": [
    "#### ComplementNB"
   ]
  },
  {
   "cell_type": "code",
   "execution_count": null,
   "metadata": {
    "ExecuteTime": {
     "end_time": "2021-03-23T16:05:17.956612Z",
     "start_time": "2021-03-23T15:39:21.382Z"
    }
   },
   "outputs": [],
   "source": [
    "from sklearn.naive_bayes import BernoulliNB"
   ]
  },
  {
   "cell_type": "code",
   "execution_count": null,
   "metadata": {
    "ExecuteTime": {
     "end_time": "2021-03-23T16:05:17.958455Z",
     "start_time": "2021-03-23T15:39:21.386Z"
    }
   },
   "outputs": [],
   "source": [
    "# Set Model\n",
    "bernoulli = BernoulliNB()\n",
    "\n",
    "# Fit model\n",
    "bernoulli.fit(X_train_resampled, y_train_resampled)\n",
    "\n",
    "# Evaluate\n",
    "evaluate_model(bernoulli, X_test_df, y_test)"
   ]
  },
  {
   "cell_type": "markdown",
   "metadata": {},
   "source": [
    "### SGD"
   ]
  },
  {
   "cell_type": "code",
   "execution_count": null,
   "metadata": {
    "ExecuteTime": {
     "end_time": "2021-03-23T16:05:17.960254Z",
     "start_time": "2021-03-23T15:39:21.511Z"
    }
   },
   "outputs": [],
   "source": [
    "from sklearn.linear_model import SGDClassifier"
   ]
  },
  {
   "cell_type": "code",
   "execution_count": null,
   "metadata": {
    "ExecuteTime": {
     "end_time": "2021-03-23T16:05:17.961643Z",
     "start_time": "2021-03-23T15:39:21.515Z"
    }
   },
   "outputs": [],
   "source": [
    "# Set model\n",
    "sgd = SGDClassifier(class_weight = 'balanced',\n",
    "                    random_state = 30)\n",
    "\n",
    "# Fit model\n",
    "sgd.fit(X_train_resampled, y_train_resampled)\n",
    "\n",
    "# Evaluate Model\n",
    "evaluate_model(sgd, X_test_df, y_test)"
   ]
  },
  {
   "cell_type": "markdown",
   "metadata": {},
   "source": [
    "### Decision Tree"
   ]
  },
  {
   "cell_type": "code",
   "execution_count": null,
   "metadata": {
    "ExecuteTime": {
     "end_time": "2021-03-23T16:05:17.963438Z",
     "start_time": "2021-03-23T15:39:21.633Z"
    }
   },
   "outputs": [],
   "source": [
    "from sklearn.tree import DecisionTreeClassifier"
   ]
  },
  {
   "cell_type": "markdown",
   "metadata": {},
   "source": [
    "#### Base Model"
   ]
  },
  {
   "cell_type": "code",
   "execution_count": null,
   "metadata": {
    "ExecuteTime": {
     "end_time": "2021-03-23T16:05:17.965273Z",
     "start_time": "2021-03-23T15:39:21.751Z"
    }
   },
   "outputs": [],
   "source": [
    "# Set model\n",
    "tree = DecisionTreeClassifier(class_weight = 'balanced',\n",
    "                              random_state = 30)\n",
    "\n",
    "# Fit model\n",
    "tree.fit(X_train_resampled, y_train_resampled)\n",
    "\n",
    "# Evaluate Model\n",
    "evaluate_model(tree, X_test_df, y_test)"
   ]
  },
  {
   "cell_type": "markdown",
   "metadata": {},
   "source": [
    "#### Gridsearch"
   ]
  },
  {
   "cell_type": "code",
   "execution_count": null,
   "metadata": {
    "ExecuteTime": {
     "end_time": "2021-03-23T16:05:17.967324Z",
     "start_time": "2021-03-23T15:39:21.859Z"
    }
   },
   "outputs": [],
   "source": [
    "estimator = DecisionTreeClassifier(class_weight = 'balanced',\n",
    "                                   random_state = 30)\n",
    "\n",
    "params = {'criterion': ['gini', 'entropy'],\n",
    "          'splitter': ['best', 'random'],\n",
    "          'max_depth': [None, 5, 10],\n",
    "          'max_features': [None, 'auto', 'sqrt', 'log2']}\n",
    "\n",
    "grid = GridSearchCV(estimator = estimator,\n",
    "                    param_grid = params, \n",
    "                    n_jobs = -1, \n",
    "                    verbose = 1,\n",
    "                    cv = 3)\n",
    "\n",
    "grid.fit(X_train_resampled, y_train_resampled)"
   ]
  },
  {
   "cell_type": "code",
   "execution_count": null,
   "metadata": {
    "ExecuteTime": {
     "end_time": "2021-03-23T16:05:17.970066Z",
     "start_time": "2021-03-23T15:39:21.862Z"
    }
   },
   "outputs": [],
   "source": [
    "# Fit the model with best parameters\n",
    "best_tree_params = grid.best_params_\n",
    "best_tree_model = DecisionTreeClassifier(**best_tree_params,\n",
    "                                         class_weight = 'balanced',\n",
    "                                         random_state = 30)\n",
    "best_tree_model.fit(X_train_df, y_train)\n",
    "\n",
    "# Evaluate model\n",
    "evaluate_model(best_tree_model, X_test_df, y_test)"
   ]
  },
  {
   "cell_type": "markdown",
   "metadata": {},
   "source": [
    "### Support Vector Machines"
   ]
  },
  {
   "cell_type": "markdown",
   "metadata": {},
   "source": [
    "#### SVC"
   ]
  },
  {
   "cell_type": "code",
   "execution_count": null,
   "metadata": {
    "ExecuteTime": {
     "end_time": "2021-03-23T16:05:17.971192Z",
     "start_time": "2021-03-23T15:39:22.070Z"
    }
   },
   "outputs": [],
   "source": [
    "from sklearn.svm import SVC"
   ]
  },
  {
   "cell_type": "code",
   "execution_count": null,
   "metadata": {
    "ExecuteTime": {
     "end_time": "2021-03-23T16:05:17.972353Z",
     "start_time": "2021-03-23T15:39:22.074Z"
    }
   },
   "outputs": [],
   "source": [
    "# Set Model\n",
    "svc = SVC(class_weight = 'balanced')\n",
    "\n",
    "# Fit model\n",
    "svc.fit(X_train_resampled, y_train_resampled)\n",
    "\n",
    "# Evaluate Model\n",
    "evaluate_model(svc, X_test_df, y_test)"
   ]
  },
  {
   "cell_type": "markdown",
   "metadata": {},
   "source": [
    "#### SVC with Gridsearch"
   ]
  },
  {
   "cell_type": "markdown",
   "metadata": {},
   "source": [
    "Took forever - 6+ hours. Will revisit later on.  Code is here in the markdown."
   ]
  },
  {
   "cell_type": "markdown",
   "metadata": {
    "ExecuteTime": {
     "end_time": "2021-03-21T18:17:48.107262Z",
     "start_time": "2021-03-21T15:38:49.734729Z"
    }
   },
   "source": [
    "```python\n",
    "# Set Estimator\n",
    "estimator = SVC(class_weight = 'balanced')\n",
    "\n",
    "# Set params\n",
    "params = {'C': [0.1, 1.0],\n",
    "          'kernel': ['linear', 'rbf'],\n",
    "          'gamma': ['scale', 'auto'],\n",
    "          'decision_function_shape': ['ovo', 'ovr']}\n",
    "\n",
    "grid = GridSearchCV(estimator = estimator,\n",
    "                    param_grid = params,\n",
    "                    cv = 3, \n",
    "                    scoring = 'recall',\n",
    "                    verbose = 1,\n",
    "                    n_jobs = -1)\n",
    "\n",
    "# fit the thing\n",
    "grid.fit(X_train_df, y_train)```"
   ]
  },
  {
   "cell_type": "markdown",
   "metadata": {},
   "source": [
    "### AdaBoost"
   ]
  },
  {
   "cell_type": "code",
   "execution_count": null,
   "metadata": {
    "ExecuteTime": {
     "end_time": "2021-03-23T16:05:17.973442Z",
     "start_time": "2021-03-23T15:39:22.622Z"
    }
   },
   "outputs": [],
   "source": [
    "from sklearn.ensemble import AdaBoostClassifier"
   ]
  },
  {
   "cell_type": "code",
   "execution_count": null,
   "metadata": {
    "ExecuteTime": {
     "end_time": "2021-03-23T16:05:17.974494Z",
     "start_time": "2021-03-23T15:39:22.627Z"
    }
   },
   "outputs": [],
   "source": [
    "# Set model\n",
    "ada = AdaBoostClassifier()\n",
    "\n",
    "# Fit model\n",
    "ada.fit(X_train_resampled, y_train_resampled)\n",
    "\n",
    "# Evaluate model\n",
    "evaluate_model(ada, X_test_df, y_test)"
   ]
  },
  {
   "cell_type": "markdown",
   "metadata": {},
   "source": [
    "### Random Forest"
   ]
  },
  {
   "cell_type": "code",
   "execution_count": null,
   "metadata": {
    "ExecuteTime": {
     "end_time": "2021-03-23T16:05:17.977500Z",
     "start_time": "2021-03-23T15:39:22.740Z"
    }
   },
   "outputs": [],
   "source": [
    "from sklearn.ensemble import RandomForestClassifier"
   ]
  },
  {
   "cell_type": "markdown",
   "metadata": {},
   "source": [
    "#### Base Model"
   ]
  },
  {
   "cell_type": "code",
   "execution_count": null,
   "metadata": {
    "ExecuteTime": {
     "end_time": "2021-03-23T16:05:17.982079Z",
     "start_time": "2021-03-23T15:39:22.845Z"
    }
   },
   "outputs": [],
   "source": [
    "# Set model\n",
    "rf = RandomForestClassifier(class_weight = 'balanced', \n",
    "                            random_state = 30)\n",
    "\n",
    "# Fit Model\n",
    "rf.fit(X_train_resampled, y_train_resampled)\n",
    "\n",
    "# Evaluate Model\n",
    "evaluate_model(rf, X_test_df, y_test)"
   ]
  },
  {
   "cell_type": "markdown",
   "metadata": {},
   "source": [
    "#### Random Forest with Gridsearch"
   ]
  },
  {
   "cell_type": "code",
   "execution_count": null,
   "metadata": {
    "ExecuteTime": {
     "end_time": "2021-03-23T16:05:17.983338Z",
     "start_time": "2021-03-23T15:39:22.961Z"
    }
   },
   "outputs": [],
   "source": [
    "# Set estimator \n",
    "estimator = RandomForestClassifier(class_weight = 'balanced',\n",
    "                                   random_state = 30)\n",
    "\n",
    "# Set params \n",
    "params = {'n_estimators': [50, 100, 250, 500],\n",
    "          'criterion': ['gini', 'entropy'],\n",
    "          'max_features': ['auto','sqrt', 'log2'],\n",
    "          'max_depth': [None, 10, 100]}\n",
    "\n",
    "# Create Gridsearch\n",
    "grid = GridSearchCV(estimator = estimator,\n",
    "                    param_grid = params,\n",
    "                    n_jobs = -1, \n",
    "                    verbose = 1, \n",
    "                    cv = 3)\n",
    "\n",
    "# Fit gridsearch\n",
    "grid.fit(X_train_resampled, y_train_resampled)"
   ]
  },
  {
   "cell_type": "code",
   "execution_count": null,
   "metadata": {
    "ExecuteTime": {
     "end_time": "2021-03-23T16:05:17.986503Z",
     "start_time": "2021-03-23T15:39:22.966Z"
    }
   },
   "outputs": [],
   "source": [
    "# Fit the model with best parameters\n",
    "best_rf_params = grid.best_params_\n",
    "best_rf_model = RandomForestClassifier(**best_rf_params,\n",
    "                                       class_weight = 'balanced',\n",
    "                                       random_state = 30)\n",
    "best_rf_model.fit(X_train_resampled, y_train_resampled)\n",
    "\n",
    "# Evaluate model\n",
    "evaluate_model(best_rf_model, X_test_df, y_test)"
   ]
  },
  {
   "cell_type": "markdown",
   "metadata": {},
   "source": [
    "### XGBoost"
   ]
  },
  {
   "cell_type": "code",
   "execution_count": null,
   "metadata": {
    "ExecuteTime": {
     "end_time": "2021-03-23T16:05:17.988142Z",
     "start_time": "2021-03-23T15:39:23.146Z"
    }
   },
   "outputs": [],
   "source": [
    "from xgboost import XGBClassifier"
   ]
  },
  {
   "cell_type": "markdown",
   "metadata": {},
   "source": [
    "#### Base Model"
   ]
  },
  {
   "cell_type": "code",
   "execution_count": null,
   "metadata": {
    "ExecuteTime": {
     "end_time": "2021-03-23T16:05:17.989406Z",
     "start_time": "2021-03-23T15:39:23.277Z"
    }
   },
   "outputs": [],
   "source": [
    "# Set model\n",
    "xgb = XGBClassifier()\n",
    "\n",
    "# Fit model\n",
    "xgb.fit(X_train_resampled, y_train_resampled)\n",
    "\n",
    "# Evaluate Model\n",
    "evaluate_model(xgb, X_test_df, y_test)"
   ]
  },
  {
   "cell_type": "markdown",
   "metadata": {},
   "source": [
    "### Neural Network"
   ]
  },
  {
   "cell_type": "code",
   "execution_count": 22,
   "metadata": {
    "ExecuteTime": {
     "end_time": "2021-03-23T16:20:46.438577Z",
     "start_time": "2021-03-23T16:20:42.083686Z"
    }
   },
   "outputs": [],
   "source": [
    "import tensorflow as tf\n",
    "from tensorflow.keras.models import Sequential\n",
    "from tensorflow.keras.layers import Dense, Dropout, Bidirectional\n",
    "from tensorflow.keras.callbacks import Callback, EarlyStopping"
   ]
  },
  {
   "cell_type": "markdown",
   "metadata": {},
   "source": [
    "#### Super Basic Model"
   ]
  },
  {
   "cell_type": "code",
   "execution_count": null,
   "metadata": {
    "ExecuteTime": {
     "start_time": "2021-03-23T16:20:47.732Z"
    }
   },
   "outputs": [],
   "source": [
    "# Set Callback\n",
    "callback = EarlyStopping(monitor = 'val_accuracy', patience = 5, mode = 'max',\n",
    "                         min_delta = 0.01, restore_best_weights = True)\n",
    "\n",
    "# Set model\n",
    "model = Sequential()\n",
    "\n",
    "# Input layer\n",
    "model.add(Dense(128, input_dim = X_train_df.shape[1], activation = 'tanh',\n",
    "                kernel_regularizer = tf.keras.regularizers.L1(0.3)))\n",
    "\n",
    "# Hidden Layers\n",
    "model.add(Dense(64, activation = 'tanh'))\n",
    "model.add(Dropout(0.2))\n",
    "\n",
    "model.add(Dense(32, activation = 'tanh'))\n",
    "model.add(Dropout(0.2))\n",
    "\n",
    "model.add(Dense(16, activation = 'tanh'))\n",
    "model.add(Dropout(0.2))\n",
    "\n",
    "# Output Layer\n",
    "model.add(Dense(1, activation = 'sigmoid'))\n",
    "\n",
    "# Compile\n",
    "model.compile(optimizer = 'adagrad', loss = 'binary_crossentropy', metrics = 'accuracy')\n",
    "\n",
    "# Fit the model\n",
    "history = model.fit(X_train_resampled, y_train_resampled, batch_size = 8, epochs = 50, \n",
    "                    validation_split = 0.3, callbacks = callback)\n",
    "\n",
    "# Evaluate Model\n",
    "evaluate_network(history, model, X_test_df, y_test)"
   ]
  },
  {
   "cell_type": "markdown",
   "metadata": {},
   "source": [
    "## Interpret"
   ]
  },
  {
   "cell_type": "markdown",
   "metadata": {},
   "source": [
    "For the moment, let's just use our logistic regression model to extract some preliminary feature importances."
   ]
  },
  {
   "cell_type": "markdown",
   "metadata": {},
   "source": [
    "### Feature Importances"
   ]
  },
  {
   "cell_type": "code",
   "execution_count": null,
   "metadata": {
    "ExecuteTime": {
     "end_time": "2021-03-23T16:05:17.994223Z",
     "start_time": "2021-03-23T15:39:24.053Z"
    }
   },
   "outputs": [],
   "source": [
    "log.coef_"
   ]
  },
  {
   "cell_type": "code",
   "execution_count": null,
   "metadata": {
    "ExecuteTime": {
     "end_time": "2021-03-23T16:05:17.995268Z",
     "start_time": "2021-03-23T15:39:24.058Z"
    }
   },
   "outputs": [],
   "source": [
    "# # Pull feature importances\n",
    "# features_dict = {'Features': X_train_df.columns,\n",
    "#                  'Importance': )}\n",
    "\n",
    "# # Convert to a dataframe\n",
    "# feature_importance = pd.DataFrame(features_dict, columns = ['Features', 'Importance'])\n",
    "\n",
    "# print(feature_importance.shape)\n",
    "# feature_importance.head(10)"
   ]
  },
  {
   "cell_type": "markdown",
   "metadata": {},
   "source": [
    "### SHAP"
   ]
  },
  {
   "cell_type": "code",
   "execution_count": null,
   "metadata": {
    "ExecuteTime": {
     "end_time": "2021-03-23T16:05:17.999987Z",
     "start_time": "2021-03-23T15:39:24.228Z"
    }
   },
   "outputs": [],
   "source": [
    "import shap"
   ]
  },
  {
   "cell_type": "code",
   "execution_count": null,
   "metadata": {
    "ExecuteTime": {
     "end_time": "2021-03-23T16:05:18.001167Z",
     "start_time": "2021-03-23T15:39:24.233Z"
    }
   },
   "outputs": [],
   "source": [
    "# Setting up SHAP\n",
    "\n",
    "X_shap = shap.sample(X_train_df, 100)\n",
    "explainer = shap.LinearExplainer(log, X_train_df)\n",
    "shap_values = explainer.shap_values(X_shap)"
   ]
  },
  {
   "cell_type": "code",
   "execution_count": null,
   "metadata": {
    "ExecuteTime": {
     "end_time": "2021-03-23T16:05:18.003151Z",
     "start_time": "2021-03-23T15:39:24.238Z"
    }
   },
   "outputs": [],
   "source": [
    "fig = shap.summary_plot(shap_values, X_shap, plot_type = 'bar')"
   ]
  },
  {
   "cell_type": "code",
   "execution_count": null,
   "metadata": {
    "ExecuteTime": {
     "end_time": "2021-03-23T16:05:18.004500Z",
     "start_time": "2021-03-23T15:39:24.243Z"
    }
   },
   "outputs": [],
   "source": [
    "shap.summary_plot(shap_values, X_shap)"
   ]
  },
  {
   "cell_type": "markdown",
   "metadata": {},
   "source": [
    "## Conclusion"
   ]
  },
  {
   "cell_type": "code",
   "execution_count": null,
   "metadata": {},
   "outputs": [],
   "source": []
  }
 ],
 "metadata": {
  "kernelspec": {
   "display_name": "Python [conda env:learn-env] *",
   "language": "python",
   "name": "conda-env-learn-env-py"
  },
  "language_info": {
   "codemirror_mode": {
    "name": "ipython",
    "version": 3
   },
   "file_extension": ".py",
   "mimetype": "text/x-python",
   "name": "python",
   "nbconvert_exporter": "python",
   "pygments_lexer": "ipython3",
   "version": "3.6.9"
  },
  "toc": {
   "base_numbering": 1,
   "nav_menu": {},
   "number_sections": true,
   "sideBar": true,
   "skip_h1_title": false,
   "title_cell": "Table of Contents",
   "title_sidebar": "Contents",
   "toc_cell": false,
   "toc_position": {
    "height": "calc(100% - 180px)",
    "left": "10px",
    "top": "150px",
    "width": "426.667px"
   },
   "toc_section_display": true,
   "toc_window_display": true
  }
 },
 "nbformat": 4,
 "nbformat_minor": 2
}
