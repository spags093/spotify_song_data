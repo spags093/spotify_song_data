{
 "cells": [
  {
   "cell_type": "markdown",
   "metadata": {},
   "source": [
    "# Spotify Song Data - Binary Classification"
   ]
  },
  {
   "cell_type": "markdown",
   "metadata": {},
   "source": [
    "This is a binary classification project that uses a dataset of Spotify song data to determine what features make a song popular on the platform, aka a hit song."
   ]
  },
  {
   "cell_type": "markdown",
   "metadata": {},
   "source": [
    "## Introduction"
   ]
  },
  {
   "cell_type": "markdown",
   "metadata": {},
   "source": [
    "### Imports"
   ]
  },
  {
   "cell_type": "code",
   "execution_count": 17,
   "metadata": {
    "ExecuteTime": {
     "end_time": "2021-03-19T15:30:57.337254Z",
     "start_time": "2021-03-19T15:30:57.328525Z"
    }
   },
   "outputs": [],
   "source": [
    "# Regulars\n",
    "import numpy as np\n",
    "import pandas as pd\n",
    "import seaborn as sns\n",
    "import matplotlib.pyplot as plt\n",
    "%matplotlib inline\n",
    "\n",
    "# Model evaluation\n",
    "from sklearn.metrics import confusion_matrix, plot_confusion_matrix\n",
    "from sklearn.metrics import classification_report, plot_roc_curve"
   ]
  },
  {
   "cell_type": "code",
   "execution_count": 18,
   "metadata": {
    "ExecuteTime": {
     "end_time": "2021-03-19T15:30:57.388454Z",
     "start_time": "2021-03-19T15:30:57.343810Z"
    }
   },
   "outputs": [
    {
     "name": "stderr",
     "output_type": "stream",
     "text": [
      "/Users/spags/opt/anaconda3/envs/learn-env/lib/python3.6/site-packages/ipykernel_launcher.py:4: TqdmDeprecationWarning: This function will be removed in tqdm==5.0.0\n",
      "Please use `tqdm.notebook.tqdm` instead of `tqdm.tqdm_notebook`\n",
      "  after removing the cwd from sys.path.\n"
     ]
    },
    {
     "data": {
      "application/vnd.jupyter.widget-view+json": {
       "model_id": "5c4a2002d1534e689d2c0791919f519c",
       "version_major": 2,
       "version_minor": 0
      },
      "text/plain": [
       "0it [00:00, ?it/s]"
      ]
     },
     "metadata": {},
     "output_type": "display_data"
    }
   ],
   "source": [
    "# tqdm\n",
    "# %%capture\n",
    "from tqdm import tqdm_notebook as tqdm\n",
    "tqdm().pandas()"
   ]
  },
  {
   "cell_type": "markdown",
   "metadata": {},
   "source": [
    "### Functions"
   ]
  },
  {
   "cell_type": "markdown",
   "metadata": {},
   "source": [
    "#### Processing Functions"
   ]
  },
  {
   "cell_type": "code",
   "execution_count": 19,
   "metadata": {
    "ExecuteTime": {
     "end_time": "2021-03-19T15:30:57.554123Z",
     "start_time": "2021-03-19T15:30:57.548730Z"
    }
   },
   "outputs": [],
   "source": [
    "def get_info(df):\n",
    "    '''Simple function that takes in a full dataframe and returns\n",
    "    some basic information about the countents of the dataframe.'''\n",
    "    \n",
    "    print('Shape of DataFrame:\\n', df.shape)\n",
    "    print('\\nDataFrame Info:')\n",
    "    print(df.info())\n",
    "    print('\\n Null Values Present:\\n', df.isna().sum())"
   ]
  },
  {
   "cell_type": "markdown",
   "metadata": {},
   "source": [
    "#### Plotting Functions"
   ]
  },
  {
   "cell_type": "markdown",
   "metadata": {},
   "source": [
    "##### Scikit-Learn Evaluations"
   ]
  },
  {
   "cell_type": "code",
   "execution_count": 20,
   "metadata": {
    "ExecuteTime": {
     "end_time": "2021-03-19T15:30:57.767073Z",
     "start_time": "2021-03-19T15:30:57.757696Z"
    }
   },
   "outputs": [],
   "source": [
    "def evaluate_model(model, X_test, y_test):\n",
    "    '''Evaluates a scikit-learn classification model and displays a classification report, \n",
    "    a confusion matrix, and a ROC-AUC plot.\n",
    "    \n",
    "    -----------\n",
    "    Parameters\n",
    "    -----------\n",
    "    model - the model you want to evaluate\n",
    "    \n",
    "    X_test - Dataset used in testing the model \n",
    "    \n",
    "    y_test - Label used for predictions and evaluation the model'''\n",
    "    \n",
    "    # Predictions\n",
    "    y_hat_test = model.predict(X_test)\n",
    "    \n",
    "    # Classification Report\n",
    "    print('--------- Classification Report ----------\\n')\n",
    "    print(classification_report(y_test, y_hat_test))\n",
    "    \n",
    "    # Confusion Matrix\n",
    "    fig, axes = plt.subplots(figsize = (12, 6), ncols = 2)\n",
    "    plot_confusion_matrix(model, X_test, y_test, normalize = 'true',\n",
    "                          cmap = 'Blues', ax = axes[0])\n",
    "    \n",
    "    # ROC-AUC Curve\n",
    "    roc_auc_plot = plot_roc_curve(model, X_test, y_test, ax = axes[1])\n",
    "    axes[1].legend()\n",
    "    axes[1].plot([0,1], [0,1], ls = ':')\n",
    "    axes[1].grid()\n",
    "    axes[1].set_title('ROC-AUC Plot')\n",
    "    fig.tight_layout()\n",
    "    plt.show()"
   ]
  },
  {
   "cell_type": "markdown",
   "metadata": {},
   "source": [
    "##### Tensorflow Evaluations"
   ]
  },
  {
   "cell_type": "code",
   "execution_count": 21,
   "metadata": {
    "ExecuteTime": {
     "end_time": "2021-03-19T15:30:57.891046Z",
     "start_time": "2021-03-19T15:30:57.875064Z"
    }
   },
   "outputs": [],
   "source": [
    "def network_eval_plots(results):\n",
    "    history = results.history\n",
    "    \n",
    "    # Loss\n",
    "    plt.figure()\n",
    "    plt.plot(history['val_loss'])\n",
    "    plt.plot(history['loss'])\n",
    "    plt.legend(['val_loss', 'loss'])\n",
    "    plt.title('Loss')\n",
    "    plt.xlabel('Epochs')\n",
    "    plt.ylabel('Loss')\n",
    "    plt.show()\n",
    "    \n",
    "    # Accuracy\n",
    "    plt.figure()\n",
    "    plt.plot(history['val_accuracy'])\n",
    "    plt.plot(history['accuracy'])\n",
    "    plt.legend(['val_accuracy', 'accuracy'])\n",
    "    plt.title('Accuracy')\n",
    "    plt.xlabel('Epochs')\n",
    "    plt.ylabel('Accuracy')\n",
    "    plt.show()\n",
    "    \n",
    "    \n",
    "def nn_confusion_matrix(y_test, preds):\n",
    "    labels = ['Hit', 'Dud']\n",
    "    cm = confusion_matrix(y_test, preds, normalize = 'true')\n",
    "    ax = plt.figure(figsize = (6, 6))\n",
    "    ax = sns.heatmap(cm, cmap = 'Blues', annot = True, \n",
    "                     xticklabels = labels, yticklabels = labels)\n",
    "    ax.set_ylim([0,2])\n",
    "    \n",
    "    \n",
    "def evaluate_network(results, model, X_test, y_test):\n",
    "    preds = model.predict(X_test).round()\n",
    "    print('                 Model Evaluation')\n",
    "    print('-------------------------------------------------------')\n",
    "    print(model.evaluate(X_test, y_test))\n",
    "    print(' ')\n",
    "    print('                 Loss & Accuracy Curves')\n",
    "    print('-------------------------------------------------------')\n",
    "    network_eval_plots(results)\n",
    "    print(' ')\n",
    "    print('                 Classification Report')\n",
    "    print('-------------------------------------------------------')\n",
    "    print(classification_report(y_test, preds))\n",
    "    print(' ')    \n",
    "    print('                 Confusion Matrix')\n",
    "    print('-------------------------------------------------------')\n",
    "    nn_confusion_matrix(y_test, preds)    "
   ]
  },
  {
   "cell_type": "markdown",
   "metadata": {},
   "source": [
    "## Obtain"
   ]
  },
  {
   "cell_type": "markdown",
   "metadata": {},
   "source": [
    "### Import Dataset"
   ]
  },
  {
   "cell_type": "code",
   "execution_count": 22,
   "metadata": {
    "ExecuteTime": {
     "end_time": "2021-03-19T15:30:59.029831Z",
     "start_time": "2021-03-19T15:30:58.063530Z"
    }
   },
   "outputs": [
    {
     "name": "stdout",
     "output_type": "stream",
     "text": [
      "(174389, 19)\n"
     ]
    },
    {
     "data": {
      "text/html": [
       "<div>\n",
       "<style scoped>\n",
       "    .dataframe tbody tr th:only-of-type {\n",
       "        vertical-align: middle;\n",
       "    }\n",
       "\n",
       "    .dataframe tbody tr th {\n",
       "        vertical-align: top;\n",
       "    }\n",
       "\n",
       "    .dataframe thead th {\n",
       "        text-align: right;\n",
       "    }\n",
       "</style>\n",
       "<table border=\"1\" class=\"dataframe\">\n",
       "  <thead>\n",
       "    <tr style=\"text-align: right;\">\n",
       "      <th></th>\n",
       "      <th>acousticness</th>\n",
       "      <th>artists</th>\n",
       "      <th>danceability</th>\n",
       "      <th>duration_ms</th>\n",
       "      <th>energy</th>\n",
       "      <th>explicit</th>\n",
       "      <th>id</th>\n",
       "      <th>instrumentalness</th>\n",
       "      <th>key</th>\n",
       "      <th>liveness</th>\n",
       "      <th>loudness</th>\n",
       "      <th>mode</th>\n",
       "      <th>name</th>\n",
       "      <th>popularity</th>\n",
       "      <th>release_date</th>\n",
       "      <th>speechiness</th>\n",
       "      <th>tempo</th>\n",
       "      <th>valence</th>\n",
       "      <th>year</th>\n",
       "    </tr>\n",
       "  </thead>\n",
       "  <tbody>\n",
       "    <tr>\n",
       "      <th>0</th>\n",
       "      <td>0.991000</td>\n",
       "      <td>['Mamie Smith']</td>\n",
       "      <td>0.598</td>\n",
       "      <td>168333</td>\n",
       "      <td>0.224</td>\n",
       "      <td>0</td>\n",
       "      <td>0cS0A1fUEUd1EW3FcF8AEI</td>\n",
       "      <td>0.000522</td>\n",
       "      <td>5</td>\n",
       "      <td>0.3790</td>\n",
       "      <td>-12.628</td>\n",
       "      <td>0</td>\n",
       "      <td>Keep A Song In Your Soul</td>\n",
       "      <td>12</td>\n",
       "      <td>1920</td>\n",
       "      <td>0.0936</td>\n",
       "      <td>149.976</td>\n",
       "      <td>0.6340</td>\n",
       "      <td>1920</td>\n",
       "    </tr>\n",
       "    <tr>\n",
       "      <th>1</th>\n",
       "      <td>0.643000</td>\n",
       "      <td>[\"Screamin' Jay Hawkins\"]</td>\n",
       "      <td>0.852</td>\n",
       "      <td>150200</td>\n",
       "      <td>0.517</td>\n",
       "      <td>0</td>\n",
       "      <td>0hbkKFIJm7Z05H8Zl9w30f</td>\n",
       "      <td>0.026400</td>\n",
       "      <td>5</td>\n",
       "      <td>0.0809</td>\n",
       "      <td>-7.261</td>\n",
       "      <td>0</td>\n",
       "      <td>I Put A Spell On You</td>\n",
       "      <td>7</td>\n",
       "      <td>1920-01-05</td>\n",
       "      <td>0.0534</td>\n",
       "      <td>86.889</td>\n",
       "      <td>0.9500</td>\n",
       "      <td>1920</td>\n",
       "    </tr>\n",
       "    <tr>\n",
       "      <th>2</th>\n",
       "      <td>0.993000</td>\n",
       "      <td>['Mamie Smith']</td>\n",
       "      <td>0.647</td>\n",
       "      <td>163827</td>\n",
       "      <td>0.186</td>\n",
       "      <td>0</td>\n",
       "      <td>11m7laMUgmOKqI3oYzuhne</td>\n",
       "      <td>0.000018</td>\n",
       "      <td>0</td>\n",
       "      <td>0.5190</td>\n",
       "      <td>-12.098</td>\n",
       "      <td>1</td>\n",
       "      <td>Golfing Papa</td>\n",
       "      <td>4</td>\n",
       "      <td>1920</td>\n",
       "      <td>0.1740</td>\n",
       "      <td>97.600</td>\n",
       "      <td>0.6890</td>\n",
       "      <td>1920</td>\n",
       "    </tr>\n",
       "    <tr>\n",
       "      <th>3</th>\n",
       "      <td>0.000173</td>\n",
       "      <td>['Oscar Velazquez']</td>\n",
       "      <td>0.730</td>\n",
       "      <td>422087</td>\n",
       "      <td>0.798</td>\n",
       "      <td>0</td>\n",
       "      <td>19Lc5SfJJ5O1oaxY0fpwfh</td>\n",
       "      <td>0.801000</td>\n",
       "      <td>2</td>\n",
       "      <td>0.1280</td>\n",
       "      <td>-7.311</td>\n",
       "      <td>1</td>\n",
       "      <td>True House Music - Xavier Santos &amp; Carlos Gomi...</td>\n",
       "      <td>17</td>\n",
       "      <td>1920-01-01</td>\n",
       "      <td>0.0425</td>\n",
       "      <td>127.997</td>\n",
       "      <td>0.0422</td>\n",
       "      <td>1920</td>\n",
       "    </tr>\n",
       "    <tr>\n",
       "      <th>4</th>\n",
       "      <td>0.295000</td>\n",
       "      <td>['Mixe']</td>\n",
       "      <td>0.704</td>\n",
       "      <td>165224</td>\n",
       "      <td>0.707</td>\n",
       "      <td>1</td>\n",
       "      <td>2hJjbsLCytGsnAHfdsLejp</td>\n",
       "      <td>0.000246</td>\n",
       "      <td>10</td>\n",
       "      <td>0.4020</td>\n",
       "      <td>-6.036</td>\n",
       "      <td>0</td>\n",
       "      <td>Xuniverxe</td>\n",
       "      <td>2</td>\n",
       "      <td>1920-10-01</td>\n",
       "      <td>0.0768</td>\n",
       "      <td>122.076</td>\n",
       "      <td>0.2990</td>\n",
       "      <td>1920</td>\n",
       "    </tr>\n",
       "  </tbody>\n",
       "</table>\n",
       "</div>"
      ],
      "text/plain": [
       "   acousticness                    artists  danceability  duration_ms  energy  \\\n",
       "0      0.991000            ['Mamie Smith']         0.598       168333   0.224   \n",
       "1      0.643000  [\"Screamin' Jay Hawkins\"]         0.852       150200   0.517   \n",
       "2      0.993000            ['Mamie Smith']         0.647       163827   0.186   \n",
       "3      0.000173        ['Oscar Velazquez']         0.730       422087   0.798   \n",
       "4      0.295000                   ['Mixe']         0.704       165224   0.707   \n",
       "\n",
       "   explicit                      id  instrumentalness  key  liveness  \\\n",
       "0         0  0cS0A1fUEUd1EW3FcF8AEI          0.000522    5    0.3790   \n",
       "1         0  0hbkKFIJm7Z05H8Zl9w30f          0.026400    5    0.0809   \n",
       "2         0  11m7laMUgmOKqI3oYzuhne          0.000018    0    0.5190   \n",
       "3         0  19Lc5SfJJ5O1oaxY0fpwfh          0.801000    2    0.1280   \n",
       "4         1  2hJjbsLCytGsnAHfdsLejp          0.000246   10    0.4020   \n",
       "\n",
       "   loudness  mode                                               name  \\\n",
       "0   -12.628     0                           Keep A Song In Your Soul   \n",
       "1    -7.261     0                               I Put A Spell On You   \n",
       "2   -12.098     1                                       Golfing Papa   \n",
       "3    -7.311     1  True House Music - Xavier Santos & Carlos Gomi...   \n",
       "4    -6.036     0                                          Xuniverxe   \n",
       "\n",
       "   popularity release_date  speechiness    tempo  valence  year  \n",
       "0          12         1920       0.0936  149.976   0.6340  1920  \n",
       "1           7   1920-01-05       0.0534   86.889   0.9500  1920  \n",
       "2           4         1920       0.1740   97.600   0.6890  1920  \n",
       "3          17   1920-01-01       0.0425  127.997   0.0422  1920  \n",
       "4           2   1920-10-01       0.0768  122.076   0.2990  1920  "
      ]
     },
     "execution_count": 22,
     "metadata": {},
     "output_type": "execute_result"
    }
   ],
   "source": [
    "df = pd.read_csv('spotify_song_data.csv')\n",
    "print(df.shape)\n",
    "df.head()"
   ]
  },
  {
   "cell_type": "markdown",
   "metadata": {},
   "source": [
    "## Data Cleaning"
   ]
  },
  {
   "cell_type": "code",
   "execution_count": 23,
   "metadata": {
    "ExecuteTime": {
     "end_time": "2021-03-19T15:30:59.138923Z",
     "start_time": "2021-03-19T15:30:59.032508Z"
    }
   },
   "outputs": [
    {
     "name": "stdout",
     "output_type": "stream",
     "text": [
      "Shape of DataFrame:\n",
      " (174389, 19)\n",
      "\n",
      "DataFrame Info:\n",
      "<class 'pandas.core.frame.DataFrame'>\n",
      "RangeIndex: 174389 entries, 0 to 174388\n",
      "Data columns (total 19 columns):\n",
      " #   Column            Non-Null Count   Dtype  \n",
      "---  ------            --------------   -----  \n",
      " 0   acousticness      174389 non-null  float64\n",
      " 1   artists           174389 non-null  object \n",
      " 2   danceability      174389 non-null  float64\n",
      " 3   duration_ms       174389 non-null  int64  \n",
      " 4   energy            174389 non-null  float64\n",
      " 5   explicit          174389 non-null  int64  \n",
      " 6   id                174389 non-null  object \n",
      " 7   instrumentalness  174389 non-null  float64\n",
      " 8   key               174389 non-null  int64  \n",
      " 9   liveness          174389 non-null  float64\n",
      " 10  loudness          174389 non-null  float64\n",
      " 11  mode              174389 non-null  int64  \n",
      " 12  name              174389 non-null  object \n",
      " 13  popularity        174389 non-null  int64  \n",
      " 14  release_date      174389 non-null  object \n",
      " 15  speechiness       174389 non-null  float64\n",
      " 16  tempo             174389 non-null  float64\n",
      " 17  valence           174389 non-null  float64\n",
      " 18  year              174389 non-null  int64  \n",
      "dtypes: float64(9), int64(6), object(4)\n",
      "memory usage: 25.3+ MB\n",
      "None\n",
      "\n",
      " Null Values Present:\n",
      " acousticness        0\n",
      "artists             0\n",
      "danceability        0\n",
      "duration_ms         0\n",
      "energy              0\n",
      "explicit            0\n",
      "id                  0\n",
      "instrumentalness    0\n",
      "key                 0\n",
      "liveness            0\n",
      "loudness            0\n",
      "mode                0\n",
      "name                0\n",
      "popularity          0\n",
      "release_date        0\n",
      "speechiness         0\n",
      "tempo               0\n",
      "valence             0\n",
      "year                0\n",
      "dtype: int64\n"
     ]
    }
   ],
   "source": [
    "# Checking out some info\n",
    "\n",
    "get_info(df)"
   ]
  },
  {
   "cell_type": "markdown",
   "metadata": {},
   "source": [
    "### Name"
   ]
  },
  {
   "cell_type": "markdown",
   "metadata": {},
   "source": [
    "Let's set the song name as the index for the dataframe"
   ]
  },
  {
   "cell_type": "code",
   "execution_count": 24,
   "metadata": {
    "ExecuteTime": {
     "end_time": "2021-03-19T15:30:59.181189Z",
     "start_time": "2021-03-19T15:30:59.141944Z"
    }
   },
   "outputs": [
    {
     "data": {
      "text/html": [
       "<div>\n",
       "<style scoped>\n",
       "    .dataframe tbody tr th:only-of-type {\n",
       "        vertical-align: middle;\n",
       "    }\n",
       "\n",
       "    .dataframe tbody tr th {\n",
       "        vertical-align: top;\n",
       "    }\n",
       "\n",
       "    .dataframe thead th {\n",
       "        text-align: right;\n",
       "    }\n",
       "</style>\n",
       "<table border=\"1\" class=\"dataframe\">\n",
       "  <thead>\n",
       "    <tr style=\"text-align: right;\">\n",
       "      <th></th>\n",
       "      <th>acousticness</th>\n",
       "      <th>artists</th>\n",
       "      <th>danceability</th>\n",
       "      <th>duration_ms</th>\n",
       "      <th>energy</th>\n",
       "      <th>explicit</th>\n",
       "      <th>id</th>\n",
       "      <th>instrumentalness</th>\n",
       "      <th>key</th>\n",
       "      <th>liveness</th>\n",
       "      <th>loudness</th>\n",
       "      <th>mode</th>\n",
       "      <th>popularity</th>\n",
       "      <th>release_date</th>\n",
       "      <th>speechiness</th>\n",
       "      <th>tempo</th>\n",
       "      <th>valence</th>\n",
       "      <th>year</th>\n",
       "    </tr>\n",
       "    <tr>\n",
       "      <th>name</th>\n",
       "      <th></th>\n",
       "      <th></th>\n",
       "      <th></th>\n",
       "      <th></th>\n",
       "      <th></th>\n",
       "      <th></th>\n",
       "      <th></th>\n",
       "      <th></th>\n",
       "      <th></th>\n",
       "      <th></th>\n",
       "      <th></th>\n",
       "      <th></th>\n",
       "      <th></th>\n",
       "      <th></th>\n",
       "      <th></th>\n",
       "      <th></th>\n",
       "      <th></th>\n",
       "      <th></th>\n",
       "    </tr>\n",
       "  </thead>\n",
       "  <tbody>\n",
       "    <tr>\n",
       "      <th>Keep A Song In Your Soul</th>\n",
       "      <td>0.991000</td>\n",
       "      <td>['Mamie Smith']</td>\n",
       "      <td>0.598</td>\n",
       "      <td>168333</td>\n",
       "      <td>0.224</td>\n",
       "      <td>0</td>\n",
       "      <td>0cS0A1fUEUd1EW3FcF8AEI</td>\n",
       "      <td>0.000522</td>\n",
       "      <td>5</td>\n",
       "      <td>0.3790</td>\n",
       "      <td>-12.628</td>\n",
       "      <td>0</td>\n",
       "      <td>12</td>\n",
       "      <td>1920</td>\n",
       "      <td>0.0936</td>\n",
       "      <td>149.976</td>\n",
       "      <td>0.6340</td>\n",
       "      <td>1920</td>\n",
       "    </tr>\n",
       "    <tr>\n",
       "      <th>I Put A Spell On You</th>\n",
       "      <td>0.643000</td>\n",
       "      <td>[\"Screamin' Jay Hawkins\"]</td>\n",
       "      <td>0.852</td>\n",
       "      <td>150200</td>\n",
       "      <td>0.517</td>\n",
       "      <td>0</td>\n",
       "      <td>0hbkKFIJm7Z05H8Zl9w30f</td>\n",
       "      <td>0.026400</td>\n",
       "      <td>5</td>\n",
       "      <td>0.0809</td>\n",
       "      <td>-7.261</td>\n",
       "      <td>0</td>\n",
       "      <td>7</td>\n",
       "      <td>1920-01-05</td>\n",
       "      <td>0.0534</td>\n",
       "      <td>86.889</td>\n",
       "      <td>0.9500</td>\n",
       "      <td>1920</td>\n",
       "    </tr>\n",
       "    <tr>\n",
       "      <th>Golfing Papa</th>\n",
       "      <td>0.993000</td>\n",
       "      <td>['Mamie Smith']</td>\n",
       "      <td>0.647</td>\n",
       "      <td>163827</td>\n",
       "      <td>0.186</td>\n",
       "      <td>0</td>\n",
       "      <td>11m7laMUgmOKqI3oYzuhne</td>\n",
       "      <td>0.000018</td>\n",
       "      <td>0</td>\n",
       "      <td>0.5190</td>\n",
       "      <td>-12.098</td>\n",
       "      <td>1</td>\n",
       "      <td>4</td>\n",
       "      <td>1920</td>\n",
       "      <td>0.1740</td>\n",
       "      <td>97.600</td>\n",
       "      <td>0.6890</td>\n",
       "      <td>1920</td>\n",
       "    </tr>\n",
       "    <tr>\n",
       "      <th>True House Music - Xavier Santos &amp; Carlos Gomix Remix</th>\n",
       "      <td>0.000173</td>\n",
       "      <td>['Oscar Velazquez']</td>\n",
       "      <td>0.730</td>\n",
       "      <td>422087</td>\n",
       "      <td>0.798</td>\n",
       "      <td>0</td>\n",
       "      <td>19Lc5SfJJ5O1oaxY0fpwfh</td>\n",
       "      <td>0.801000</td>\n",
       "      <td>2</td>\n",
       "      <td>0.1280</td>\n",
       "      <td>-7.311</td>\n",
       "      <td>1</td>\n",
       "      <td>17</td>\n",
       "      <td>1920-01-01</td>\n",
       "      <td>0.0425</td>\n",
       "      <td>127.997</td>\n",
       "      <td>0.0422</td>\n",
       "      <td>1920</td>\n",
       "    </tr>\n",
       "    <tr>\n",
       "      <th>Xuniverxe</th>\n",
       "      <td>0.295000</td>\n",
       "      <td>['Mixe']</td>\n",
       "      <td>0.704</td>\n",
       "      <td>165224</td>\n",
       "      <td>0.707</td>\n",
       "      <td>1</td>\n",
       "      <td>2hJjbsLCytGsnAHfdsLejp</td>\n",
       "      <td>0.000246</td>\n",
       "      <td>10</td>\n",
       "      <td>0.4020</td>\n",
       "      <td>-6.036</td>\n",
       "      <td>0</td>\n",
       "      <td>2</td>\n",
       "      <td>1920-10-01</td>\n",
       "      <td>0.0768</td>\n",
       "      <td>122.076</td>\n",
       "      <td>0.2990</td>\n",
       "      <td>1920</td>\n",
       "    </tr>\n",
       "  </tbody>\n",
       "</table>\n",
       "</div>"
      ],
      "text/plain": [
       "                                                    acousticness  \\\n",
       "name                                                               \n",
       "Keep A Song In Your Soul                                0.991000   \n",
       "I Put A Spell On You                                    0.643000   \n",
       "Golfing Papa                                            0.993000   \n",
       "True House Music - Xavier Santos & Carlos Gomix...      0.000173   \n",
       "Xuniverxe                                               0.295000   \n",
       "\n",
       "                                                                      artists  \\\n",
       "name                                                                            \n",
       "Keep A Song In Your Soul                                      ['Mamie Smith']   \n",
       "I Put A Spell On You                                [\"Screamin' Jay Hawkins\"]   \n",
       "Golfing Papa                                                  ['Mamie Smith']   \n",
       "True House Music - Xavier Santos & Carlos Gomix...        ['Oscar Velazquez']   \n",
       "Xuniverxe                                                            ['Mixe']   \n",
       "\n",
       "                                                    danceability  duration_ms  \\\n",
       "name                                                                            \n",
       "Keep A Song In Your Soul                                   0.598       168333   \n",
       "I Put A Spell On You                                       0.852       150200   \n",
       "Golfing Papa                                               0.647       163827   \n",
       "True House Music - Xavier Santos & Carlos Gomix...         0.730       422087   \n",
       "Xuniverxe                                                  0.704       165224   \n",
       "\n",
       "                                                    energy  explicit  \\\n",
       "name                                                                   \n",
       "Keep A Song In Your Soul                             0.224         0   \n",
       "I Put A Spell On You                                 0.517         0   \n",
       "Golfing Papa                                         0.186         0   \n",
       "True House Music - Xavier Santos & Carlos Gomix...   0.798         0   \n",
       "Xuniverxe                                            0.707         1   \n",
       "\n",
       "                                                                        id  \\\n",
       "name                                                                         \n",
       "Keep A Song In Your Soul                            0cS0A1fUEUd1EW3FcF8AEI   \n",
       "I Put A Spell On You                                0hbkKFIJm7Z05H8Zl9w30f   \n",
       "Golfing Papa                                        11m7laMUgmOKqI3oYzuhne   \n",
       "True House Music - Xavier Santos & Carlos Gomix...  19Lc5SfJJ5O1oaxY0fpwfh   \n",
       "Xuniverxe                                           2hJjbsLCytGsnAHfdsLejp   \n",
       "\n",
       "                                                    instrumentalness  key  \\\n",
       "name                                                                        \n",
       "Keep A Song In Your Soul                                    0.000522    5   \n",
       "I Put A Spell On You                                        0.026400    5   \n",
       "Golfing Papa                                                0.000018    0   \n",
       "True House Music - Xavier Santos & Carlos Gomix...          0.801000    2   \n",
       "Xuniverxe                                                   0.000246   10   \n",
       "\n",
       "                                                    liveness  loudness  mode  \\\n",
       "name                                                                           \n",
       "Keep A Song In Your Soul                              0.3790   -12.628     0   \n",
       "I Put A Spell On You                                  0.0809    -7.261     0   \n",
       "Golfing Papa                                          0.5190   -12.098     1   \n",
       "True House Music - Xavier Santos & Carlos Gomix...    0.1280    -7.311     1   \n",
       "Xuniverxe                                             0.4020    -6.036     0   \n",
       "\n",
       "                                                    popularity release_date  \\\n",
       "name                                                                          \n",
       "Keep A Song In Your Soul                                    12         1920   \n",
       "I Put A Spell On You                                         7   1920-01-05   \n",
       "Golfing Papa                                                 4         1920   \n",
       "True House Music - Xavier Santos & Carlos Gomix...          17   1920-01-01   \n",
       "Xuniverxe                                                    2   1920-10-01   \n",
       "\n",
       "                                                    speechiness    tempo  \\\n",
       "name                                                                       \n",
       "Keep A Song In Your Soul                                 0.0936  149.976   \n",
       "I Put A Spell On You                                     0.0534   86.889   \n",
       "Golfing Papa                                             0.1740   97.600   \n",
       "True House Music - Xavier Santos & Carlos Gomix...       0.0425  127.997   \n",
       "Xuniverxe                                                0.0768  122.076   \n",
       "\n",
       "                                                    valence  year  \n",
       "name                                                               \n",
       "Keep A Song In Your Soul                             0.6340  1920  \n",
       "I Put A Spell On You                                 0.9500  1920  \n",
       "Golfing Papa                                         0.6890  1920  \n",
       "True House Music - Xavier Santos & Carlos Gomix...   0.0422  1920  \n",
       "Xuniverxe                                            0.2990  1920  "
      ]
     },
     "execution_count": 24,
     "metadata": {},
     "output_type": "execute_result"
    }
   ],
   "source": [
    "df.set_index('name', inplace = True)\n",
    "df.head()"
   ]
  },
  {
   "cell_type": "markdown",
   "metadata": {},
   "source": [
    "### ID"
   ]
  },
  {
   "cell_type": "markdown",
   "metadata": {},
   "source": [
    "I suppose we can drop the ID column as it's not really necessary for this project at the moment."
   ]
  },
  {
   "cell_type": "code",
   "execution_count": 25,
   "metadata": {
    "ExecuteTime": {
     "end_time": "2021-03-19T15:30:59.233106Z",
     "start_time": "2021-03-19T15:30:59.183727Z"
    }
   },
   "outputs": [
    {
     "data": {
      "text/html": [
       "<div>\n",
       "<style scoped>\n",
       "    .dataframe tbody tr th:only-of-type {\n",
       "        vertical-align: middle;\n",
       "    }\n",
       "\n",
       "    .dataframe tbody tr th {\n",
       "        vertical-align: top;\n",
       "    }\n",
       "\n",
       "    .dataframe thead th {\n",
       "        text-align: right;\n",
       "    }\n",
       "</style>\n",
       "<table border=\"1\" class=\"dataframe\">\n",
       "  <thead>\n",
       "    <tr style=\"text-align: right;\">\n",
       "      <th></th>\n",
       "      <th>acousticness</th>\n",
       "      <th>artists</th>\n",
       "      <th>danceability</th>\n",
       "      <th>duration_ms</th>\n",
       "      <th>energy</th>\n",
       "      <th>explicit</th>\n",
       "      <th>instrumentalness</th>\n",
       "      <th>key</th>\n",
       "      <th>liveness</th>\n",
       "      <th>loudness</th>\n",
       "      <th>mode</th>\n",
       "      <th>popularity</th>\n",
       "      <th>release_date</th>\n",
       "      <th>speechiness</th>\n",
       "      <th>tempo</th>\n",
       "      <th>valence</th>\n",
       "      <th>year</th>\n",
       "    </tr>\n",
       "    <tr>\n",
       "      <th>name</th>\n",
       "      <th></th>\n",
       "      <th></th>\n",
       "      <th></th>\n",
       "      <th></th>\n",
       "      <th></th>\n",
       "      <th></th>\n",
       "      <th></th>\n",
       "      <th></th>\n",
       "      <th></th>\n",
       "      <th></th>\n",
       "      <th></th>\n",
       "      <th></th>\n",
       "      <th></th>\n",
       "      <th></th>\n",
       "      <th></th>\n",
       "      <th></th>\n",
       "      <th></th>\n",
       "    </tr>\n",
       "  </thead>\n",
       "  <tbody>\n",
       "    <tr>\n",
       "      <th>Keep A Song In Your Soul</th>\n",
       "      <td>0.991000</td>\n",
       "      <td>['Mamie Smith']</td>\n",
       "      <td>0.598</td>\n",
       "      <td>168333</td>\n",
       "      <td>0.224</td>\n",
       "      <td>0</td>\n",
       "      <td>0.000522</td>\n",
       "      <td>5</td>\n",
       "      <td>0.3790</td>\n",
       "      <td>-12.628</td>\n",
       "      <td>0</td>\n",
       "      <td>12</td>\n",
       "      <td>1920</td>\n",
       "      <td>0.0936</td>\n",
       "      <td>149.976</td>\n",
       "      <td>0.6340</td>\n",
       "      <td>1920</td>\n",
       "    </tr>\n",
       "    <tr>\n",
       "      <th>I Put A Spell On You</th>\n",
       "      <td>0.643000</td>\n",
       "      <td>[\"Screamin' Jay Hawkins\"]</td>\n",
       "      <td>0.852</td>\n",
       "      <td>150200</td>\n",
       "      <td>0.517</td>\n",
       "      <td>0</td>\n",
       "      <td>0.026400</td>\n",
       "      <td>5</td>\n",
       "      <td>0.0809</td>\n",
       "      <td>-7.261</td>\n",
       "      <td>0</td>\n",
       "      <td>7</td>\n",
       "      <td>1920-01-05</td>\n",
       "      <td>0.0534</td>\n",
       "      <td>86.889</td>\n",
       "      <td>0.9500</td>\n",
       "      <td>1920</td>\n",
       "    </tr>\n",
       "    <tr>\n",
       "      <th>Golfing Papa</th>\n",
       "      <td>0.993000</td>\n",
       "      <td>['Mamie Smith']</td>\n",
       "      <td>0.647</td>\n",
       "      <td>163827</td>\n",
       "      <td>0.186</td>\n",
       "      <td>0</td>\n",
       "      <td>0.000018</td>\n",
       "      <td>0</td>\n",
       "      <td>0.5190</td>\n",
       "      <td>-12.098</td>\n",
       "      <td>1</td>\n",
       "      <td>4</td>\n",
       "      <td>1920</td>\n",
       "      <td>0.1740</td>\n",
       "      <td>97.600</td>\n",
       "      <td>0.6890</td>\n",
       "      <td>1920</td>\n",
       "    </tr>\n",
       "    <tr>\n",
       "      <th>True House Music - Xavier Santos &amp; Carlos Gomix Remix</th>\n",
       "      <td>0.000173</td>\n",
       "      <td>['Oscar Velazquez']</td>\n",
       "      <td>0.730</td>\n",
       "      <td>422087</td>\n",
       "      <td>0.798</td>\n",
       "      <td>0</td>\n",
       "      <td>0.801000</td>\n",
       "      <td>2</td>\n",
       "      <td>0.1280</td>\n",
       "      <td>-7.311</td>\n",
       "      <td>1</td>\n",
       "      <td>17</td>\n",
       "      <td>1920-01-01</td>\n",
       "      <td>0.0425</td>\n",
       "      <td>127.997</td>\n",
       "      <td>0.0422</td>\n",
       "      <td>1920</td>\n",
       "    </tr>\n",
       "    <tr>\n",
       "      <th>Xuniverxe</th>\n",
       "      <td>0.295000</td>\n",
       "      <td>['Mixe']</td>\n",
       "      <td>0.704</td>\n",
       "      <td>165224</td>\n",
       "      <td>0.707</td>\n",
       "      <td>1</td>\n",
       "      <td>0.000246</td>\n",
       "      <td>10</td>\n",
       "      <td>0.4020</td>\n",
       "      <td>-6.036</td>\n",
       "      <td>0</td>\n",
       "      <td>2</td>\n",
       "      <td>1920-10-01</td>\n",
       "      <td>0.0768</td>\n",
       "      <td>122.076</td>\n",
       "      <td>0.2990</td>\n",
       "      <td>1920</td>\n",
       "    </tr>\n",
       "  </tbody>\n",
       "</table>\n",
       "</div>"
      ],
      "text/plain": [
       "                                                    acousticness  \\\n",
       "name                                                               \n",
       "Keep A Song In Your Soul                                0.991000   \n",
       "I Put A Spell On You                                    0.643000   \n",
       "Golfing Papa                                            0.993000   \n",
       "True House Music - Xavier Santos & Carlos Gomix...      0.000173   \n",
       "Xuniverxe                                               0.295000   \n",
       "\n",
       "                                                                      artists  \\\n",
       "name                                                                            \n",
       "Keep A Song In Your Soul                                      ['Mamie Smith']   \n",
       "I Put A Spell On You                                [\"Screamin' Jay Hawkins\"]   \n",
       "Golfing Papa                                                  ['Mamie Smith']   \n",
       "True House Music - Xavier Santos & Carlos Gomix...        ['Oscar Velazquez']   \n",
       "Xuniverxe                                                            ['Mixe']   \n",
       "\n",
       "                                                    danceability  duration_ms  \\\n",
       "name                                                                            \n",
       "Keep A Song In Your Soul                                   0.598       168333   \n",
       "I Put A Spell On You                                       0.852       150200   \n",
       "Golfing Papa                                               0.647       163827   \n",
       "True House Music - Xavier Santos & Carlos Gomix...         0.730       422087   \n",
       "Xuniverxe                                                  0.704       165224   \n",
       "\n",
       "                                                    energy  explicit  \\\n",
       "name                                                                   \n",
       "Keep A Song In Your Soul                             0.224         0   \n",
       "I Put A Spell On You                                 0.517         0   \n",
       "Golfing Papa                                         0.186         0   \n",
       "True House Music - Xavier Santos & Carlos Gomix...   0.798         0   \n",
       "Xuniverxe                                            0.707         1   \n",
       "\n",
       "                                                    instrumentalness  key  \\\n",
       "name                                                                        \n",
       "Keep A Song In Your Soul                                    0.000522    5   \n",
       "I Put A Spell On You                                        0.026400    5   \n",
       "Golfing Papa                                                0.000018    0   \n",
       "True House Music - Xavier Santos & Carlos Gomix...          0.801000    2   \n",
       "Xuniverxe                                                   0.000246   10   \n",
       "\n",
       "                                                    liveness  loudness  mode  \\\n",
       "name                                                                           \n",
       "Keep A Song In Your Soul                              0.3790   -12.628     0   \n",
       "I Put A Spell On You                                  0.0809    -7.261     0   \n",
       "Golfing Papa                                          0.5190   -12.098     1   \n",
       "True House Music - Xavier Santos & Carlos Gomix...    0.1280    -7.311     1   \n",
       "Xuniverxe                                             0.4020    -6.036     0   \n",
       "\n",
       "                                                    popularity release_date  \\\n",
       "name                                                                          \n",
       "Keep A Song In Your Soul                                    12         1920   \n",
       "I Put A Spell On You                                         7   1920-01-05   \n",
       "Golfing Papa                                                 4         1920   \n",
       "True House Music - Xavier Santos & Carlos Gomix...          17   1920-01-01   \n",
       "Xuniverxe                                                    2   1920-10-01   \n",
       "\n",
       "                                                    speechiness    tempo  \\\n",
       "name                                                                       \n",
       "Keep A Song In Your Soul                                 0.0936  149.976   \n",
       "I Put A Spell On You                                     0.0534   86.889   \n",
       "Golfing Papa                                             0.1740   97.600   \n",
       "True House Music - Xavier Santos & Carlos Gomix...       0.0425  127.997   \n",
       "Xuniverxe                                                0.0768  122.076   \n",
       "\n",
       "                                                    valence  year  \n",
       "name                                                               \n",
       "Keep A Song In Your Soul                             0.6340  1920  \n",
       "I Put A Spell On You                                 0.9500  1920  \n",
       "Golfing Papa                                         0.6890  1920  \n",
       "True House Music - Xavier Santos & Carlos Gomix...   0.0422  1920  \n",
       "Xuniverxe                                            0.2990  1920  "
      ]
     },
     "execution_count": 25,
     "metadata": {},
     "output_type": "execute_result"
    }
   ],
   "source": [
    "df.drop('id', axis = 1, inplace = True)\n",
    "df.head()"
   ]
  },
  {
   "cell_type": "markdown",
   "metadata": {},
   "source": [
    "### Null Values"
   ]
  },
  {
   "cell_type": "markdown",
   "metadata": {},
   "source": [
    "No nulls here, so we're in the clear!"
   ]
  },
  {
   "cell_type": "code",
   "execution_count": 26,
   "metadata": {
    "ExecuteTime": {
     "end_time": "2021-03-19T15:30:59.270121Z",
     "start_time": "2021-03-19T15:30:59.235117Z"
    }
   },
   "outputs": [
    {
     "data": {
      "text/plain": [
       "acousticness        0\n",
       "artists             0\n",
       "danceability        0\n",
       "duration_ms         0\n",
       "energy              0\n",
       "explicit            0\n",
       "instrumentalness    0\n",
       "key                 0\n",
       "liveness            0\n",
       "loudness            0\n",
       "mode                0\n",
       "popularity          0\n",
       "release_date        0\n",
       "speechiness         0\n",
       "tempo               0\n",
       "valence             0\n",
       "year                0\n",
       "dtype: int64"
      ]
     },
     "execution_count": 26,
     "metadata": {},
     "output_type": "execute_result"
    }
   ],
   "source": [
    "df.isna().sum()"
   ]
  },
  {
   "cell_type": "markdown",
   "metadata": {},
   "source": [
    "### Release Date"
   ]
  },
  {
   "cell_type": "markdown",
   "metadata": {},
   "source": [
    "Let's change the release date to a datetime object."
   ]
  },
  {
   "cell_type": "code",
   "execution_count": 27,
   "metadata": {
    "ExecuteTime": {
     "end_time": "2021-03-19T15:30:59.343096Z",
     "start_time": "2021-03-19T15:30:59.272408Z"
    }
   },
   "outputs": [
    {
     "data": {
      "text/html": [
       "<div>\n",
       "<style scoped>\n",
       "    .dataframe tbody tr th:only-of-type {\n",
       "        vertical-align: middle;\n",
       "    }\n",
       "\n",
       "    .dataframe tbody tr th {\n",
       "        vertical-align: top;\n",
       "    }\n",
       "\n",
       "    .dataframe thead th {\n",
       "        text-align: right;\n",
       "    }\n",
       "</style>\n",
       "<table border=\"1\" class=\"dataframe\">\n",
       "  <thead>\n",
       "    <tr style=\"text-align: right;\">\n",
       "      <th></th>\n",
       "      <th>acousticness</th>\n",
       "      <th>artists</th>\n",
       "      <th>danceability</th>\n",
       "      <th>duration_ms</th>\n",
       "      <th>energy</th>\n",
       "      <th>explicit</th>\n",
       "      <th>instrumentalness</th>\n",
       "      <th>key</th>\n",
       "      <th>liveness</th>\n",
       "      <th>loudness</th>\n",
       "      <th>mode</th>\n",
       "      <th>popularity</th>\n",
       "      <th>release_date</th>\n",
       "      <th>speechiness</th>\n",
       "      <th>tempo</th>\n",
       "      <th>valence</th>\n",
       "      <th>year</th>\n",
       "    </tr>\n",
       "    <tr>\n",
       "      <th>name</th>\n",
       "      <th></th>\n",
       "      <th></th>\n",
       "      <th></th>\n",
       "      <th></th>\n",
       "      <th></th>\n",
       "      <th></th>\n",
       "      <th></th>\n",
       "      <th></th>\n",
       "      <th></th>\n",
       "      <th></th>\n",
       "      <th></th>\n",
       "      <th></th>\n",
       "      <th></th>\n",
       "      <th></th>\n",
       "      <th></th>\n",
       "      <th></th>\n",
       "      <th></th>\n",
       "    </tr>\n",
       "  </thead>\n",
       "  <tbody>\n",
       "    <tr>\n",
       "      <th>Keep A Song In Your Soul</th>\n",
       "      <td>0.991000</td>\n",
       "      <td>['Mamie Smith']</td>\n",
       "      <td>0.598</td>\n",
       "      <td>168333</td>\n",
       "      <td>0.224</td>\n",
       "      <td>0</td>\n",
       "      <td>0.000522</td>\n",
       "      <td>5</td>\n",
       "      <td>0.3790</td>\n",
       "      <td>-12.628</td>\n",
       "      <td>0</td>\n",
       "      <td>12</td>\n",
       "      <td>1920-01-01</td>\n",
       "      <td>0.0936</td>\n",
       "      <td>149.976</td>\n",
       "      <td>0.6340</td>\n",
       "      <td>1920</td>\n",
       "    </tr>\n",
       "    <tr>\n",
       "      <th>I Put A Spell On You</th>\n",
       "      <td>0.643000</td>\n",
       "      <td>[\"Screamin' Jay Hawkins\"]</td>\n",
       "      <td>0.852</td>\n",
       "      <td>150200</td>\n",
       "      <td>0.517</td>\n",
       "      <td>0</td>\n",
       "      <td>0.026400</td>\n",
       "      <td>5</td>\n",
       "      <td>0.0809</td>\n",
       "      <td>-7.261</td>\n",
       "      <td>0</td>\n",
       "      <td>7</td>\n",
       "      <td>1920-01-05</td>\n",
       "      <td>0.0534</td>\n",
       "      <td>86.889</td>\n",
       "      <td>0.9500</td>\n",
       "      <td>1920</td>\n",
       "    </tr>\n",
       "    <tr>\n",
       "      <th>Golfing Papa</th>\n",
       "      <td>0.993000</td>\n",
       "      <td>['Mamie Smith']</td>\n",
       "      <td>0.647</td>\n",
       "      <td>163827</td>\n",
       "      <td>0.186</td>\n",
       "      <td>0</td>\n",
       "      <td>0.000018</td>\n",
       "      <td>0</td>\n",
       "      <td>0.5190</td>\n",
       "      <td>-12.098</td>\n",
       "      <td>1</td>\n",
       "      <td>4</td>\n",
       "      <td>1920-01-01</td>\n",
       "      <td>0.1740</td>\n",
       "      <td>97.600</td>\n",
       "      <td>0.6890</td>\n",
       "      <td>1920</td>\n",
       "    </tr>\n",
       "    <tr>\n",
       "      <th>True House Music - Xavier Santos &amp; Carlos Gomix Remix</th>\n",
       "      <td>0.000173</td>\n",
       "      <td>['Oscar Velazquez']</td>\n",
       "      <td>0.730</td>\n",
       "      <td>422087</td>\n",
       "      <td>0.798</td>\n",
       "      <td>0</td>\n",
       "      <td>0.801000</td>\n",
       "      <td>2</td>\n",
       "      <td>0.1280</td>\n",
       "      <td>-7.311</td>\n",
       "      <td>1</td>\n",
       "      <td>17</td>\n",
       "      <td>1920-01-01</td>\n",
       "      <td>0.0425</td>\n",
       "      <td>127.997</td>\n",
       "      <td>0.0422</td>\n",
       "      <td>1920</td>\n",
       "    </tr>\n",
       "    <tr>\n",
       "      <th>Xuniverxe</th>\n",
       "      <td>0.295000</td>\n",
       "      <td>['Mixe']</td>\n",
       "      <td>0.704</td>\n",
       "      <td>165224</td>\n",
       "      <td>0.707</td>\n",
       "      <td>1</td>\n",
       "      <td>0.000246</td>\n",
       "      <td>10</td>\n",
       "      <td>0.4020</td>\n",
       "      <td>-6.036</td>\n",
       "      <td>0</td>\n",
       "      <td>2</td>\n",
       "      <td>1920-10-01</td>\n",
       "      <td>0.0768</td>\n",
       "      <td>122.076</td>\n",
       "      <td>0.2990</td>\n",
       "      <td>1920</td>\n",
       "    </tr>\n",
       "  </tbody>\n",
       "</table>\n",
       "</div>"
      ],
      "text/plain": [
       "                                                    acousticness  \\\n",
       "name                                                               \n",
       "Keep A Song In Your Soul                                0.991000   \n",
       "I Put A Spell On You                                    0.643000   \n",
       "Golfing Papa                                            0.993000   \n",
       "True House Music - Xavier Santos & Carlos Gomix...      0.000173   \n",
       "Xuniverxe                                               0.295000   \n",
       "\n",
       "                                                                      artists  \\\n",
       "name                                                                            \n",
       "Keep A Song In Your Soul                                      ['Mamie Smith']   \n",
       "I Put A Spell On You                                [\"Screamin' Jay Hawkins\"]   \n",
       "Golfing Papa                                                  ['Mamie Smith']   \n",
       "True House Music - Xavier Santos & Carlos Gomix...        ['Oscar Velazquez']   \n",
       "Xuniverxe                                                            ['Mixe']   \n",
       "\n",
       "                                                    danceability  duration_ms  \\\n",
       "name                                                                            \n",
       "Keep A Song In Your Soul                                   0.598       168333   \n",
       "I Put A Spell On You                                       0.852       150200   \n",
       "Golfing Papa                                               0.647       163827   \n",
       "True House Music - Xavier Santos & Carlos Gomix...         0.730       422087   \n",
       "Xuniverxe                                                  0.704       165224   \n",
       "\n",
       "                                                    energy  explicit  \\\n",
       "name                                                                   \n",
       "Keep A Song In Your Soul                             0.224         0   \n",
       "I Put A Spell On You                                 0.517         0   \n",
       "Golfing Papa                                         0.186         0   \n",
       "True House Music - Xavier Santos & Carlos Gomix...   0.798         0   \n",
       "Xuniverxe                                            0.707         1   \n",
       "\n",
       "                                                    instrumentalness  key  \\\n",
       "name                                                                        \n",
       "Keep A Song In Your Soul                                    0.000522    5   \n",
       "I Put A Spell On You                                        0.026400    5   \n",
       "Golfing Papa                                                0.000018    0   \n",
       "True House Music - Xavier Santos & Carlos Gomix...          0.801000    2   \n",
       "Xuniverxe                                                   0.000246   10   \n",
       "\n",
       "                                                    liveness  loudness  mode  \\\n",
       "name                                                                           \n",
       "Keep A Song In Your Soul                              0.3790   -12.628     0   \n",
       "I Put A Spell On You                                  0.0809    -7.261     0   \n",
       "Golfing Papa                                          0.5190   -12.098     1   \n",
       "True House Music - Xavier Santos & Carlos Gomix...    0.1280    -7.311     1   \n",
       "Xuniverxe                                             0.4020    -6.036     0   \n",
       "\n",
       "                                                    popularity release_date  \\\n",
       "name                                                                          \n",
       "Keep A Song In Your Soul                                    12   1920-01-01   \n",
       "I Put A Spell On You                                         7   1920-01-05   \n",
       "Golfing Papa                                                 4   1920-01-01   \n",
       "True House Music - Xavier Santos & Carlos Gomix...          17   1920-01-01   \n",
       "Xuniverxe                                                    2   1920-10-01   \n",
       "\n",
       "                                                    speechiness    tempo  \\\n",
       "name                                                                       \n",
       "Keep A Song In Your Soul                                 0.0936  149.976   \n",
       "I Put A Spell On You                                     0.0534   86.889   \n",
       "Golfing Papa                                             0.1740   97.600   \n",
       "True House Music - Xavier Santos & Carlos Gomix...       0.0425  127.997   \n",
       "Xuniverxe                                                0.0768  122.076   \n",
       "\n",
       "                                                    valence  year  \n",
       "name                                                               \n",
       "Keep A Song In Your Soul                             0.6340  1920  \n",
       "I Put A Spell On You                                 0.9500  1920  \n",
       "Golfing Papa                                         0.6890  1920  \n",
       "True House Music - Xavier Santos & Carlos Gomix...   0.0422  1920  \n",
       "Xuniverxe                                            0.2990  1920  "
      ]
     },
     "execution_count": 27,
     "metadata": {},
     "output_type": "execute_result"
    }
   ],
   "source": [
    "df['release_date'] = pd.to_datetime(df['release_date'])\n",
    "df.head()"
   ]
  },
  {
   "cell_type": "markdown",
   "metadata": {},
   "source": [
    "### Year"
   ]
  },
  {
   "cell_type": "markdown",
   "metadata": {},
   "source": [
    "Let's try a different approach here. At first, we changed the values of the year column to strings so that they wouldn't be affected by scaling. The drawback here is that we wound up with a massive amount of columns after one hot encoding it as a categorical column. Let's try binning year into decades to cut down on these columns."
   ]
  },
  {
   "cell_type": "code",
   "execution_count": 28,
   "metadata": {
    "ExecuteTime": {
     "end_time": "2021-03-19T15:30:59.353451Z",
     "start_time": "2021-03-19T15:30:59.346264Z"
    }
   },
   "outputs": [
    {
     "data": {
      "text/plain": [
       "array([1920, 1921, 1922, 1923, 1924, 1925, 1926, 1927, 1928, 1929, 1930,\n",
       "       1931, 1932, 1933, 1934, 1935, 1936, 1937, 1938, 1939, 1940, 1941,\n",
       "       1942, 1943, 1944, 1945, 1946, 1947, 1948, 1949, 1950, 1951, 1952,\n",
       "       1953, 1954, 1955, 1956, 1957, 1958, 1959, 1960, 1961, 1962, 1963,\n",
       "       1964, 1965, 1966, 1968, 2008, 2018, 2020, 1997, 1991, 2006, 2012,\n",
       "       2011, 2007, 1967, 1969, 1970, 1971, 1972, 1973, 1974, 1975, 1976,\n",
       "       1977, 1978, 1979, 1980, 1981, 1982, 1983, 1984, 1985, 1986, 1987,\n",
       "       1988, 1989, 1990, 1992, 1993, 1994, 1995, 1996, 1998, 1999, 2000,\n",
       "       2019, 2013, 2001, 2017, 2016, 2010, 2002, 2004, 2005, 2015, 2003,\n",
       "       2009, 2021, 2014])"
      ]
     },
     "execution_count": 28,
     "metadata": {},
     "output_type": "execute_result"
    }
   ],
   "source": [
    "df['year'].unique()"
   ]
  },
  {
   "cell_type": "code",
   "execution_count": 29,
   "metadata": {
    "ExecuteTime": {
     "end_time": "2021-03-19T15:54:23.047312Z",
     "start_time": "2021-03-19T15:30:59.356162Z"
    }
   },
   "outputs": [
    {
     "name": "stderr",
     "output_type": "stream",
     "text": [
      "/Users/spags/opt/anaconda3/envs/learn-env/lib/python3.6/site-packages/ipykernel_launcher.py:1: TqdmDeprecationWarning: This function will be removed in tqdm==5.0.0\n",
      "Please use `tqdm.notebook.tqdm` instead of `tqdm.tqdm_notebook`\n",
      "  \"\"\"Entry point for launching an IPython kernel.\n"
     ]
    },
    {
     "data": {
      "application/vnd.jupyter.widget-view+json": {
       "model_id": "efac2a050bdb488494d9942f37b401e0",
       "version_major": 2,
       "version_minor": 0
      },
      "text/plain": [
       "  0%|          | 0/174389 [00:00<?, ?it/s]"
      ]
     },
     "metadata": {},
     "output_type": "display_data"
    }
   ],
   "source": [
    "for i in tqdm(df['year']):\n",
    "    if i >= 1920 and i < 1930:\n",
    "        df['year'] = df['year'].replace(i, '1920s')\n",
    "    elif i >= 1930 and i < 1940:\n",
    "        df['year'] = df['year'].replace(i, '1930s')\n",
    "    elif i >= 1940 and i < 1950:\n",
    "        df['year'] = df['year'].replace(i, '1940s')\n",
    "    elif i >= 1950 and i < 1960:\n",
    "        df['year'] = df['year'].replace(i, '1950s')\n",
    "    elif i >= 1960 and i < 1970:\n",
    "        df['year'] = df['year'].replace(i, '1960s')\n",
    "    elif i >= 1970 and i < 1980:\n",
    "        df['year'] = df['year'].replace(i, '1970s')\n",
    "    elif i >= 1980 and i < 1990:\n",
    "        df['year'] = df['year'].replace(i, '1980s')\n",
    "    elif i >= 1990 and i < 2000:\n",
    "        df['year'] = df['year'].replace(i, '1990s')\n",
    "    elif i >= 2000 and i < 2010:\n",
    "        df['year'] = df['year'].replace(i, '2000s')\n",
    "    elif i >= 2010 and i < 2020:\n",
    "        df['year'] = df['year'].replace(i, '2010s')\n",
    "    elif i >= 2020 and i < 2029:\n",
    "        df['year'] = df['year'].replace(i, '2020s')"
   ]
  },
  {
   "cell_type": "code",
   "execution_count": 30,
   "metadata": {
    "ExecuteTime": {
     "end_time": "2021-03-19T15:54:23.073919Z",
     "start_time": "2021-03-19T15:54:23.049577Z"
    }
   },
   "outputs": [
    {
     "data": {
      "text/plain": [
       "2010s    22455\n",
       "1990s    20328\n",
       "1970s    20118\n",
       "1980s    20074\n",
       "1950s    20000\n",
       "1960s    19610\n",
       "1940s    15493\n",
       "2000s    13782\n",
       "1930s    10764\n",
       "2020s     6134\n",
       "1920s     5631\n",
       "Name: year, dtype: int64"
      ]
     },
     "execution_count": 30,
     "metadata": {},
     "output_type": "execute_result"
    }
   ],
   "source": [
    "df['year'].value_counts()"
   ]
  },
  {
   "cell_type": "markdown",
   "metadata": {},
   "source": [
    "### Artists."
   ]
  },
  {
   "cell_type": "code",
   "execution_count": 31,
   "metadata": {
    "ExecuteTime": {
     "end_time": "2021-03-19T15:54:23.138098Z",
     "start_time": "2021-03-19T15:54:23.076769Z"
    }
   },
   "outputs": [
    {
     "data": {
      "text/plain": [
       "['Tadeusz Dolega Mostowicz']           1281\n",
       "['Эрнест Хемингуэй']                   1175\n",
       "['Эрих Мария Ремарк']                  1062\n",
       "['Francisco Canaro']                    951\n",
       "['Ignacio Corsini']                     624\n",
       "                                       ... \n",
       "['Soundexile']                            1\n",
       "['Vitodito', 'Sara Pollino']              1\n",
       "['Mother Earth']                          1\n",
       "['Boyce Avenue', 'Kina Grannis']          1\n",
       "['Bobby Womack', 'The Brotherhood']       1\n",
       "Name: artists, Length: 36195, dtype: int64"
      ]
     },
     "execution_count": 31,
     "metadata": {},
     "output_type": "execute_result"
    }
   ],
   "source": [
    "df['artists'].value_counts()"
   ]
  },
  {
   "cell_type": "markdown",
   "metadata": {},
   "source": [
    "Keeping all the artists in the artist column creates an issue when one hot encoding...namely that it expands to over 31k columns and creates an issue for running our models.  Let's do some exploration here and see if there's any way to bin artists in a sensible way."
   ]
  },
  {
   "cell_type": "code",
   "execution_count": 32,
   "metadata": {
    "ExecuteTime": {
     "end_time": "2021-03-19T15:54:23.196823Z",
     "start_time": "2021-03-19T15:54:23.140779Z"
    }
   },
   "outputs": [
    {
     "data": {
      "text/plain": [
       "31331"
      ]
     },
     "execution_count": 32,
     "metadata": {},
     "output_type": "execute_result"
    }
   ],
   "source": [
    "df['artists'].value_counts().unique().sum()"
   ]
  },
  {
   "cell_type": "markdown",
   "metadata": {},
   "source": [
    "Wow...31k+ unique artists represented in this dataset.  This presents an interesting dilemma.  It doesn't seem too likely that we can figure out a way to bin this column in a sensible way.  We could separate the artists into bins of multiple artists and single artists for the tracks but that doesn't really take the individual artist popularity into account.  \n",
    "\n",
    "For now, we're going to have to dump the artist column and then revisit this down the line after being able to get a few successful models running."
   ]
  },
  {
   "cell_type": "code",
   "execution_count": 33,
   "metadata": {
    "ExecuteTime": {
     "end_time": "2021-03-19T15:54:23.235773Z",
     "start_time": "2021-03-19T15:54:23.198995Z"
    }
   },
   "outputs": [],
   "source": [
    "df.drop('artists', axis = 1, inplace = True)"
   ]
  },
  {
   "cell_type": "markdown",
   "metadata": {},
   "source": [
    "### Popularity Column"
   ]
  },
  {
   "cell_type": "markdown",
   "metadata": {},
   "source": [
    "This one is going to take some thought and research. We know that the popularity metric is a number from 1 to 100 that (with 100 being the most popular) that is assigned to a song to denote it's popularity. Spotify calculates this metric based on total streams, trends, and several other factors. First, we need to see what we're working with in terms of the value counts. Next, we need to make some sort of determination of what level of popularity constitutes as a hit song and the level that constitutes a dud.\n",
    "\n",
    "<b> Note:</b> In the other notebook, we work on a multiclass version that creates 3 targets: hit, solid single, and dud."
   ]
  },
  {
   "cell_type": "code",
   "execution_count": 34,
   "metadata": {
    "ExecuteTime": {
     "end_time": "2021-03-19T15:54:24.740232Z",
     "start_time": "2021-03-19T15:54:23.238285Z"
    }
   },
   "outputs": [
    {
     "data": {
      "image/png": "[encoded data removed]",
      "text/plain": [
       "<Figure size 1728x432 with 1 Axes>"
      ]
     },
     "metadata": {
      "needs_background": "light"
     },
     "output_type": "display_data"
    }
   ],
   "source": [
    "# Placeholder Plot\n",
    "\n",
    "ax = plt.figure(figsize = (24, 6))\n",
    "ax = sns.countplot(df['popularity'])\n",
    "ax.set_title('Song Popularity Countplot')\n",
    "ax.set_xlabel('Popularity')\n",
    "ax.set_ylabel('Count')\n",
    "plt.show();"
   ]
  },
  {
   "cell_type": "markdown",
   "metadata": {},
   "source": [
    "> We can see from the figure above that an overhwelmingly large percentage of the songs have a popularity of 0 and the top of the scale is an extremely small percentage.  This is going to wreak havok on class weights."
   ]
  },
  {
   "cell_type": "markdown",
   "metadata": {},
   "source": [
    "<b>From Spotify:</b><br>\n",
    "The popularity of the track. The value will be between 0 and 100, with 100 being the most popular. The popularity of a track is a value between 0 and 100, with 100 being the most popular. The popularity is calculated by algorithm and is based, in the most part, on the total number of plays the track has had and how recent those plays are. Generally speaking, songs that are being played a lot now will have a higher popularity than songs that were played a lot in the past. Duplicate tracks (e.g. the same track from a single and an album) are rated independently. Artist and album popularity is derived mathematically from track popularity. Note that the popularity value may lag actual popularity by a few days: the value is not updated in real time."
   ]
  },
  {
   "cell_type": "markdown",
   "metadata": {},
   "source": [
    "#### Binning Popularity"
   ]
  },
  {
   "cell_type": "markdown",
   "metadata": {},
   "source": [
    "We'll make the following labels by binning hte popularity metric:<br>\n",
    "0 - Not a hit<br>\n",
    "1 - Hit"
   ]
  },
  {
   "cell_type": "code",
   "execution_count": 35,
   "metadata": {
    "ExecuteTime": {
     "end_time": "2021-03-19T15:54:24.787324Z",
     "start_time": "2021-03-19T15:54:24.742566Z"
    }
   },
   "outputs": [
    {
     "data": {
      "text/html": [
       "<div>\n",
       "<style scoped>\n",
       "    .dataframe tbody tr th:only-of-type {\n",
       "        vertical-align: middle;\n",
       "    }\n",
       "\n",
       "    .dataframe tbody tr th {\n",
       "        vertical-align: top;\n",
       "    }\n",
       "\n",
       "    .dataframe thead th {\n",
       "        text-align: right;\n",
       "    }\n",
       "</style>\n",
       "<table border=\"1\" class=\"dataframe\">\n",
       "  <thead>\n",
       "    <tr style=\"text-align: right;\">\n",
       "      <th></th>\n",
       "      <th>acousticness</th>\n",
       "      <th>danceability</th>\n",
       "      <th>duration_ms</th>\n",
       "      <th>energy</th>\n",
       "      <th>explicit</th>\n",
       "      <th>instrumentalness</th>\n",
       "      <th>key</th>\n",
       "      <th>liveness</th>\n",
       "      <th>loudness</th>\n",
       "      <th>mode</th>\n",
       "      <th>popularity</th>\n",
       "      <th>release_date</th>\n",
       "      <th>speechiness</th>\n",
       "      <th>tempo</th>\n",
       "      <th>valence</th>\n",
       "      <th>year</th>\n",
       "    </tr>\n",
       "    <tr>\n",
       "      <th>name</th>\n",
       "      <th></th>\n",
       "      <th></th>\n",
       "      <th></th>\n",
       "      <th></th>\n",
       "      <th></th>\n",
       "      <th></th>\n",
       "      <th></th>\n",
       "      <th></th>\n",
       "      <th></th>\n",
       "      <th></th>\n",
       "      <th></th>\n",
       "      <th></th>\n",
       "      <th></th>\n",
       "      <th></th>\n",
       "      <th></th>\n",
       "      <th></th>\n",
       "    </tr>\n",
       "  </thead>\n",
       "  <tbody>\n",
       "    <tr>\n",
       "      <th>Rudolph the Red-Nosed Reindeer</th>\n",
       "      <td>0.88300</td>\n",
       "      <td>0.629</td>\n",
       "      <td>186733</td>\n",
       "      <td>0.1590</td>\n",
       "      <td>0</td>\n",
       "      <td>0.000000</td>\n",
       "      <td>8</td>\n",
       "      <td>0.2220</td>\n",
       "      <td>-14.056</td>\n",
       "      <td>1</td>\n",
       "      <td>65</td>\n",
       "      <td>1947-01-01</td>\n",
       "      <td>0.0495</td>\n",
       "      <td>142.157</td>\n",
       "      <td>0.642</td>\n",
       "      <td>1940s</td>\n",
       "    </tr>\n",
       "    <tr>\n",
       "      <th>I Fall In Love Too Easily - Vocal Version</th>\n",
       "      <td>0.94000</td>\n",
       "      <td>0.532</td>\n",
       "      <td>201440</td>\n",
       "      <td>0.0657</td>\n",
       "      <td>0</td>\n",
       "      <td>0.004880</td>\n",
       "      <td>0</td>\n",
       "      <td>0.0946</td>\n",
       "      <td>-19.136</td>\n",
       "      <td>0</td>\n",
       "      <td>65</td>\n",
       "      <td>1956-01-01</td>\n",
       "      <td>0.0406</td>\n",
       "      <td>128.607</td>\n",
       "      <td>0.292</td>\n",
       "      <td>1950s</td>\n",
       "    </tr>\n",
       "    <tr>\n",
       "      <th>Pennies From Heaven</th>\n",
       "      <td>0.45200</td>\n",
       "      <td>0.515</td>\n",
       "      <td>141667</td>\n",
       "      <td>0.4080</td>\n",
       "      <td>0</td>\n",
       "      <td>0.000000</td>\n",
       "      <td>8</td>\n",
       "      <td>0.0682</td>\n",
       "      <td>-11.960</td>\n",
       "      <td>1</td>\n",
       "      <td>65</td>\n",
       "      <td>1957-01-01</td>\n",
       "      <td>0.1940</td>\n",
       "      <td>185.767</td>\n",
       "      <td>0.915</td>\n",
       "      <td>1950s</td>\n",
       "    </tr>\n",
       "    <tr>\n",
       "      <th>I'll Be Seeing You</th>\n",
       "      <td>0.98900</td>\n",
       "      <td>0.355</td>\n",
       "      <td>211533</td>\n",
       "      <td>0.0304</td>\n",
       "      <td>0</td>\n",
       "      <td>0.055500</td>\n",
       "      <td>1</td>\n",
       "      <td>0.1160</td>\n",
       "      <td>-20.479</td>\n",
       "      <td>1</td>\n",
       "      <td>65</td>\n",
       "      <td>1957-01-01</td>\n",
       "      <td>0.0361</td>\n",
       "      <td>90.495</td>\n",
       "      <td>0.188</td>\n",
       "      <td>1950s</td>\n",
       "    </tr>\n",
       "    <tr>\n",
       "      <th>Volare (Nel Blu Di Pinto Di Blu) - Remastered</th>\n",
       "      <td>0.88000</td>\n",
       "      <td>0.612</td>\n",
       "      <td>181627</td>\n",
       "      <td>0.1440</td>\n",
       "      <td>0</td>\n",
       "      <td>0.000000</td>\n",
       "      <td>6</td>\n",
       "      <td>0.2030</td>\n",
       "      <td>-12.204</td>\n",
       "      <td>0</td>\n",
       "      <td>65</td>\n",
       "      <td>1958-01-01</td>\n",
       "      <td>0.0352</td>\n",
       "      <td>128.629</td>\n",
       "      <td>0.343</td>\n",
       "      <td>1950s</td>\n",
       "    </tr>\n",
       "    <tr>\n",
       "      <th>...</th>\n",
       "      <td>...</td>\n",
       "      <td>...</td>\n",
       "      <td>...</td>\n",
       "      <td>...</td>\n",
       "      <td>...</td>\n",
       "      <td>...</td>\n",
       "      <td>...</td>\n",
       "      <td>...</td>\n",
       "      <td>...</td>\n",
       "      <td>...</td>\n",
       "      <td>...</td>\n",
       "      <td>...</td>\n",
       "      <td>...</td>\n",
       "      <td>...</td>\n",
       "      <td>...</td>\n",
       "      <td>...</td>\n",
       "    </tr>\n",
       "    <tr>\n",
       "      <th>Legacy (feat. Travis Scott &amp; 21 Savage)</th>\n",
       "      <td>0.17800</td>\n",
       "      <td>0.844</td>\n",
       "      <td>244941</td>\n",
       "      <td>0.5130</td>\n",
       "      <td>1</td>\n",
       "      <td>0.000000</td>\n",
       "      <td>1</td>\n",
       "      <td>0.0845</td>\n",
       "      <td>-8.769</td>\n",
       "      <td>1</td>\n",
       "      <td>65</td>\n",
       "      <td>2019-02-22</td>\n",
       "      <td>0.3350</td>\n",
       "      <td>128.085</td>\n",
       "      <td>0.344</td>\n",
       "      <td>2010s</td>\n",
       "    </tr>\n",
       "    <tr>\n",
       "      <th>NNAN</th>\n",
       "      <td>0.28100</td>\n",
       "      <td>0.817</td>\n",
       "      <td>193479</td>\n",
       "      <td>0.5390</td>\n",
       "      <td>1</td>\n",
       "      <td>0.000000</td>\n",
       "      <td>5</td>\n",
       "      <td>0.1990</td>\n",
       "      <td>-5.015</td>\n",
       "      <td>1</td>\n",
       "      <td>65</td>\n",
       "      <td>2019-09-27</td>\n",
       "      <td>0.0626</td>\n",
       "      <td>96.039</td>\n",
       "      <td>0.674</td>\n",
       "      <td>2010s</td>\n",
       "    </tr>\n",
       "    <tr>\n",
       "      <th>VALENTINO</th>\n",
       "      <td>0.19700</td>\n",
       "      <td>0.744</td>\n",
       "      <td>179133</td>\n",
       "      <td>0.7180</td>\n",
       "      <td>1</td>\n",
       "      <td>0.000000</td>\n",
       "      <td>9</td>\n",
       "      <td>0.1340</td>\n",
       "      <td>-4.853</td>\n",
       "      <td>0</td>\n",
       "      <td>65</td>\n",
       "      <td>2019-01-25</td>\n",
       "      <td>0.1810</td>\n",
       "      <td>151.098</td>\n",
       "      <td>0.549</td>\n",
       "      <td>2010s</td>\n",
       "    </tr>\n",
       "    <tr>\n",
       "      <th>Novocaine</th>\n",
       "      <td>0.00191</td>\n",
       "      <td>0.652</td>\n",
       "      <td>245240</td>\n",
       "      <td>0.8330</td>\n",
       "      <td>1</td>\n",
       "      <td>0.000536</td>\n",
       "      <td>10</td>\n",
       "      <td>0.1220</td>\n",
       "      <td>-4.898</td>\n",
       "      <td>1</td>\n",
       "      <td>65</td>\n",
       "      <td>2019-03-22</td>\n",
       "      <td>0.0392</td>\n",
       "      <td>116.043</td>\n",
       "      <td>0.231</td>\n",
       "      <td>2010s</td>\n",
       "    </tr>\n",
       "    <tr>\n",
       "      <th>Chopper City</th>\n",
       "      <td>0.05070</td>\n",
       "      <td>0.598</td>\n",
       "      <td>152607</td>\n",
       "      <td>0.7730</td>\n",
       "      <td>1</td>\n",
       "      <td>0.000000</td>\n",
       "      <td>5</td>\n",
       "      <td>0.1330</td>\n",
       "      <td>-5.624</td>\n",
       "      <td>0</td>\n",
       "      <td>65</td>\n",
       "      <td>2020-11-13</td>\n",
       "      <td>0.4260</td>\n",
       "      <td>80.777</td>\n",
       "      <td>0.707</td>\n",
       "      <td>2020s</td>\n",
       "    </tr>\n",
       "  </tbody>\n",
       "</table>\n",
       "<p>901 rows × 16 columns</p>\n",
       "</div>"
      ],
      "text/plain": [
       "                                               acousticness  danceability  \\\n",
       "name                                                                        \n",
       "Rudolph the Red-Nosed Reindeer                      0.88300         0.629   \n",
       "I Fall In Love Too Easily - Vocal Version           0.94000         0.532   \n",
       "Pennies From Heaven                                 0.45200         0.515   \n",
       "I'll Be Seeing You                                  0.98900         0.355   \n",
       "Volare (Nel Blu Di Pinto Di Blu) - Remastered       0.88000         0.612   \n",
       "...                                                     ...           ...   \n",
       "Legacy (feat. Travis Scott & 21 Savage)             0.17800         0.844   \n",
       "NNAN                                                0.28100         0.817   \n",
       "VALENTINO                                           0.19700         0.744   \n",
       "Novocaine                                           0.00191         0.652   \n",
       "Chopper City                                        0.05070         0.598   \n",
       "\n",
       "                                               duration_ms  energy  explicit  \\\n",
       "name                                                                           \n",
       "Rudolph the Red-Nosed Reindeer                      186733  0.1590         0   \n",
       "I Fall In Love Too Easily - Vocal Version           201440  0.0657         0   \n",
       "Pennies From Heaven                                 141667  0.4080         0   \n",
       "I'll Be Seeing You                                  211533  0.0304         0   \n",
       "Volare (Nel Blu Di Pinto Di Blu) - Remastered       181627  0.1440         0   \n",
       "...                                                    ...     ...       ...   \n",
       "Legacy (feat. Travis Scott & 21 Savage)             244941  0.5130         1   \n",
       "NNAN                                                193479  0.5390         1   \n",
       "VALENTINO                                           179133  0.7180         1   \n",
       "Novocaine                                           245240  0.8330         1   \n",
       "Chopper City                                        152607  0.7730         1   \n",
       "\n",
       "                                               instrumentalness  key  \\\n",
       "name                                                                   \n",
       "Rudolph the Red-Nosed Reindeer                         0.000000    8   \n",
       "I Fall In Love Too Easily - Vocal Version              0.004880    0   \n",
       "Pennies From Heaven                                    0.000000    8   \n",
       "I'll Be Seeing You                                     0.055500    1   \n",
       "Volare (Nel Blu Di Pinto Di Blu) - Remastered          0.000000    6   \n",
       "...                                                         ...  ...   \n",
       "Legacy (feat. Travis Scott & 21 Savage)                0.000000    1   \n",
       "NNAN                                                   0.000000    5   \n",
       "VALENTINO                                              0.000000    9   \n",
       "Novocaine                                              0.000536   10   \n",
       "Chopper City                                           0.000000    5   \n",
       "\n",
       "                                               liveness  loudness  mode  \\\n",
       "name                                                                      \n",
       "Rudolph the Red-Nosed Reindeer                   0.2220   -14.056     1   \n",
       "I Fall In Love Too Easily - Vocal Version        0.0946   -19.136     0   \n",
       "Pennies From Heaven                              0.0682   -11.960     1   \n",
       "I'll Be Seeing You                               0.1160   -20.479     1   \n",
       "Volare (Nel Blu Di Pinto Di Blu) - Remastered    0.2030   -12.204     0   \n",
       "...                                                 ...       ...   ...   \n",
       "Legacy (feat. Travis Scott & 21 Savage)          0.0845    -8.769     1   \n",
       "NNAN                                             0.1990    -5.015     1   \n",
       "VALENTINO                                        0.1340    -4.853     0   \n",
       "Novocaine                                        0.1220    -4.898     1   \n",
       "Chopper City                                     0.1330    -5.624     0   \n",
       "\n",
       "                                               popularity release_date  \\\n",
       "name                                                                     \n",
       "Rudolph the Red-Nosed Reindeer                         65   1947-01-01   \n",
       "I Fall In Love Too Easily - Vocal Version              65   1956-01-01   \n",
       "Pennies From Heaven                                    65   1957-01-01   \n",
       "I'll Be Seeing You                                     65   1957-01-01   \n",
       "Volare (Nel Blu Di Pinto Di Blu) - Remastered          65   1958-01-01   \n",
       "...                                                   ...          ...   \n",
       "Legacy (feat. Travis Scott & 21 Savage)                65   2019-02-22   \n",
       "NNAN                                                   65   2019-09-27   \n",
       "VALENTINO                                              65   2019-01-25   \n",
       "Novocaine                                              65   2019-03-22   \n",
       "Chopper City                                           65   2020-11-13   \n",
       "\n",
       "                                               speechiness    tempo  valence  \\\n",
       "name                                                                           \n",
       "Rudolph the Red-Nosed Reindeer                      0.0495  142.157    0.642   \n",
       "I Fall In Love Too Easily - Vocal Version           0.0406  128.607    0.292   \n",
       "Pennies From Heaven                                 0.1940  185.767    0.915   \n",
       "I'll Be Seeing You                                  0.0361   90.495    0.188   \n",
       "Volare (Nel Blu Di Pinto Di Blu) - Remastered       0.0352  128.629    0.343   \n",
       "...                                                    ...      ...      ...   \n",
       "Legacy (feat. Travis Scott & 21 Savage)             0.3350  128.085    0.344   \n",
       "NNAN                                                0.0626   96.039    0.674   \n",
       "VALENTINO                                           0.1810  151.098    0.549   \n",
       "Novocaine                                           0.0392  116.043    0.231   \n",
       "Chopper City                                        0.4260   80.777    0.707   \n",
       "\n",
       "                                                year  \n",
       "name                                                  \n",
       "Rudolph the Red-Nosed Reindeer                 1940s  \n",
       "I Fall In Love Too Easily - Vocal Version      1950s  \n",
       "Pennies From Heaven                            1950s  \n",
       "I'll Be Seeing You                             1950s  \n",
       "Volare (Nel Blu Di Pinto Di Blu) - Remastered  1950s  \n",
       "...                                              ...  \n",
       "Legacy (feat. Travis Scott & 21 Savage)        2010s  \n",
       "NNAN                                           2010s  \n",
       "VALENTINO                                      2010s  \n",
       "Novocaine                                      2010s  \n",
       "Chopper City                                   2020s  \n",
       "\n",
       "[901 rows x 16 columns]"
      ]
     },
     "execution_count": 35,
     "metadata": {},
     "output_type": "execute_result"
    }
   ],
   "source": [
    "# Using the following code with various values to check what our thresholds should be\n",
    "\n",
    "df[df[\"popularity\"] == 65]"
   ]
  },
  {
   "cell_type": "markdown",
   "metadata": {},
   "source": [
    "> First we'll create strings and then label encode from there.  I'm sure there's an easier way, but this is what's worked for me to this point."
   ]
  },
  {
   "cell_type": "code",
   "execution_count": 36,
   "metadata": {
    "ExecuteTime": {
     "end_time": "2021-03-19T16:14:44.705784Z",
     "start_time": "2021-03-19T15:54:24.791508Z"
    }
   },
   "outputs": [
    {
     "name": "stderr",
     "output_type": "stream",
     "text": [
      "/Users/spags/opt/anaconda3/envs/learn-env/lib/python3.6/site-packages/ipykernel_launcher.py:1: TqdmDeprecationWarning: This function will be removed in tqdm==5.0.0\n",
      "Please use `tqdm.notebook.tqdm` instead of `tqdm.tqdm_notebook`\n",
      "  \"\"\"Entry point for launching an IPython kernel.\n"
     ]
    },
    {
     "data": {
      "application/vnd.jupyter.widget-view+json": {
       "model_id": "095e83de032f4fdebfba6ac061792ae3",
       "version_major": 2,
       "version_minor": 0
      },
      "text/plain": [
       "  0%|          | 0/174389 [00:00<?, ?it/s]"
      ]
     },
     "metadata": {},
     "output_type": "display_data"
    }
   ],
   "source": [
    "for i in tqdm(df['popularity']):\n",
    "    if i >= 65:\n",
    "        df['popularity'] = df['popularity'].replace(i, 'Hit')\n",
    "    else:\n",
    "        df['popularity'] = df['popularity'].replace(i, 'Dud')"
   ]
  },
  {
   "cell_type": "code",
   "execution_count": 37,
   "metadata": {
    "ExecuteTime": {
     "end_time": "2021-03-19T16:14:44.735639Z",
     "start_time": "2021-03-19T16:14:44.708953Z"
    }
   },
   "outputs": [
    {
     "data": {
      "text/plain": [
       "Dud    166417\n",
       "Hit      7972\n",
       "Name: popularity, dtype: int64"
      ]
     },
     "execution_count": 37,
     "metadata": {},
     "output_type": "execute_result"
    }
   ],
   "source": [
    "df['popularity'].value_counts()"
   ]
  },
  {
   "cell_type": "code",
   "execution_count": 38,
   "metadata": {
    "ExecuteTime": {
     "end_time": "2021-03-19T16:21:42.133280Z",
     "start_time": "2021-03-19T16:14:44.738035Z"
    }
   },
   "outputs": [
    {
     "name": "stderr",
     "output_type": "stream",
     "text": [
      "/Users/spags/opt/anaconda3/envs/learn-env/lib/python3.6/site-packages/ipykernel_launcher.py:3: TqdmDeprecationWarning: This function will be removed in tqdm==5.0.0\n",
      "Please use `tqdm.notebook.tqdm` instead of `tqdm.tqdm_notebook`\n",
      "  This is separate from the ipykernel package so we can avoid doing imports until\n"
     ]
    },
    {
     "data": {
      "application/vnd.jupyter.widget-view+json": {
       "model_id": "fb85c90162c941b0b770ab54b5b3a157",
       "version_major": 2,
       "version_minor": 0
      },
      "text/plain": [
       "  0%|          | 0/174389 [00:00<?, ?it/s]"
      ]
     },
     "metadata": {},
     "output_type": "display_data"
    }
   ],
   "source": [
    "# Now for encoding it for 1 and 0\n",
    "\n",
    "for i in tqdm(df['popularity']):\n",
    "    if i == 'Hit':\n",
    "        df['popularity'] = df['popularity'].replace(i, 1)\n",
    "    else: \n",
    "        df['popularity'] = df['popularity'].replace(i, 0)"
   ]
  },
  {
   "cell_type": "code",
   "execution_count": 39,
   "metadata": {
    "ExecuteTime": {
     "end_time": "2021-03-19T16:21:42.147014Z",
     "start_time": "2021-03-19T16:21:42.135800Z"
    }
   },
   "outputs": [
    {
     "data": {
      "text/plain": [
       "0    166417\n",
       "1      7972\n",
       "Name: popularity, dtype: int64"
      ]
     },
     "execution_count": 39,
     "metadata": {},
     "output_type": "execute_result"
    }
   ],
   "source": [
    "df['popularity'].value_counts()"
   ]
  },
  {
   "cell_type": "markdown",
   "metadata": {},
   "source": [
    "## Data Processing"
   ]
  },
  {
   "cell_type": "code",
   "execution_count": 40,
   "metadata": {
    "ExecuteTime": {
     "end_time": "2021-03-19T16:21:42.165190Z",
     "start_time": "2021-03-19T16:21:42.149489Z"
    }
   },
   "outputs": [],
   "source": [
    "from sklearn.model_selection import train_test_split"
   ]
  },
  {
   "cell_type": "code",
   "execution_count": 65,
   "metadata": {
    "ExecuteTime": {
     "end_time": "2021-03-19T17:19:08.252411Z",
     "start_time": "2021-03-19T17:19:08.140684Z"
    },
    "cell_style": "split"
   },
   "outputs": [
    {
     "name": "stdout",
     "output_type": "stream",
     "text": [
      "Shape of X_train: (139511, 15)\n",
      "Shape of X_test: (34878, 15)\n",
      "Shape of y_train (139511,)\n",
      "Shape of y_test (139511,)\n"
     ]
    }
   ],
   "source": [
    "# Set X and Y\n",
    "X = df.drop('popularity', axis = 1)\n",
    "y = df['popularity']\n",
    "\n",
    "# Train test split\n",
    "X_train, X_test, y_train, y_test = train_test_split(X, y, test_size = 0.2, random_state = 30)\n",
    "\n",
    "# See what we have\n",
    "print('Shape of X_train:', X_train.shape)\n",
    "print('Shape of X_test:', X_test.shape)\n",
    "print('Shape of y_train', y_train.shape)\n",
    "print('Shape of y_test', y_train.shape)"
   ]
  },
  {
   "cell_type": "code",
   "execution_count": 42,
   "metadata": {
    "ExecuteTime": {
     "end_time": "2021-03-19T16:21:42.333956Z",
     "start_time": "2021-03-19T16:21:42.308199Z"
    }
   },
   "outputs": [],
   "source": [
    "# Separate into num_cols and cat_cols\n",
    "num_cols = X_train.select_dtypes('number').columns\n",
    "cat_cols = X_train.select_dtypes('object').columns"
   ]
  },
  {
   "cell_type": "code",
   "execution_count": 43,
   "metadata": {
    "ExecuteTime": {
     "end_time": "2021-03-19T16:21:42.347821Z",
     "start_time": "2021-03-19T16:21:42.336812Z"
    }
   },
   "outputs": [],
   "source": [
    "from sklearn.pipeline import Pipeline\n",
    "from sklearn.preprocessing import StandardScaler, OneHotEncoder\n",
    "from sklearn.preprocessing import MinMaxScaler\n",
    "from sklearn.compose import ColumnTransformer"
   ]
  },
  {
   "cell_type": "code",
   "execution_count": 44,
   "metadata": {
    "ExecuteTime": {
     "end_time": "2021-03-19T16:21:42.576593Z",
     "start_time": "2021-03-19T16:21:42.350300Z"
    }
   },
   "outputs": [],
   "source": [
    "# Create Pipelines for column transformer\n",
    "\n",
    "num_transformer = Pipeline(steps = [('scaler', StandardScaler())])\n",
    "\n",
    "cat_transformer = Pipeline(steps = [('encoder', OneHotEncoder(handle_unknown = 'ignore', \n",
    "                                                              sparse = False))])\n",
    "\n",
    "# Create preprocessing pipeline with column transformer\n",
    "preprocessing = ColumnTransformer(transformers = [('num', num_transformer, num_cols),\n",
    "                                                  ('cat', cat_transformer, cat_cols)])\n",
    "\n",
    "X_train_processed = preprocessing.fit_transform(X_train)\n",
    "X_test_processed = preprocessing.transform(X_test)"
   ]
  },
  {
   "cell_type": "code",
   "execution_count": 45,
   "metadata": {
    "ExecuteTime": {
     "end_time": "2021-03-19T16:21:42.588290Z",
     "start_time": "2021-03-19T16:21:42.580033Z"
    }
   },
   "outputs": [],
   "source": [
    "# Get components together to make a dataframe\n",
    "slice_pipe = preprocessing.named_transformers_['cat']\n",
    "cat_features = slice_pipe.named_steps['encoder'].get_feature_names(cat_cols)\n",
    "\n",
    "# Put data back into a clean dataframe\n",
    "X_train_df = pd.DataFrame(X_train_processed, columns = [*num_cols, *cat_features])\n",
    "X_test_df = pd.DataFrame(X_test_processed, columns = [*num_cols, *cat_features])"
   ]
  },
  {
   "cell_type": "markdown",
   "metadata": {},
   "source": [
    "#### Final Clean Dataframe"
   ]
  },
  {
   "cell_type": "code",
   "execution_count": 46,
   "metadata": {
    "ExecuteTime": {
     "end_time": "2021-03-19T16:21:42.626573Z",
     "start_time": "2021-03-19T16:21:42.590787Z"
    }
   },
   "outputs": [
    {
     "data": {
      "text/html": [
       "<div>\n",
       "<style scoped>\n",
       "    .dataframe tbody tr th:only-of-type {\n",
       "        vertical-align: middle;\n",
       "    }\n",
       "\n",
       "    .dataframe tbody tr th {\n",
       "        vertical-align: top;\n",
       "    }\n",
       "\n",
       "    .dataframe thead th {\n",
       "        text-align: right;\n",
       "    }\n",
       "</style>\n",
       "<table border=\"1\" class=\"dataframe\">\n",
       "  <thead>\n",
       "    <tr style=\"text-align: right;\">\n",
       "      <th></th>\n",
       "      <th>acousticness</th>\n",
       "      <th>danceability</th>\n",
       "      <th>duration_ms</th>\n",
       "      <th>energy</th>\n",
       "      <th>explicit</th>\n",
       "      <th>instrumentalness</th>\n",
       "      <th>key</th>\n",
       "      <th>liveness</th>\n",
       "      <th>loudness</th>\n",
       "      <th>mode</th>\n",
       "      <th>...</th>\n",
       "      <th>year_1930s</th>\n",
       "      <th>year_1940s</th>\n",
       "      <th>year_1950s</th>\n",
       "      <th>year_1960s</th>\n",
       "      <th>year_1970s</th>\n",
       "      <th>year_1980s</th>\n",
       "      <th>year_1990s</th>\n",
       "      <th>year_2000s</th>\n",
       "      <th>year_2010s</th>\n",
       "      <th>year_2020s</th>\n",
       "    </tr>\n",
       "  </thead>\n",
       "  <tbody>\n",
       "    <tr>\n",
       "      <th>0</th>\n",
       "      <td>-1.299562</td>\n",
       "      <td>1.556711</td>\n",
       "      <td>1.435024</td>\n",
       "      <td>1.028590</td>\n",
       "      <td>3.695202</td>\n",
       "      <td>2.029732</td>\n",
       "      <td>0.226166</td>\n",
       "      <td>-0.560845</td>\n",
       "      <td>0.398806</td>\n",
       "      <td>0.650954</td>\n",
       "      <td>...</td>\n",
       "      <td>0.0</td>\n",
       "      <td>0.0</td>\n",
       "      <td>0.0</td>\n",
       "      <td>0.0</td>\n",
       "      <td>0.0</td>\n",
       "      <td>0.0</td>\n",
       "      <td>0.0</td>\n",
       "      <td>0.0</td>\n",
       "      <td>1.0</td>\n",
       "      <td>0.0</td>\n",
       "    </tr>\n",
       "    <tr>\n",
       "      <th>1</th>\n",
       "      <td>-1.313867</td>\n",
       "      <td>0.074183</td>\n",
       "      <td>0.139441</td>\n",
       "      <td>1.035929</td>\n",
       "      <td>-0.270621</td>\n",
       "      <td>2.017785</td>\n",
       "      <td>0.510619</td>\n",
       "      <td>-0.438669</td>\n",
       "      <td>0.538275</td>\n",
       "      <td>0.650954</td>\n",
       "      <td>...</td>\n",
       "      <td>0.0</td>\n",
       "      <td>0.0</td>\n",
       "      <td>0.0</td>\n",
       "      <td>0.0</td>\n",
       "      <td>0.0</td>\n",
       "      <td>1.0</td>\n",
       "      <td>0.0</td>\n",
       "      <td>0.0</td>\n",
       "      <td>0.0</td>\n",
       "      <td>0.0</td>\n",
       "    </tr>\n",
       "    <tr>\n",
       "      <th>2</th>\n",
       "      <td>0.133647</td>\n",
       "      <td>-0.385911</td>\n",
       "      <td>-0.081235</td>\n",
       "      <td>0.081851</td>\n",
       "      <td>-0.270621</td>\n",
       "      <td>-0.589023</td>\n",
       "      <td>-1.480552</td>\n",
       "      <td>-0.874616</td>\n",
       "      <td>-0.133776</td>\n",
       "      <td>0.650954</td>\n",
       "      <td>...</td>\n",
       "      <td>0.0</td>\n",
       "      <td>0.0</td>\n",
       "      <td>1.0</td>\n",
       "      <td>0.0</td>\n",
       "      <td>0.0</td>\n",
       "      <td>0.0</td>\n",
       "      <td>0.0</td>\n",
       "      <td>0.0</td>\n",
       "      <td>0.0</td>\n",
       "      <td>0.0</td>\n",
       "    </tr>\n",
       "    <tr>\n",
       "      <th>3</th>\n",
       "      <td>1.241662</td>\n",
       "      <td>-1.618511</td>\n",
       "      <td>-0.117687</td>\n",
       "      <td>-0.971305</td>\n",
       "      <td>-0.270621</td>\n",
       "      <td>0.130043</td>\n",
       "      <td>-0.911646</td>\n",
       "      <td>0.460994</td>\n",
       "      <td>0.014827</td>\n",
       "      <td>0.650954</td>\n",
       "      <td>...</td>\n",
       "      <td>0.0</td>\n",
       "      <td>1.0</td>\n",
       "      <td>0.0</td>\n",
       "      <td>0.0</td>\n",
       "      <td>0.0</td>\n",
       "      <td>0.0</td>\n",
       "      <td>0.0</td>\n",
       "      <td>0.0</td>\n",
       "      <td>0.0</td>\n",
       "      <td>0.0</td>\n",
       "    </tr>\n",
       "    <tr>\n",
       "      <th>4</th>\n",
       "      <td>0.810036</td>\n",
       "      <td>1.085256</td>\n",
       "      <td>-0.410690</td>\n",
       "      <td>-0.119974</td>\n",
       "      <td>-0.270621</td>\n",
       "      <td>-0.589793</td>\n",
       "      <td>1.079525</td>\n",
       "      <td>0.338818</td>\n",
       "      <td>1.146212</td>\n",
       "      <td>0.650954</td>\n",
       "      <td>...</td>\n",
       "      <td>0.0</td>\n",
       "      <td>0.0</td>\n",
       "      <td>1.0</td>\n",
       "      <td>0.0</td>\n",
       "      <td>0.0</td>\n",
       "      <td>0.0</td>\n",
       "      <td>0.0</td>\n",
       "      <td>0.0</td>\n",
       "      <td>0.0</td>\n",
       "      <td>0.0</td>\n",
       "    </tr>\n",
       "  </tbody>\n",
       "</table>\n",
       "<p>5 rows × 24 columns</p>\n",
       "</div>"
      ],
      "text/plain": [
       "   acousticness  danceability  duration_ms    energy  explicit  \\\n",
       "0     -1.299562      1.556711     1.435024  1.028590  3.695202   \n",
       "1     -1.313867      0.074183     0.139441  1.035929 -0.270621   \n",
       "2      0.133647     -0.385911    -0.081235  0.081851 -0.270621   \n",
       "3      1.241662     -1.618511    -0.117687 -0.971305 -0.270621   \n",
       "4      0.810036      1.085256    -0.410690 -0.119974 -0.270621   \n",
       "\n",
       "   instrumentalness       key  liveness  loudness      mode  ...  year_1930s  \\\n",
       "0          2.029732  0.226166 -0.560845  0.398806  0.650954  ...         0.0   \n",
       "1          2.017785  0.510619 -0.438669  0.538275  0.650954  ...         0.0   \n",
       "2         -0.589023 -1.480552 -0.874616 -0.133776  0.650954  ...         0.0   \n",
       "3          0.130043 -0.911646  0.460994  0.014827  0.650954  ...         0.0   \n",
       "4         -0.589793  1.079525  0.338818  1.146212  0.650954  ...         0.0   \n",
       "\n",
       "   year_1940s  year_1950s  year_1960s  year_1970s  year_1980s  year_1990s  \\\n",
       "0         0.0         0.0         0.0         0.0         0.0         0.0   \n",
       "1         0.0         0.0         0.0         0.0         1.0         0.0   \n",
       "2         0.0         1.0         0.0         0.0         0.0         0.0   \n",
       "3         1.0         0.0         0.0         0.0         0.0         0.0   \n",
       "4         0.0         1.0         0.0         0.0         0.0         0.0   \n",
       "\n",
       "   year_2000s  year_2010s  year_2020s  \n",
       "0         0.0         1.0         0.0  \n",
       "1         0.0         0.0         0.0  \n",
       "2         0.0         0.0         0.0  \n",
       "3         0.0         0.0         0.0  \n",
       "4         0.0         0.0         0.0  \n",
       "\n",
       "[5 rows x 24 columns]"
      ]
     },
     "execution_count": 46,
     "metadata": {},
     "output_type": "execute_result"
    }
   ],
   "source": [
    "X_train_df.head()"
   ]
  },
  {
   "cell_type": "code",
   "execution_count": 47,
   "metadata": {
    "ExecuteTime": {
     "end_time": "2021-03-19T16:21:42.662162Z",
     "start_time": "2021-03-19T16:21:42.628656Z"
    }
   },
   "outputs": [
    {
     "data": {
      "text/html": [
       "<div>\n",
       "<style scoped>\n",
       "    .dataframe tbody tr th:only-of-type {\n",
       "        vertical-align: middle;\n",
       "    }\n",
       "\n",
       "    .dataframe tbody tr th {\n",
       "        vertical-align: top;\n",
       "    }\n",
       "\n",
       "    .dataframe thead th {\n",
       "        text-align: right;\n",
       "    }\n",
       "</style>\n",
       "<table border=\"1\" class=\"dataframe\">\n",
       "  <thead>\n",
       "    <tr style=\"text-align: right;\">\n",
       "      <th></th>\n",
       "      <th>acousticness</th>\n",
       "      <th>danceability</th>\n",
       "      <th>duration_ms</th>\n",
       "      <th>energy</th>\n",
       "      <th>explicit</th>\n",
       "      <th>instrumentalness</th>\n",
       "      <th>key</th>\n",
       "      <th>liveness</th>\n",
       "      <th>loudness</th>\n",
       "      <th>mode</th>\n",
       "      <th>...</th>\n",
       "      <th>year_1930s</th>\n",
       "      <th>year_1940s</th>\n",
       "      <th>year_1950s</th>\n",
       "      <th>year_1960s</th>\n",
       "      <th>year_1970s</th>\n",
       "      <th>year_1980s</th>\n",
       "      <th>year_1990s</th>\n",
       "      <th>year_2000s</th>\n",
       "      <th>year_2010s</th>\n",
       "      <th>year_2020s</th>\n",
       "    </tr>\n",
       "  </thead>\n",
       "  <tbody>\n",
       "    <tr>\n",
       "      <th>0</th>\n",
       "      <td>0.825828</td>\n",
       "      <td>0.233228</td>\n",
       "      <td>0.059099</td>\n",
       "      <td>-0.483257</td>\n",
       "      <td>-0.270621</td>\n",
       "      <td>-0.589808</td>\n",
       "      <td>1.648431</td>\n",
       "      <td>-0.488650</td>\n",
       "      <td>-0.120075</td>\n",
       "      <td>-1.536206</td>\n",
       "      <td>...</td>\n",
       "      <td>0.0</td>\n",
       "      <td>0.0</td>\n",
       "      <td>1.0</td>\n",
       "      <td>0.0</td>\n",
       "      <td>0.0</td>\n",
       "      <td>0.0</td>\n",
       "      <td>0.0</td>\n",
       "      <td>0.0</td>\n",
       "      <td>0.0</td>\n",
       "      <td>0.0</td>\n",
       "    </tr>\n",
       "    <tr>\n",
       "      <th>1</th>\n",
       "      <td>-1.310485</td>\n",
       "      <td>-0.834646</td>\n",
       "      <td>-0.985601</td>\n",
       "      <td>1.582690</td>\n",
       "      <td>-0.270621</td>\n",
       "      <td>-0.589808</td>\n",
       "      <td>-0.342740</td>\n",
       "      <td>3.765311</td>\n",
       "      <td>0.824766</td>\n",
       "      <td>-1.536206</td>\n",
       "      <td>...</td>\n",
       "      <td>0.0</td>\n",
       "      <td>0.0</td>\n",
       "      <td>0.0</td>\n",
       "      <td>0.0</td>\n",
       "      <td>0.0</td>\n",
       "      <td>1.0</td>\n",
       "      <td>0.0</td>\n",
       "      <td>0.0</td>\n",
       "      <td>0.0</td>\n",
       "      <td>0.0</td>\n",
       "    </tr>\n",
       "    <tr>\n",
       "      <th>2</th>\n",
       "      <td>1.270613</td>\n",
       "      <td>-0.868727</td>\n",
       "      <td>0.097934</td>\n",
       "      <td>-0.149330</td>\n",
       "      <td>-0.270621</td>\n",
       "      <td>-0.551277</td>\n",
       "      <td>-0.911646</td>\n",
       "      <td>0.749775</td>\n",
       "      <td>-0.068257</td>\n",
       "      <td>-1.536206</td>\n",
       "      <td>...</td>\n",
       "      <td>0.0</td>\n",
       "      <td>0.0</td>\n",
       "      <td>1.0</td>\n",
       "      <td>0.0</td>\n",
       "      <td>0.0</td>\n",
       "      <td>0.0</td>\n",
       "      <td>0.0</td>\n",
       "      <td>0.0</td>\n",
       "      <td>0.0</td>\n",
       "      <td>0.0</td>\n",
       "    </tr>\n",
       "    <tr>\n",
       "      <th>3</th>\n",
       "      <td>1.257454</td>\n",
       "      <td>1.085256</td>\n",
       "      <td>-0.361463</td>\n",
       "      <td>-1.077722</td>\n",
       "      <td>-0.270621</td>\n",
       "      <td>-0.589780</td>\n",
       "      <td>-0.627193</td>\n",
       "      <td>1.732740</td>\n",
       "      <td>-0.225116</td>\n",
       "      <td>0.650954</td>\n",
       "      <td>...</td>\n",
       "      <td>1.0</td>\n",
       "      <td>0.0</td>\n",
       "      <td>0.0</td>\n",
       "      <td>0.0</td>\n",
       "      <td>0.0</td>\n",
       "      <td>0.0</td>\n",
       "      <td>0.0</td>\n",
       "      <td>0.0</td>\n",
       "      <td>0.0</td>\n",
       "      <td>0.0</td>\n",
       "    </tr>\n",
       "    <tr>\n",
       "      <th>4</th>\n",
       "      <td>0.865306</td>\n",
       "      <td>-1.947961</td>\n",
       "      <td>1.608862</td>\n",
       "      <td>-0.483257</td>\n",
       "      <td>-0.270621</td>\n",
       "      <td>2.131288</td>\n",
       "      <td>-1.480552</td>\n",
       "      <td>-0.549738</td>\n",
       "      <td>-0.630349</td>\n",
       "      <td>0.650954</td>\n",
       "      <td>...</td>\n",
       "      <td>0.0</td>\n",
       "      <td>0.0</td>\n",
       "      <td>0.0</td>\n",
       "      <td>0.0</td>\n",
       "      <td>0.0</td>\n",
       "      <td>0.0</td>\n",
       "      <td>0.0</td>\n",
       "      <td>0.0</td>\n",
       "      <td>1.0</td>\n",
       "      <td>0.0</td>\n",
       "    </tr>\n",
       "  </tbody>\n",
       "</table>\n",
       "<p>5 rows × 24 columns</p>\n",
       "</div>"
      ],
      "text/plain": [
       "   acousticness  danceability  duration_ms    energy  explicit  \\\n",
       "0      0.825828      0.233228     0.059099 -0.483257 -0.270621   \n",
       "1     -1.310485     -0.834646    -0.985601  1.582690 -0.270621   \n",
       "2      1.270613     -0.868727     0.097934 -0.149330 -0.270621   \n",
       "3      1.257454      1.085256    -0.361463 -1.077722 -0.270621   \n",
       "4      0.865306     -1.947961     1.608862 -0.483257 -0.270621   \n",
       "\n",
       "   instrumentalness       key  liveness  loudness      mode  ...  year_1930s  \\\n",
       "0         -0.589808  1.648431 -0.488650 -0.120075 -1.536206  ...         0.0   \n",
       "1         -0.589808 -0.342740  3.765311  0.824766 -1.536206  ...         0.0   \n",
       "2         -0.551277 -0.911646  0.749775 -0.068257 -1.536206  ...         0.0   \n",
       "3         -0.589780 -0.627193  1.732740 -0.225116  0.650954  ...         1.0   \n",
       "4          2.131288 -1.480552 -0.549738 -0.630349  0.650954  ...         0.0   \n",
       "\n",
       "   year_1940s  year_1950s  year_1960s  year_1970s  year_1980s  year_1990s  \\\n",
       "0         0.0         1.0         0.0         0.0         0.0         0.0   \n",
       "1         0.0         0.0         0.0         0.0         1.0         0.0   \n",
       "2         0.0         1.0         0.0         0.0         0.0         0.0   \n",
       "3         0.0         0.0         0.0         0.0         0.0         0.0   \n",
       "4         0.0         0.0         0.0         0.0         0.0         0.0   \n",
       "\n",
       "   year_2000s  year_2010s  year_2020s  \n",
       "0         0.0         0.0         0.0  \n",
       "1         0.0         0.0         0.0  \n",
       "2         0.0         0.0         0.0  \n",
       "3         0.0         0.0         0.0  \n",
       "4         0.0         1.0         0.0  \n",
       "\n",
       "[5 rows x 24 columns]"
      ]
     },
     "execution_count": 47,
     "metadata": {},
     "output_type": "execute_result"
    }
   ],
   "source": [
    "X_test_df.head()"
   ]
  },
  {
   "cell_type": "markdown",
   "metadata": {},
   "source": [
    "## Exploration"
   ]
  },
  {
   "cell_type": "code",
   "execution_count": 48,
   "metadata": {
    "ExecuteTime": {
     "end_time": "2021-03-19T16:21:42.689792Z",
     "start_time": "2021-03-19T16:21:42.664495Z"
    }
   },
   "outputs": [
    {
     "data": {
      "text/html": [
       "<div>\n",
       "<style scoped>\n",
       "    .dataframe tbody tr th:only-of-type {\n",
       "        vertical-align: middle;\n",
       "    }\n",
       "\n",
       "    .dataframe tbody tr th {\n",
       "        vertical-align: top;\n",
       "    }\n",
       "\n",
       "    .dataframe thead th {\n",
       "        text-align: right;\n",
       "    }\n",
       "</style>\n",
       "<table border=\"1\" class=\"dataframe\">\n",
       "  <thead>\n",
       "    <tr style=\"text-align: right;\">\n",
       "      <th></th>\n",
       "      <th>acousticness</th>\n",
       "      <th>danceability</th>\n",
       "      <th>duration_ms</th>\n",
       "      <th>energy</th>\n",
       "      <th>explicit</th>\n",
       "      <th>instrumentalness</th>\n",
       "      <th>key</th>\n",
       "      <th>liveness</th>\n",
       "      <th>loudness</th>\n",
       "      <th>mode</th>\n",
       "      <th>popularity</th>\n",
       "      <th>release_date</th>\n",
       "      <th>speechiness</th>\n",
       "      <th>tempo</th>\n",
       "      <th>valence</th>\n",
       "      <th>year</th>\n",
       "    </tr>\n",
       "    <tr>\n",
       "      <th>name</th>\n",
       "      <th></th>\n",
       "      <th></th>\n",
       "      <th></th>\n",
       "      <th></th>\n",
       "      <th></th>\n",
       "      <th></th>\n",
       "      <th></th>\n",
       "      <th></th>\n",
       "      <th></th>\n",
       "      <th></th>\n",
       "      <th></th>\n",
       "      <th></th>\n",
       "      <th></th>\n",
       "      <th></th>\n",
       "      <th></th>\n",
       "      <th></th>\n",
       "    </tr>\n",
       "  </thead>\n",
       "  <tbody>\n",
       "    <tr>\n",
       "      <th>Keep A Song In Your Soul</th>\n",
       "      <td>0.991000</td>\n",
       "      <td>0.598</td>\n",
       "      <td>168333</td>\n",
       "      <td>0.224</td>\n",
       "      <td>0</td>\n",
       "      <td>0.000522</td>\n",
       "      <td>5</td>\n",
       "      <td>0.3790</td>\n",
       "      <td>-12.628</td>\n",
       "      <td>0</td>\n",
       "      <td>0</td>\n",
       "      <td>1920-01-01</td>\n",
       "      <td>0.0936</td>\n",
       "      <td>149.976</td>\n",
       "      <td>0.6340</td>\n",
       "      <td>1920s</td>\n",
       "    </tr>\n",
       "    <tr>\n",
       "      <th>I Put A Spell On You</th>\n",
       "      <td>0.643000</td>\n",
       "      <td>0.852</td>\n",
       "      <td>150200</td>\n",
       "      <td>0.517</td>\n",
       "      <td>0</td>\n",
       "      <td>0.026400</td>\n",
       "      <td>5</td>\n",
       "      <td>0.0809</td>\n",
       "      <td>-7.261</td>\n",
       "      <td>0</td>\n",
       "      <td>0</td>\n",
       "      <td>1920-01-05</td>\n",
       "      <td>0.0534</td>\n",
       "      <td>86.889</td>\n",
       "      <td>0.9500</td>\n",
       "      <td>1920s</td>\n",
       "    </tr>\n",
       "    <tr>\n",
       "      <th>Golfing Papa</th>\n",
       "      <td>0.993000</td>\n",
       "      <td>0.647</td>\n",
       "      <td>163827</td>\n",
       "      <td>0.186</td>\n",
       "      <td>0</td>\n",
       "      <td>0.000018</td>\n",
       "      <td>0</td>\n",
       "      <td>0.5190</td>\n",
       "      <td>-12.098</td>\n",
       "      <td>1</td>\n",
       "      <td>0</td>\n",
       "      <td>1920-01-01</td>\n",
       "      <td>0.1740</td>\n",
       "      <td>97.600</td>\n",
       "      <td>0.6890</td>\n",
       "      <td>1920s</td>\n",
       "    </tr>\n",
       "    <tr>\n",
       "      <th>True House Music - Xavier Santos &amp; Carlos Gomix Remix</th>\n",
       "      <td>0.000173</td>\n",
       "      <td>0.730</td>\n",
       "      <td>422087</td>\n",
       "      <td>0.798</td>\n",
       "      <td>0</td>\n",
       "      <td>0.801000</td>\n",
       "      <td>2</td>\n",
       "      <td>0.1280</td>\n",
       "      <td>-7.311</td>\n",
       "      <td>1</td>\n",
       "      <td>0</td>\n",
       "      <td>1920-01-01</td>\n",
       "      <td>0.0425</td>\n",
       "      <td>127.997</td>\n",
       "      <td>0.0422</td>\n",
       "      <td>1920s</td>\n",
       "    </tr>\n",
       "    <tr>\n",
       "      <th>Xuniverxe</th>\n",
       "      <td>0.295000</td>\n",
       "      <td>0.704</td>\n",
       "      <td>165224</td>\n",
       "      <td>0.707</td>\n",
       "      <td>1</td>\n",
       "      <td>0.000246</td>\n",
       "      <td>10</td>\n",
       "      <td>0.4020</td>\n",
       "      <td>-6.036</td>\n",
       "      <td>0</td>\n",
       "      <td>0</td>\n",
       "      <td>1920-10-01</td>\n",
       "      <td>0.0768</td>\n",
       "      <td>122.076</td>\n",
       "      <td>0.2990</td>\n",
       "      <td>1920s</td>\n",
       "    </tr>\n",
       "  </tbody>\n",
       "</table>\n",
       "</div>"
      ],
      "text/plain": [
       "                                                    acousticness  \\\n",
       "name                                                               \n",
       "Keep A Song In Your Soul                                0.991000   \n",
       "I Put A Spell On You                                    0.643000   \n",
       "Golfing Papa                                            0.993000   \n",
       "True House Music - Xavier Santos & Carlos Gomix...      0.000173   \n",
       "Xuniverxe                                               0.295000   \n",
       "\n",
       "                                                    danceability  duration_ms  \\\n",
       "name                                                                            \n",
       "Keep A Song In Your Soul                                   0.598       168333   \n",
       "I Put A Spell On You                                       0.852       150200   \n",
       "Golfing Papa                                               0.647       163827   \n",
       "True House Music - Xavier Santos & Carlos Gomix...         0.730       422087   \n",
       "Xuniverxe                                                  0.704       165224   \n",
       "\n",
       "                                                    energy  explicit  \\\n",
       "name                                                                   \n",
       "Keep A Song In Your Soul                             0.224         0   \n",
       "I Put A Spell On You                                 0.517         0   \n",
       "Golfing Papa                                         0.186         0   \n",
       "True House Music - Xavier Santos & Carlos Gomix...   0.798         0   \n",
       "Xuniverxe                                            0.707         1   \n",
       "\n",
       "                                                    instrumentalness  key  \\\n",
       "name                                                                        \n",
       "Keep A Song In Your Soul                                    0.000522    5   \n",
       "I Put A Spell On You                                        0.026400    5   \n",
       "Golfing Papa                                                0.000018    0   \n",
       "True House Music - Xavier Santos & Carlos Gomix...          0.801000    2   \n",
       "Xuniverxe                                                   0.000246   10   \n",
       "\n",
       "                                                    liveness  loudness  mode  \\\n",
       "name                                                                           \n",
       "Keep A Song In Your Soul                              0.3790   -12.628     0   \n",
       "I Put A Spell On You                                  0.0809    -7.261     0   \n",
       "Golfing Papa                                          0.5190   -12.098     1   \n",
       "True House Music - Xavier Santos & Carlos Gomix...    0.1280    -7.311     1   \n",
       "Xuniverxe                                             0.4020    -6.036     0   \n",
       "\n",
       "                                                    popularity release_date  \\\n",
       "name                                                                          \n",
       "Keep A Song In Your Soul                                     0   1920-01-01   \n",
       "I Put A Spell On You                                         0   1920-01-05   \n",
       "Golfing Papa                                                 0   1920-01-01   \n",
       "True House Music - Xavier Santos & Carlos Gomix...           0   1920-01-01   \n",
       "Xuniverxe                                                    0   1920-10-01   \n",
       "\n",
       "                                                    speechiness    tempo  \\\n",
       "name                                                                       \n",
       "Keep A Song In Your Soul                                 0.0936  149.976   \n",
       "I Put A Spell On You                                     0.0534   86.889   \n",
       "Golfing Papa                                             0.1740   97.600   \n",
       "True House Music - Xavier Santos & Carlos Gomix...       0.0425  127.997   \n",
       "Xuniverxe                                                0.0768  122.076   \n",
       "\n",
       "                                                    valence   year  \n",
       "name                                                                \n",
       "Keep A Song In Your Soul                             0.6340  1920s  \n",
       "I Put A Spell On You                                 0.9500  1920s  \n",
       "Golfing Papa                                         0.6890  1920s  \n",
       "True House Music - Xavier Santos & Carlos Gomix...   0.0422  1920s  \n",
       "Xuniverxe                                            0.2990  1920s  "
      ]
     },
     "execution_count": 48,
     "metadata": {},
     "output_type": "execute_result"
    }
   ],
   "source": [
    "# Use original dataframe for this\n",
    "\n",
    "df.head()"
   ]
  },
  {
   "cell_type": "markdown",
   "metadata": {},
   "source": [
    "## Modeling"
   ]
  },
  {
   "cell_type": "code",
   "execution_count": 80,
   "metadata": {
    "ExecuteTime": {
     "end_time": "2021-03-19T23:25:37.625859Z",
     "start_time": "2021-03-19T23:25:37.593794Z"
    }
   },
   "outputs": [
    {
     "name": "stderr",
     "output_type": "stream",
     "text": [
      "/Users/spags/opt/anaconda3/envs/learn-env/lib/python3.6/site-packages/sklearn/utils/validation.py:70: FutureWarning: Pass classes=[0 1], y=name\n",
      "Beat Me Back - Original Mix        0\n",
      "She Sells Sanctuary                1\n",
      "Take Off                           0\n",
      "Ddoje stelle so' cadute            0\n",
      "Sun Sun Sun Sun Zalima             0\n",
      "                                  ..\n",
      "Jawbone                            0\n",
      "Donna Lee - Original Take          0\n",
      "The Walls Have Ears                0\n",
      "Country Pie                        0\n",
      "Cowboy Cumbia - English Version    0\n",
      "Name: popularity, Length: 139511, dtype: int64 as keyword args. From version 0.25 passing these as positional arguments will result in an error\n",
      "  FutureWarning)\n"
     ]
    },
    {
     "data": {
      "text/plain": [
       "array([ 0.52410702, 10.87042232])"
      ]
     },
     "execution_count": 80,
     "metadata": {},
     "output_type": "execute_result"
    }
   ],
   "source": [
    "# Calculate class weights\n",
    "\n",
    "from sklearn.utils import class_weight\n",
    "\n",
    "class_weights = class_weight.compute_class_weight('balanced',\n",
    "                                                  np.unique(y_train),\n",
    "                                                  y_train)\n",
    "\n",
    "class_weights"
   ]
  },
  {
   "cell_type": "markdown",
   "metadata": {},
   "source": [
    "### Logistic Regression"
   ]
  },
  {
   "cell_type": "code",
   "execution_count": 49,
   "metadata": {
    "ExecuteTime": {
     "end_time": "2021-03-19T16:21:42.747704Z",
     "start_time": "2021-03-19T16:21:42.692145Z"
    }
   },
   "outputs": [],
   "source": [
    "from sklearn.linear_model import LogisticRegression"
   ]
  },
  {
   "cell_type": "markdown",
   "metadata": {},
   "source": [
    "#### Base Model"
   ]
  },
  {
   "cell_type": "code",
   "execution_count": 82,
   "metadata": {
    "ExecuteTime": {
     "end_time": "2021-03-19T23:26:11.687006Z",
     "start_time": "2021-03-19T23:26:09.497270Z"
    }
   },
   "outputs": [
    {
     "name": "stderr",
     "output_type": "stream",
     "text": [
      "/Users/spags/opt/anaconda3/envs/learn-env/lib/python3.6/site-packages/sklearn/linear_model/_logistic.py:764: ConvergenceWarning: lbfgs failed to converge (status=1):\n",
      "STOP: TOTAL NO. of ITERATIONS REACHED LIMIT.\n",
      "\n",
      "Increase the number of iterations (max_iter) or scale the data as shown in:\n",
      "    https://scikit-learn.org/stable/modules/preprocessing.html\n",
      "Please also refer to the documentation for alternative solver options:\n",
      "    https://scikit-learn.org/stable/modules/linear_model.html#logistic-regression\n",
      "  extra_warning_msg=_LOGISTIC_SOLVER_CONVERGENCE_MSG)\n"
     ]
    },
    {
     "name": "stdout",
     "output_type": "stream",
     "text": [
      "--------- Classification Report ----------\n",
      "\n",
      "              precision    recall  f1-score   support\n",
      "\n",
      "           0       0.99      0.82      0.90     33323\n",
      "           1       0.17      0.80      0.29      1555\n",
      "\n",
      "    accuracy                           0.82     34878\n",
      "   macro avg       0.58      0.81      0.59     34878\n",
      "weighted avg       0.95      0.82      0.87     34878\n",
      "\n"
     ]
    },
    {
     "data": {
      "image/png": "[encoded data removed]",
      "text/plain": [
       "<Figure size 864x432 with 3 Axes>"
      ]
     },
     "metadata": {
      "needs_background": "light"
     },
     "output_type": "display_data"
    }
   ],
   "source": [
    "# Set model \n",
    "log = LogisticRegression(class_weight = 'balanced', \n",
    "                         random_state = 30)\n",
    "\n",
    "# Fit model\n",
    "log.fit(X_train_df, y_train)\n",
    "\n",
    "# Evaluate Model\n",
    "evaluate_model(log, X_test_df, y_test)"
   ]
  },
  {
   "cell_type": "markdown",
   "metadata": {},
   "source": [
    "#### LogisticRegressionCV"
   ]
  },
  {
   "cell_type": "markdown",
   "metadata": {},
   "source": [
    "Trying this out.  Essentially Logistic Regression with built in cross validation."
   ]
  },
  {
   "cell_type": "code",
   "execution_count": 51,
   "metadata": {
    "ExecuteTime": {
     "end_time": "2021-03-19T16:21:44.957394Z",
     "start_time": "2021-03-19T16:21:44.954201Z"
    }
   },
   "outputs": [],
   "source": [
    "from sklearn.linear_model import LogisticRegressionCV"
   ]
  },
  {
   "cell_type": "code",
   "execution_count": 52,
   "metadata": {
    "ExecuteTime": {
     "end_time": "2021-03-19T16:22:11.449965Z",
     "start_time": "2021-03-19T16:21:44.960835Z"
    }
   },
   "outputs": [
    {
     "name": "stderr",
     "output_type": "stream",
     "text": [
      "/Users/spags/opt/anaconda3/envs/learn-env/lib/python3.6/site-packages/sklearn/linear_model/_logistic.py:764: ConvergenceWarning: lbfgs failed to converge (status=1):\n",
      "STOP: TOTAL NO. of ITERATIONS REACHED LIMIT.\n",
      "\n",
      "Increase the number of iterations (max_iter) or scale the data as shown in:\n",
      "    https://scikit-learn.org/stable/modules/preprocessing.html\n",
      "Please also refer to the documentation for alternative solver options:\n",
      "    https://scikit-learn.org/stable/modules/linear_model.html#logistic-regression\n",
      "  extra_warning_msg=_LOGISTIC_SOLVER_CONVERGENCE_MSG)\n",
      "/Users/spags/opt/anaconda3/envs/learn-env/lib/python3.6/site-packages/sklearn/linear_model/_logistic.py:764: ConvergenceWarning: lbfgs failed to converge (status=1):\n",
      "STOP: TOTAL NO. of ITERATIONS REACHED LIMIT.\n",
      "\n",
      "Increase the number of iterations (max_iter) or scale the data as shown in:\n",
      "    https://scikit-learn.org/stable/modules/preprocessing.html\n",
      "Please also refer to the documentation for alternative solver options:\n",
      "    https://scikit-learn.org/stable/modules/linear_model.html#logistic-regression\n",
      "  extra_warning_msg=_LOGISTIC_SOLVER_CONVERGENCE_MSG)\n",
      "/Users/spags/opt/anaconda3/envs/learn-env/lib/python3.6/site-packages/sklearn/linear_model/_logistic.py:764: ConvergenceWarning: lbfgs failed to converge (status=1):\n",
      "STOP: TOTAL NO. of ITERATIONS REACHED LIMIT.\n",
      "\n",
      "Increase the number of iterations (max_iter) or scale the data as shown in:\n",
      "    https://scikit-learn.org/stable/modules/preprocessing.html\n",
      "Please also refer to the documentation for alternative solver options:\n",
      "    https://scikit-learn.org/stable/modules/linear_model.html#logistic-regression\n",
      "  extra_warning_msg=_LOGISTIC_SOLVER_CONVERGENCE_MSG)\n"
     ]
    },
    {
     "name": "stdout",
     "output_type": "stream",
     "text": [
      "--------- Classification Report ----------\n",
      "\n",
      "              precision    recall  f1-score   support\n",
      "\n",
      "           0       0.99      0.82      0.90     33323\n",
      "           1       0.18      0.80      0.29      1555\n",
      "\n",
      "    accuracy                           0.82     34878\n",
      "   macro avg       0.58      0.81      0.59     34878\n",
      "weighted avg       0.95      0.82      0.87     34878\n",
      "\n"
     ]
    },
    {
     "data": {
      "image/png": "[encoded data removed]",
      "text/plain": [
       "<Figure size 864x432 with 3 Axes>"
      ]
     },
     "metadata": {
      "needs_background": "light"
     },
     "output_type": "display_data"
    }
   ],
   "source": [
    "# Set model \n",
    "log_cv = LogisticRegressionCV(class_weight = 'balanced', \n",
    "                         random_state = 30)\n",
    "\n",
    "# Fit model\n",
    "log_cv.fit(X_train_df, y_train)\n",
    "\n",
    "# Evaluate Model\n",
    "evaluate_model(log_cv, X_test_df, y_test)"
   ]
  },
  {
   "cell_type": "markdown",
   "metadata": {},
   "source": [
    "#### Logistic Regression with Gridsearch"
   ]
  },
  {
   "cell_type": "code",
   "execution_count": 67,
   "metadata": {
    "ExecuteTime": {
     "end_time": "2021-03-19T17:20:03.637764Z",
     "start_time": "2021-03-19T17:20:03.634507Z"
    }
   },
   "outputs": [],
   "source": [
    "from sklearn.model_selection import GridSearchCV"
   ]
  },
  {
   "cell_type": "code",
   "execution_count": 72,
   "metadata": {
    "ExecuteTime": {
     "end_time": "2021-03-19T17:45:32.301932Z",
     "start_time": "2021-03-19T17:35:41.973248Z"
    }
   },
   "outputs": [
    {
     "name": "stdout",
     "output_type": "stream",
     "text": [
      "Fitting 3 folds for each of 180 candidates, totalling 540 fits\n"
     ]
    },
    {
     "name": "stderr",
     "output_type": "stream",
     "text": [
      "[Parallel(n_jobs=-1)]: Using backend LokyBackend with 4 concurrent workers.\n",
      "[Parallel(n_jobs=-1)]: Done  42 tasks      | elapsed:   19.2s\n",
      "[Parallel(n_jobs=-1)]: Done 192 tasks      | elapsed:  3.1min\n",
      "[Parallel(n_jobs=-1)]: Done 442 tasks      | elapsed:  7.0min\n",
      "[Parallel(n_jobs=-1)]: Done 540 out of 540 | elapsed:  9.6min finished\n",
      "/Users/spags/opt/anaconda3/envs/learn-env/lib/python3.6/site-packages/sklearn/linear_model/_sag.py:330: ConvergenceWarning: The max_iter was reached which means the coef_ did not converge\n",
      "  \"the coef_ did not converge\", ConvergenceWarning)\n"
     ]
    },
    {
     "data": {
      "text/plain": [
       "GridSearchCV(cv=3,\n",
       "             estimator=LogisticRegression(class_weight='balanced',\n",
       "                                          random_state=30),\n",
       "             n_jobs=-1,\n",
       "             param_grid={'C': [0.1, 1, 10], 'max_iter': [50, 100, 250],\n",
       "                         'penalty': ['l1', 'l2', 'elasticnet', 'none'],\n",
       "                         'solver': ['newton-cg', 'lbfgs', 'libliner', 'sag',\n",
       "                                    'saga']},\n",
       "             verbose=1)"
      ]
     },
     "execution_count": 72,
     "metadata": {},
     "output_type": "execute_result"
    }
   ],
   "source": [
    "# Set estimator \n",
    "estimator = LogisticRegression(class_weight = 'balanced',\n",
    "                            random_state = 30)\n",
    "\n",
    "# Set params \n",
    "params = {'penalty': ['l1', 'l2', 'elasticnet', 'none'],\n",
    "          'C': [0.1, 1, 10],\n",
    "          'solver': ['newton-cg','lbfgs', 'libliner', 'sag', 'saga'],\n",
    "          'max_iter': [50, 100, 250]}\n",
    "\n",
    "# Create Gridsearch\n",
    "grid = GridSearchCV(estimator = estimator,\n",
    "                    param_grid = params,\n",
    "                    n_jobs = -1, \n",
    "                    verbose = 1, \n",
    "                    cv = 3)\n",
    "\n",
    "# Fit gridsearch\n",
    "grid.fit(X_train_df, y_train)"
   ]
  },
  {
   "cell_type": "code",
   "execution_count": 73,
   "metadata": {
    "ExecuteTime": {
     "end_time": "2021-03-19T17:55:55.857540Z",
     "start_time": "2021-03-19T17:55:44.681237Z"
    }
   },
   "outputs": [
    {
     "name": "stderr",
     "output_type": "stream",
     "text": [
      "/Users/spags/opt/anaconda3/envs/learn-env/lib/python3.6/site-packages/sklearn/linear_model/_sag.py:330: ConvergenceWarning: The max_iter was reached which means the coef_ did not converge\n",
      "  \"the coef_ did not converge\", ConvergenceWarning)\n"
     ]
    },
    {
     "name": "stdout",
     "output_type": "stream",
     "text": [
      "--------- Classification Report ----------\n",
      "\n",
      "              precision    recall  f1-score   support\n",
      "\n",
      "           0       0.99      0.82      0.90     33323\n",
      "           1       0.17      0.80      0.29      1555\n",
      "\n",
      "    accuracy                           0.82     34878\n",
      "   macro avg       0.58      0.81      0.59     34878\n",
      "weighted avg       0.95      0.82      0.87     34878\n",
      "\n"
     ]
    },
    {
     "data": {
      "image/png": "[encoded data removed]",
      "text/plain": [
       "<Figure size 864x432 with 3 Axes>"
      ]
     },
     "metadata": {
      "needs_background": "light"
     },
     "output_type": "display_data"
    }
   ],
   "source": [
    "# Fit the model with best parameters\n",
    "best_log_params = grid.best_params_\n",
    "best_log_model = LogisticRegression(**best_log_params,\n",
    "                                    class_weight = 'balanced',\n",
    "                                    random_state = 30)\n",
    "best_log_model.fit(X_train_df, y_train)\n",
    "\n",
    "# Evaluate model\n",
    "evaluate_model(best_log_model, X_test_df, y_test)"
   ]
  },
  {
   "cell_type": "markdown",
   "metadata": {},
   "source": [
    "### SGD"
   ]
  },
  {
   "cell_type": "code",
   "execution_count": 53,
   "metadata": {
    "ExecuteTime": {
     "end_time": "2021-03-19T16:22:11.456273Z",
     "start_time": "2021-03-19T16:22:11.452512Z"
    }
   },
   "outputs": [],
   "source": [
    "from sklearn.linear_model import SGDClassifier"
   ]
  },
  {
   "cell_type": "code",
   "execution_count": 54,
   "metadata": {
    "ExecuteTime": {
     "end_time": "2021-03-19T16:22:13.768460Z",
     "start_time": "2021-03-19T16:22:11.459023Z"
    }
   },
   "outputs": [
    {
     "name": "stdout",
     "output_type": "stream",
     "text": [
      "--------- Classification Report ----------\n",
      "\n",
      "              precision    recall  f1-score   support\n",
      "\n",
      "           0       0.99      0.84      0.91     33323\n",
      "           1       0.19      0.78      0.30      1555\n",
      "\n",
      "    accuracy                           0.84     34878\n",
      "   macro avg       0.59      0.81      0.61     34878\n",
      "weighted avg       0.95      0.84      0.88     34878\n",
      "\n"
     ]
    },
    {
     "data": {
      "image/png": "[encoded data removed]",
      "text/plain": [
       "<Figure size 864x432 with 3 Axes>"
      ]
     },
     "metadata": {
      "needs_background": "light"
     },
     "output_type": "display_data"
    }
   ],
   "source": [
    "# Set model\n",
    "sgd = SGDClassifier(class_weight = 'balanced',\n",
    "                    random_state = 30)\n",
    "\n",
    "# Fit model\n",
    "sgd.fit(X_train_df, y_train)\n",
    "\n",
    "# Evaluate Model\n",
    "evaluate_model(sgd, X_test_df, y_test)"
   ]
  },
  {
   "cell_type": "markdown",
   "metadata": {},
   "source": [
    "### Decision Tree"
   ]
  },
  {
   "cell_type": "code",
   "execution_count": 55,
   "metadata": {
    "ExecuteTime": {
     "end_time": "2021-03-19T16:22:13.835020Z",
     "start_time": "2021-03-19T16:22:13.770933Z"
    }
   },
   "outputs": [],
   "source": [
    "from sklearn.tree import DecisionTreeClassifier"
   ]
  },
  {
   "cell_type": "markdown",
   "metadata": {},
   "source": [
    "#### Base Model"
   ]
  },
  {
   "cell_type": "code",
   "execution_count": 85,
   "metadata": {
    "ExecuteTime": {
     "end_time": "2021-03-19T23:27:01.695306Z",
     "start_time": "2021-03-19T23:26:58.280685Z"
    }
   },
   "outputs": [
    {
     "name": "stdout",
     "output_type": "stream",
     "text": [
      "--------- Classification Report ----------\n",
      "\n",
      "              precision    recall  f1-score   support\n",
      "\n",
      "           0       0.97      0.97      0.97     33323\n",
      "           1       0.30      0.30      0.30      1555\n",
      "\n",
      "    accuracy                           0.94     34878\n",
      "   macro avg       0.64      0.63      0.63     34878\n",
      "weighted avg       0.94      0.94      0.94     34878\n",
      "\n"
     ]
    },
    {
     "data": {
      "image/png": "[encoded data removed]",
      "text/plain": [
       "<Figure size 864x432 with 3 Axes>"
      ]
     },
     "metadata": {
      "needs_background": "light"
     },
     "output_type": "display_data"
    }
   ],
   "source": [
    "# Set model\n",
    "tree = DecisionTreeClassifier(class_weight = 'balanced',\n",
    "                              random_state = 30)\n",
    "\n",
    "# Fit model\n",
    "tree.fit(X_train_df, y_train)\n",
    "\n",
    "# Evaluate Model\n",
    "evaluate_model(tree, X_test_df, y_test)"
   ]
  },
  {
   "cell_type": "markdown",
   "metadata": {},
   "source": [
    "#### Gridsearch"
   ]
  },
  {
   "cell_type": "code",
   "execution_count": 86,
   "metadata": {
    "ExecuteTime": {
     "end_time": "2021-03-19T23:31:17.081032Z",
     "start_time": "2021-03-19T23:30:37.516209Z"
    }
   },
   "outputs": [
    {
     "name": "stdout",
     "output_type": "stream",
     "text": [
      "Fitting 3 folds for each of 48 candidates, totalling 144 fits\n"
     ]
    },
    {
     "name": "stderr",
     "output_type": "stream",
     "text": [
      "[Parallel(n_jobs=-1)]: Using backend LokyBackend with 4 concurrent workers.\n",
      "[Parallel(n_jobs=-1)]: Done  42 tasks      | elapsed:   14.2s\n",
      "[Parallel(n_jobs=-1)]: Done 144 out of 144 | elapsed:   38.8s finished\n"
     ]
    },
    {
     "data": {
      "text/plain": [
       "GridSearchCV(cv=3,\n",
       "             estimator=DecisionTreeClassifier(class_weight='balanced',\n",
       "                                              random_state=30),\n",
       "             n_jobs=-1,\n",
       "             param_grid={'criterion': ['gini', 'entropy'],\n",
       "                         'max_depth': [None, 5, 10],\n",
       "                         'max_features': [None, 'auto', 'sqrt', 'log2'],\n",
       "                         'splitter': ['best', 'random']},\n",
       "             verbose=1)"
      ]
     },
     "execution_count": 86,
     "metadata": {},
     "output_type": "execute_result"
    }
   ],
   "source": [
    "estimator = DecisionTreeClassifier(class_weight = 'balanced',\n",
    "                                   random_state = 30)\n",
    "\n",
    "params = {'criterion': ['gini', 'entropy'],\n",
    "          'splitter': ['best', 'random'],\n",
    "          'max_depth': [None, 5, 10],\n",
    "          'max_features': [None, 'auto', 'sqrt', 'log2']}\n",
    "\n",
    "grid = GridSearchCV(estimator = estimator,\n",
    "                    param_grid = params, \n",
    "                    n_jobs = -1, \n",
    "                    verbose = 1,\n",
    "                    cv = 3)\n",
    "\n",
    "grid.fit(X_train_df, y_train)"
   ]
  },
  {
   "cell_type": "code",
   "execution_count": 87,
   "metadata": {
    "ExecuteTime": {
     "end_time": "2021-03-19T23:31:23.762477Z",
     "start_time": "2021-03-19T23:31:22.372209Z"
    }
   },
   "outputs": [
    {
     "name": "stdout",
     "output_type": "stream",
     "text": [
      "--------- Classification Report ----------\n",
      "\n",
      "              precision    recall  f1-score   support\n",
      "\n",
      "           0       0.97      0.97      0.97     33323\n",
      "           1       0.31      0.29      0.30      1555\n",
      "\n",
      "    accuracy                           0.94     34878\n",
      "   macro avg       0.64      0.63      0.63     34878\n",
      "weighted avg       0.94      0.94      0.94     34878\n",
      "\n"
     ]
    },
    {
     "data": {
      "image/png": "[encoded data removed]",
      "text/plain": [
       "<Figure size 864x432 with 3 Axes>"
      ]
     },
     "metadata": {
      "needs_background": "light"
     },
     "output_type": "display_data"
    }
   ],
   "source": [
    "# Fit the model with best parameters\n",
    "best_tree_params = grid.best_params_\n",
    "best_tree_model = DecisionTreeClassifier(**best_tree_params,\n",
    "                                         class_weight = 'balanced',\n",
    "                                         random_state = 30)\n",
    "best_tree_model.fit(X_train_df, y_train)\n",
    "\n",
    "# Evaluate model\n",
    "evaluate_model(best_tree_model, X_test_df, y_test)"
   ]
  },
  {
   "cell_type": "markdown",
   "metadata": {},
   "source": [
    "### Random Forest"
   ]
  },
  {
   "cell_type": "code",
   "execution_count": 57,
   "metadata": {
    "ExecuteTime": {
     "end_time": "2021-03-19T16:22:17.207636Z",
     "start_time": "2021-03-19T16:22:17.182609Z"
    }
   },
   "outputs": [],
   "source": [
    "from sklearn.ensemble import RandomForestClassifier"
   ]
  },
  {
   "cell_type": "markdown",
   "metadata": {},
   "source": [
    "#### Base Model"
   ]
  },
  {
   "cell_type": "code",
   "execution_count": 79,
   "metadata": {
    "ExecuteTime": {
     "end_time": "2021-03-19T23:22:57.695740Z",
     "start_time": "2021-03-19T23:22:18.709678Z"
    }
   },
   "outputs": [
    {
     "name": "stdout",
     "output_type": "stream",
     "text": [
      "--------- Classification Report ----------\n",
      "\n",
      "              precision    recall  f1-score   support\n",
      "\n",
      "           0       0.96      0.99      0.98     33323\n",
      "           1       0.64      0.19      0.30      1555\n",
      "\n",
      "    accuracy                           0.96     34878\n",
      "   macro avg       0.80      0.59      0.64     34878\n",
      "weighted avg       0.95      0.96      0.95     34878\n",
      "\n"
     ]
    },
    {
     "data": {
      "image/png": "[encoded data removed]",
      "text/plain": [
       "<Figure size 864x432 with 3 Axes>"
      ]
     },
     "metadata": {
      "needs_background": "light"
     },
     "output_type": "display_data"
    }
   ],
   "source": [
    "# Set model\n",
    "rf = RandomForestClassifier(class_weight = 'balanced', \n",
    "                            random_state = 30)\n",
    "\n",
    "# Fit Model\n",
    "rf.fit(X_train_df, y_train)\n",
    "\n",
    "# Evaluate Model\n",
    "evaluate_model(rf, X_test_df, y_test)"
   ]
  },
  {
   "cell_type": "markdown",
   "metadata": {},
   "source": [
    "#### Random Forest with Gridsearch"
   ]
  },
  {
   "cell_type": "code",
   "execution_count": 74,
   "metadata": {
    "ExecuteTime": {
     "end_time": "2021-03-19T19:16:00.670779Z",
     "start_time": "2021-03-19T18:12:14.097735Z"
    }
   },
   "outputs": [
    {
     "name": "stdout",
     "output_type": "stream",
     "text": [
      "Fitting 3 folds for each of 72 candidates, totalling 216 fits\n"
     ]
    },
    {
     "name": "stderr",
     "output_type": "stream",
     "text": [
      "[Parallel(n_jobs=-1)]: Using backend LokyBackend with 4 concurrent workers.\n",
      "[Parallel(n_jobs=-1)]: Done  42 tasks      | elapsed: 11.9min\n",
      "[Parallel(n_jobs=-1)]: Done 192 tasks      | elapsed: 55.2min\n",
      "[Parallel(n_jobs=-1)]: Done 216 out of 216 | elapsed: 63.2min finished\n"
     ]
    },
    {
     "data": {
      "text/plain": [
       "GridSearchCV(cv=3,\n",
       "             estimator=RandomForestClassifier(class_weight='balanced',\n",
       "                                              random_state=30),\n",
       "             n_jobs=-1,\n",
       "             param_grid={'criterion': ['gini', 'entropy'],\n",
       "                         'max_depth': [None, 10, 100],\n",
       "                         'max_features': ['auto', 'sqrt', 'log2'],\n",
       "                         'n_estimators': [50, 100, 250, 500]},\n",
       "             verbose=1)"
      ]
     },
     "execution_count": 74,
     "metadata": {},
     "output_type": "execute_result"
    }
   ],
   "source": [
    "# Set estimator \n",
    "estimator = RandomForestClassifier(class_weight = 'balanced',\n",
    "                                   random_state = 30)\n",
    "\n",
    "# Set params \n",
    "params = {'n_estimators': [50, 100, 250, 500],\n",
    "          'criterion': ['gini', 'entropy'],\n",
    "          'max_features': ['auto','sqrt', 'log2'],\n",
    "          'max_depth': [None, 10, 100]}\n",
    "\n",
    "# Create Gridsearch\n",
    "grid = GridSearchCV(estimator = estimator,\n",
    "                    param_grid = params,\n",
    "                    n_jobs = -1, \n",
    "                    verbose = 1, \n",
    "                    cv = 3)\n",
    "\n",
    "# Fit gridsearch\n",
    "grid.fit(X_train_df, y_train)"
   ]
  },
  {
   "cell_type": "code",
   "execution_count": 77,
   "metadata": {
    "ExecuteTime": {
     "end_time": "2021-03-19T23:10:35.637051Z",
     "start_time": "2021-03-19T23:09:50.540057Z"
    }
   },
   "outputs": [
    {
     "name": "stdout",
     "output_type": "stream",
     "text": [
      "--------- Classification Report ----------\n",
      "\n",
      "              precision    recall  f1-score   support\n",
      "\n",
      "           0       0.96      0.99      0.98     33323\n",
      "           1       0.63      0.19      0.30      1555\n",
      "\n",
      "    accuracy                           0.96     34878\n",
      "   macro avg       0.80      0.59      0.64     34878\n",
      "weighted avg       0.95      0.96      0.95     34878\n",
      "\n"
     ]
    },
    {
     "data": {
      "image/png": "[encoded data removed]",
      "text/plain": [
       "<Figure size 864x432 with 3 Axes>"
      ]
     },
     "metadata": {
      "needs_background": "light"
     },
     "output_type": "display_data"
    }
   ],
   "source": [
    "# Fit the model with best parameters\n",
    "best_rf_params = grid.best_params_\n",
    "best_rf_model = RandomForestClassifier(**best_rf_params,\n",
    "                                       class_weight = 'balanced',\n",
    "                                       random_state = 30)\n",
    "best_rf_model.fit(X_train_df, y_train)\n",
    "\n",
    "# Evaluate model\n",
    "evaluate_model(best_rf_model, X_test_df, y_test)"
   ]
  },
  {
   "cell_type": "markdown",
   "metadata": {},
   "source": [
    "### XGBoost"
   ]
  },
  {
   "cell_type": "code",
   "execution_count": 59,
   "metadata": {
    "ExecuteTime": {
     "end_time": "2021-03-19T16:22:47.370128Z",
     "start_time": "2021-03-19T16:22:47.267147Z"
    }
   },
   "outputs": [],
   "source": [
    "from xgboost import XGBClassifier"
   ]
  },
  {
   "cell_type": "markdown",
   "metadata": {},
   "source": [
    "#### Base Model"
   ]
  },
  {
   "cell_type": "code",
   "execution_count": 60,
   "metadata": {
    "ExecuteTime": {
     "end_time": "2021-03-19T16:23:11.927687Z",
     "start_time": "2021-03-19T16:22:47.372322Z"
    }
   },
   "outputs": [
    {
     "name": "stdout",
     "output_type": "stream",
     "text": [
      "--------- Classification Report ----------\n",
      "\n",
      "              precision    recall  f1-score   support\n",
      "\n",
      "           0       0.96      1.00      0.98     33323\n",
      "           1       0.70      0.13      0.22      1555\n",
      "\n",
      "    accuracy                           0.96     34878\n",
      "   macro avg       0.83      0.57      0.60     34878\n",
      "weighted avg       0.95      0.96      0.95     34878\n",
      "\n"
     ]
    },
    {
     "data": {
      "image/png": "[encoded data removed]",
      "text/plain": [
       "<Figure size 864x432 with 3 Axes>"
      ]
     },
     "metadata": {
      "needs_background": "light"
     },
     "output_type": "display_data"
    }
   ],
   "source": [
    "# Set model\n",
    "xgb = XGBClassifier()\n",
    "\n",
    "# Fit model\n",
    "xgb.fit(X_train_df, y_train)\n",
    "\n",
    "# Evaluate Model\n",
    "evaluate_model(xgb, X_test_df, y_test)"
   ]
  },
  {
   "cell_type": "markdown",
   "metadata": {},
   "source": [
    "### Neural Network"
   ]
  },
  {
   "cell_type": "code",
   "execution_count": 61,
   "metadata": {
    "ExecuteTime": {
     "end_time": "2021-03-19T16:23:14.025233Z",
     "start_time": "2021-03-19T16:23:11.929949Z"
    }
   },
   "outputs": [],
   "source": [
    "from tensorflow.keras.models import Sequential\n",
    "from tensorflow.keras.layers import Dense, Dropout\n",
    "from tensorflow.keras.callbacks import Callback, EarlyStopping"
   ]
  },
  {
   "cell_type": "markdown",
   "metadata": {},
   "source": [
    "#### Super Basic Model"
   ]
  },
  {
   "cell_type": "code",
   "execution_count": 62,
   "metadata": {
    "ExecuteTime": {
     "end_time": "2021-03-19T16:23:35.441454Z",
     "start_time": "2021-03-19T16:23:14.027373Z"
    }
   },
   "outputs": [
    {
     "name": "stdout",
     "output_type": "stream",
     "text": [
      "Epoch 1/50\n",
      "3052/3052 [==============================] - 5s 2ms/step - loss: 0.1418 - accuracy: 0.9523 - val_loss: 0.1250 - val_accuracy: 0.9578\n",
      "Epoch 2/50\n",
      "3052/3052 [==============================] - 4s 1ms/step - loss: 0.1293 - accuracy: 0.9557 - val_loss: 0.1237 - val_accuracy: 0.9585\n",
      "Epoch 3/50\n",
      "3052/3052 [==============================] - 4s 1ms/step - loss: 0.1278 - accuracy: 0.9559 - val_loss: 0.1218 - val_accuracy: 0.9588\n",
      "Epoch 4/50\n",
      "3052/3052 [==============================] - 4s 1ms/step - loss: 0.1262 - accuracy: 0.9562 - val_loss: 0.1221 - val_accuracy: 0.9583\n",
      "                 Model Evaluation\n",
      "-------------------------------------------------------\n",
      "1090/1090 [==============================] - 1s 886us/step - loss: 0.1240 - accuracy: 0.9586\n",
      "[0.12403710186481476, 0.9586272239685059]\n",
      " \n",
      "                 Loss & Accuracy Curves\n",
      "-------------------------------------------------------\n"
     ]
    },
    {
     "data": {
      "image/png": "[encoded data removed]",
      "text/plain": [
       "<Figure size 432x288 with 1 Axes>"
      ]
     },
     "metadata": {
      "needs_background": "light"
     },
     "output_type": "display_data"
    },
    {
     "data": {
      "image/png": "[encoded data removed]",
      "text/plain": [
       "<Figure size 432x288 with 1 Axes>"
      ]
     },
     "metadata": {
      "needs_background": "light"
     },
     "output_type": "display_data"
    },
    {
     "name": "stdout",
     "output_type": "stream",
     "text": [
      " \n",
      "                 Classification Report\n",
      "-------------------------------------------------------\n",
      "              precision    recall  f1-score   support\n",
      "\n",
      "           0       0.97      0.99      0.98     33323\n",
      "           1       0.59      0.24      0.34      1555\n",
      "\n",
      "    accuracy                           0.96     34878\n",
      "   macro avg       0.78      0.61      0.66     34878\n",
      "weighted avg       0.95      0.96      0.95     34878\n",
      "\n",
      " \n",
      "                 Confusion Matrix\n",
      "-------------------------------------------------------\n"
     ]
    },
    {
     "data": {
      "image/png": "[encoded data removed]",
      "text/plain": [
       "<Figure size 576x576 with 2 Axes>"
      ]
     },
     "metadata": {
      "needs_background": "light"
     },
     "output_type": "display_data"
    }
   ],
   "source": [
    "# Set Callback\n",
    "callback = EarlyStopping(monitor = 'val_accuracy', patience = 3, mode = 'max',\n",
    "                         min_delta = 0.01, restore_best_weights = True)\n",
    "\n",
    "# Set model\n",
    "model = Sequential()\n",
    "\n",
    "# Input layer\n",
    "model.add(Dense(64, input_dim = X_train_df.shape[1], activation = 'tanh'))\n",
    "\n",
    "# Hidden Layers\n",
    "model.add(Dense(16, activation = 'tanh'))\n",
    "\n",
    "# Output Layer\n",
    "model.add(Dense(1, activation = 'sigmoid'))\n",
    "\n",
    "# Compile\n",
    "model.compile(optimizer = 'adam', loss = 'binary_crossentropy', metrics = 'accuracy')\n",
    "\n",
    "# Fit the model\n",
    "history = model.fit(X_train_df, y_train, batch_size = 32, epochs = 50, \n",
    "                    validation_split = 0.3, callbacks = callback)\n",
    "\n",
    "# Evaluate Model\n",
    "evaluate_network(history, model, X_test_df, y_test)"
   ]
  },
  {
   "cell_type": "code",
   "execution_count": null,
   "metadata": {},
   "outputs": [],
   "source": []
  },
  {
   "cell_type": "code",
   "execution_count": null,
   "metadata": {},
   "outputs": [],
   "source": []
  },
  {
   "cell_type": "code",
   "execution_count": null,
   "metadata": {},
   "outputs": [],
   "source": []
  },
  {
   "cell_type": "markdown",
   "metadata": {},
   "source": [
    "## Interpret"
   ]
  },
  {
   "cell_type": "markdown",
   "metadata": {},
   "source": [
    "For the moment, let's just use our logistic regression model to extract some preliminary feature importances."
   ]
  },
  {
   "cell_type": "markdown",
   "metadata": {},
   "source": [
    "### Feature Importances"
   ]
  },
  {
   "cell_type": "code",
   "execution_count": 63,
   "metadata": {
    "ExecuteTime": {
     "end_time": "2021-03-19T16:23:35.449647Z",
     "start_time": "2021-03-19T16:23:35.443821Z"
    }
   },
   "outputs": [
    {
     "data": {
      "text/plain": [
       "array([[-0.10566595,  0.15643692, -0.22250906, -0.25222564,  0.22083624,\n",
       "        -0.83636902, -0.01800518, -0.18836735,  0.48592363, -0.0225327 ,\n",
       "        -0.29245554, -0.01409265, -0.11919602, -3.94889728, -4.71272017,\n",
       "        -2.62963729, -1.50145508,  0.21438957,  0.92195757,  0.95973843,\n",
       "         1.15227388,  2.02151074,  2.96663303,  2.67532021]])"
      ]
     },
     "execution_count": 63,
     "metadata": {},
     "output_type": "execute_result"
    }
   ],
   "source": [
    "log.coef_"
   ]
  },
  {
   "cell_type": "code",
   "execution_count": 64,
   "metadata": {
    "ExecuteTime": {
     "end_time": "2021-03-19T16:23:35.458428Z",
     "start_time": "2021-03-19T16:23:35.452038Z"
    }
   },
   "outputs": [
    {
     "ename": "SyntaxError",
     "evalue": "invalid syntax (<ipython-input-64-7f21b782a232>, line 3)",
     "output_type": "error",
     "traceback": [
      "\u001b[0;36m  File \u001b[0;32m\"<ipython-input-64-7f21b782a232>\"\u001b[0;36m, line \u001b[0;32m3\u001b[0m\n\u001b[0;31m    'Importance': )}\u001b[0m\n\u001b[0m                  ^\u001b[0m\n\u001b[0;31mSyntaxError\u001b[0m\u001b[0;31m:\u001b[0m invalid syntax\n"
     ]
    }
   ],
   "source": [
    "# Pull feature importances\n",
    "features_dict = {'Features': X_train_df.columns,\n",
    "                 'Importance': )}\n",
    "\n",
    "# Convert to a dataframe\n",
    "feature_importance = pd.DataFrame(features_dict, columns = ['Features', 'Importance'])\n",
    "\n",
    "print(feature_importance.shape)\n",
    "feature_importance.head(10)"
   ]
  },
  {
   "cell_type": "code",
   "execution_count": null,
   "metadata": {},
   "outputs": [],
   "source": []
  },
  {
   "cell_type": "code",
   "execution_count": null,
   "metadata": {},
   "outputs": [],
   "source": []
  },
  {
   "cell_type": "code",
   "execution_count": null,
   "metadata": {},
   "outputs": [],
   "source": []
  },
  {
   "cell_type": "markdown",
   "metadata": {},
   "source": [
    "### SHAP"
   ]
  },
  {
   "cell_type": "code",
   "execution_count": null,
   "metadata": {
    "ExecuteTime": {
     "end_time": "2021-03-19T16:23:35.461103Z",
     "start_time": "2021-03-19T15:31:04.992Z"
    }
   },
   "outputs": [],
   "source": [
    "import shap"
   ]
  },
  {
   "cell_type": "code",
   "execution_count": null,
   "metadata": {
    "ExecuteTime": {
     "end_time": "2021-03-19T16:23:35.462660Z",
     "start_time": "2021-03-19T15:31:04.998Z"
    }
   },
   "outputs": [],
   "source": [
    "# Setting up SHAP\n",
    "\n",
    "X_shap = shap.sample(X_train_df, 100)\n",
    "explainer = shap.LinearExplainer(log, X_train_df)\n",
    "shap_values = explainer.shap_values(X_shap)"
   ]
  },
  {
   "cell_type": "code",
   "execution_count": null,
   "metadata": {
    "ExecuteTime": {
     "end_time": "2021-03-19T16:23:35.464288Z",
     "start_time": "2021-03-19T15:31:05.003Z"
    }
   },
   "outputs": [],
   "source": [
    "fig = shap.summary_plot(shap_values, X_shap, plot_type = 'bar')"
   ]
  },
  {
   "cell_type": "code",
   "execution_count": null,
   "metadata": {
    "ExecuteTime": {
     "end_time": "2021-03-19T16:23:35.466106Z",
     "start_time": "2021-03-19T15:31:05.010Z"
    }
   },
   "outputs": [],
   "source": [
    "shap.summary_plot(shap_values, X_shap)"
   ]
  },
  {
   "cell_type": "code",
   "execution_count": null,
   "metadata": {},
   "outputs": [],
   "source": []
  },
  {
   "cell_type": "markdown",
   "metadata": {},
   "source": [
    "## Conclusion"
   ]
  },
  {
   "cell_type": "code",
   "execution_count": null,
   "metadata": {},
   "outputs": [],
   "source": []
  }
 ],
 "metadata": {
  "kernelspec": {
   "display_name": "Python [conda env:learn-env] *",
   "language": "python",
   "name": "conda-env-learn-env-py"
  },
  "language_info": {
   "codemirror_mode": {
    "name": "ipython",
    "version": 3
   },
   "file_extension": ".py",
   "mimetype": "text/x-python",
   "name": "python",
   "nbconvert_exporter": "python",
   "pygments_lexer": "ipython3",
   "version": "3.6.9"
  },
  "toc": {
   "base_numbering": 1,
   "nav_menu": {},
   "number_sections": true,
   "sideBar": true,
   "skip_h1_title": false,
   "title_cell": "Table of Contents",
   "title_sidebar": "Contents",
   "toc_cell": false,
   "toc_position": {
    "height": "calc(100% - 180px)",
    "left": "10px",
    "top": "150px",
    "width": "426.667px"
   },
   "toc_section_display": true,
   "toc_window_display": true
  }
 },
 "nbformat": 4,
 "nbformat_minor": 2
}
