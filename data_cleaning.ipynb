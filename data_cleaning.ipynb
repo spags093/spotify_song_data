{
 "cells": [
  {
   "cell_type": "markdown",
   "metadata": {},
   "source": [
    "# Spotify Song Data - Data Cleaning"
   ]
  },
  {
   "cell_type": "markdown",
   "metadata": {},
   "source": [
    "This is the data cleaning notebook for a classification project that uses a dataset of Spotify song data to determine what features make a song popular on the platform, aka a hit song."
   ]
  },
  {
   "cell_type": "markdown",
   "metadata": {},
   "source": [
    "## Introduction"
   ]
  },
  {
   "cell_type": "markdown",
   "metadata": {},
   "source": [
    "### Imports"
   ]
  },
  {
   "cell_type": "code",
   "execution_count": 1,
   "metadata": {
    "ExecuteTime": {
     "end_time": "2021-03-23T17:50:19.581808Z",
     "start_time": "2021-03-23T17:50:17.622236Z"
    }
   },
   "outputs": [
    {
     "name": "stderr",
     "output_type": "stream",
     "text": [
      "\n",
      "Bad key \"text.kerning_factor\" on line 4 in\n",
      "/Users/spags/opt/anaconda3/envs/learn-env/lib/python3.6/site-packages/matplotlib/mpl-data/stylelib/_classic_test_patch.mplstyle.\n",
      "You probably need to get an updated matplotlibrc file from\n",
      "https://github.com/matplotlib/matplotlib/blob/v3.1.3/matplotlibrc.template\n",
      "or from the matplotlib source distribution\n"
     ]
    }
   ],
   "source": [
    "# Regulars\n",
    "import numpy as np\n",
    "import pandas as pd\n",
    "import seaborn as sns\n",
    "import matplotlib.pyplot as plt\n",
    "%matplotlib inline"
   ]
  },
  {
   "cell_type": "code",
   "execution_count": 2,
   "metadata": {
    "ExecuteTime": {
     "end_time": "2021-03-23T17:50:19.640758Z",
     "start_time": "2021-03-23T17:50:19.584960Z"
    }
   },
   "outputs": [
    {
     "name": "stderr",
     "output_type": "stream",
     "text": [
      "/Users/spags/opt/anaconda3/envs/learn-env/lib/python3.6/site-packages/ipykernel_launcher.py:4: TqdmDeprecationWarning: This function will be removed in tqdm==5.0.0\n",
      "Please use `tqdm.notebook.tqdm` instead of `tqdm.tqdm_notebook`\n",
      "  after removing the cwd from sys.path.\n"
     ]
    },
    {
     "data": {
      "application/vnd.jupyter.widget-view+json": {
       "model_id": "d32042ef46264007af427d2c9d12d30e",
       "version_major": 2,
       "version_minor": 0
      },
      "text/plain": [
       "0it [00:00, ?it/s]"
      ]
     },
     "metadata": {},
     "output_type": "display_data"
    }
   ],
   "source": [
    "# tqdm\n",
    "# %%capture\n",
    "from tqdm import tqdm_notebook as tqdm\n",
    "tqdm().pandas()"
   ]
  },
  {
   "cell_type": "markdown",
   "metadata": {},
   "source": [
    "### Functions"
   ]
  },
  {
   "cell_type": "code",
   "execution_count": 3,
   "metadata": {
    "ExecuteTime": {
     "end_time": "2021-03-23T17:50:19.649056Z",
     "start_time": "2021-03-23T17:50:19.643814Z"
    }
   },
   "outputs": [],
   "source": [
    "def get_info(df):\n",
    "    '''Simple function that takes in a full dataframe and returns\n",
    "    some basic information about the countents of the dataframe.'''\n",
    "    \n",
    "    print('Shape of DataFrame:\\n', df.shape)\n",
    "    print('\\nDataFrame Info:')\n",
    "    print(df.info())\n",
    "    print('\\n Null Values Present:\\n', df.isna().sum())"
   ]
  },
  {
   "cell_type": "markdown",
   "metadata": {},
   "source": [
    "## Obtain"
   ]
  },
  {
   "cell_type": "markdown",
   "metadata": {},
   "source": [
    "### Import Dataset"
   ]
  },
  {
   "cell_type": "code",
   "execution_count": 4,
   "metadata": {
    "ExecuteTime": {
     "end_time": "2021-03-23T17:50:20.556502Z",
     "start_time": "2021-03-23T17:50:19.651759Z"
    }
   },
   "outputs": [
    {
     "name": "stdout",
     "output_type": "stream",
     "text": [
      "(174389, 19)\n"
     ]
    },
    {
     "data": {
      "text/html": [
       "<div>\n",
       "<style scoped>\n",
       "    .dataframe tbody tr th:only-of-type {\n",
       "        vertical-align: middle;\n",
       "    }\n",
       "\n",
       "    .dataframe tbody tr th {\n",
       "        vertical-align: top;\n",
       "    }\n",
       "\n",
       "    .dataframe thead th {\n",
       "        text-align: right;\n",
       "    }\n",
       "</style>\n",
       "<table border=\"1\" class=\"dataframe\">\n",
       "  <thead>\n",
       "    <tr style=\"text-align: right;\">\n",
       "      <th></th>\n",
       "      <th>acousticness</th>\n",
       "      <th>artists</th>\n",
       "      <th>danceability</th>\n",
       "      <th>duration_ms</th>\n",
       "      <th>energy</th>\n",
       "      <th>explicit</th>\n",
       "      <th>id</th>\n",
       "      <th>instrumentalness</th>\n",
       "      <th>key</th>\n",
       "      <th>liveness</th>\n",
       "      <th>loudness</th>\n",
       "      <th>mode</th>\n",
       "      <th>name</th>\n",
       "      <th>popularity</th>\n",
       "      <th>release_date</th>\n",
       "      <th>speechiness</th>\n",
       "      <th>tempo</th>\n",
       "      <th>valence</th>\n",
       "      <th>year</th>\n",
       "    </tr>\n",
       "  </thead>\n",
       "  <tbody>\n",
       "    <tr>\n",
       "      <th>0</th>\n",
       "      <td>0.991000</td>\n",
       "      <td>['Mamie Smith']</td>\n",
       "      <td>0.598</td>\n",
       "      <td>168333</td>\n",
       "      <td>0.224</td>\n",
       "      <td>0</td>\n",
       "      <td>0cS0A1fUEUd1EW3FcF8AEI</td>\n",
       "      <td>0.000522</td>\n",
       "      <td>5</td>\n",
       "      <td>0.3790</td>\n",
       "      <td>-12.628</td>\n",
       "      <td>0</td>\n",
       "      <td>Keep A Song In Your Soul</td>\n",
       "      <td>12</td>\n",
       "      <td>1920</td>\n",
       "      <td>0.0936</td>\n",
       "      <td>149.976</td>\n",
       "      <td>0.6340</td>\n",
       "      <td>1920</td>\n",
       "    </tr>\n",
       "    <tr>\n",
       "      <th>1</th>\n",
       "      <td>0.643000</td>\n",
       "      <td>[\"Screamin' Jay Hawkins\"]</td>\n",
       "      <td>0.852</td>\n",
       "      <td>150200</td>\n",
       "      <td>0.517</td>\n",
       "      <td>0</td>\n",
       "      <td>0hbkKFIJm7Z05H8Zl9w30f</td>\n",
       "      <td>0.026400</td>\n",
       "      <td>5</td>\n",
       "      <td>0.0809</td>\n",
       "      <td>-7.261</td>\n",
       "      <td>0</td>\n",
       "      <td>I Put A Spell On You</td>\n",
       "      <td>7</td>\n",
       "      <td>1920-01-05</td>\n",
       "      <td>0.0534</td>\n",
       "      <td>86.889</td>\n",
       "      <td>0.9500</td>\n",
       "      <td>1920</td>\n",
       "    </tr>\n",
       "    <tr>\n",
       "      <th>2</th>\n",
       "      <td>0.993000</td>\n",
       "      <td>['Mamie Smith']</td>\n",
       "      <td>0.647</td>\n",
       "      <td>163827</td>\n",
       "      <td>0.186</td>\n",
       "      <td>0</td>\n",
       "      <td>11m7laMUgmOKqI3oYzuhne</td>\n",
       "      <td>0.000018</td>\n",
       "      <td>0</td>\n",
       "      <td>0.5190</td>\n",
       "      <td>-12.098</td>\n",
       "      <td>1</td>\n",
       "      <td>Golfing Papa</td>\n",
       "      <td>4</td>\n",
       "      <td>1920</td>\n",
       "      <td>0.1740</td>\n",
       "      <td>97.600</td>\n",
       "      <td>0.6890</td>\n",
       "      <td>1920</td>\n",
       "    </tr>\n",
       "    <tr>\n",
       "      <th>3</th>\n",
       "      <td>0.000173</td>\n",
       "      <td>['Oscar Velazquez']</td>\n",
       "      <td>0.730</td>\n",
       "      <td>422087</td>\n",
       "      <td>0.798</td>\n",
       "      <td>0</td>\n",
       "      <td>19Lc5SfJJ5O1oaxY0fpwfh</td>\n",
       "      <td>0.801000</td>\n",
       "      <td>2</td>\n",
       "      <td>0.1280</td>\n",
       "      <td>-7.311</td>\n",
       "      <td>1</td>\n",
       "      <td>True House Music - Xavier Santos &amp; Carlos Gomi...</td>\n",
       "      <td>17</td>\n",
       "      <td>1920-01-01</td>\n",
       "      <td>0.0425</td>\n",
       "      <td>127.997</td>\n",
       "      <td>0.0422</td>\n",
       "      <td>1920</td>\n",
       "    </tr>\n",
       "    <tr>\n",
       "      <th>4</th>\n",
       "      <td>0.295000</td>\n",
       "      <td>['Mixe']</td>\n",
       "      <td>0.704</td>\n",
       "      <td>165224</td>\n",
       "      <td>0.707</td>\n",
       "      <td>1</td>\n",
       "      <td>2hJjbsLCytGsnAHfdsLejp</td>\n",
       "      <td>0.000246</td>\n",
       "      <td>10</td>\n",
       "      <td>0.4020</td>\n",
       "      <td>-6.036</td>\n",
       "      <td>0</td>\n",
       "      <td>Xuniverxe</td>\n",
       "      <td>2</td>\n",
       "      <td>1920-10-01</td>\n",
       "      <td>0.0768</td>\n",
       "      <td>122.076</td>\n",
       "      <td>0.2990</td>\n",
       "      <td>1920</td>\n",
       "    </tr>\n",
       "  </tbody>\n",
       "</table>\n",
       "</div>"
      ],
      "text/plain": [
       "   acousticness                    artists  danceability  duration_ms  energy  \\\n",
       "0      0.991000            ['Mamie Smith']         0.598       168333   0.224   \n",
       "1      0.643000  [\"Screamin' Jay Hawkins\"]         0.852       150200   0.517   \n",
       "2      0.993000            ['Mamie Smith']         0.647       163827   0.186   \n",
       "3      0.000173        ['Oscar Velazquez']         0.730       422087   0.798   \n",
       "4      0.295000                   ['Mixe']         0.704       165224   0.707   \n",
       "\n",
       "   explicit                      id  instrumentalness  key  liveness  \\\n",
       "0         0  0cS0A1fUEUd1EW3FcF8AEI          0.000522    5    0.3790   \n",
       "1         0  0hbkKFIJm7Z05H8Zl9w30f          0.026400    5    0.0809   \n",
       "2         0  11m7laMUgmOKqI3oYzuhne          0.000018    0    0.5190   \n",
       "3         0  19Lc5SfJJ5O1oaxY0fpwfh          0.801000    2    0.1280   \n",
       "4         1  2hJjbsLCytGsnAHfdsLejp          0.000246   10    0.4020   \n",
       "\n",
       "   loudness  mode                                               name  \\\n",
       "0   -12.628     0                           Keep A Song In Your Soul   \n",
       "1    -7.261     0                               I Put A Spell On You   \n",
       "2   -12.098     1                                       Golfing Papa   \n",
       "3    -7.311     1  True House Music - Xavier Santos & Carlos Gomi...   \n",
       "4    -6.036     0                                          Xuniverxe   \n",
       "\n",
       "   popularity release_date  speechiness    tempo  valence  year  \n",
       "0          12         1920       0.0936  149.976   0.6340  1920  \n",
       "1           7   1920-01-05       0.0534   86.889   0.9500  1920  \n",
       "2           4         1920       0.1740   97.600   0.6890  1920  \n",
       "3          17   1920-01-01       0.0425  127.997   0.0422  1920  \n",
       "4           2   1920-10-01       0.0768  122.076   0.2990  1920  "
      ]
     },
     "execution_count": 4,
     "metadata": {},
     "output_type": "execute_result"
    }
   ],
   "source": [
    "df = pd.read_csv('spotify_song_data.csv')\n",
    "print(df.shape)\n",
    "df.head()"
   ]
  },
  {
   "cell_type": "markdown",
   "metadata": {},
   "source": [
    "## Data Cleaning"
   ]
  },
  {
   "cell_type": "code",
   "execution_count": 5,
   "metadata": {
    "ExecuteTime": {
     "end_time": "2021-03-23T17:50:20.656489Z",
     "start_time": "2021-03-23T17:50:20.558728Z"
    }
   },
   "outputs": [
    {
     "name": "stdout",
     "output_type": "stream",
     "text": [
      "Shape of DataFrame:\n",
      " (174389, 19)\n",
      "\n",
      "DataFrame Info:\n",
      "<class 'pandas.core.frame.DataFrame'>\n",
      "RangeIndex: 174389 entries, 0 to 174388\n",
      "Data columns (total 19 columns):\n",
      " #   Column            Non-Null Count   Dtype  \n",
      "---  ------            --------------   -----  \n",
      " 0   acousticness      174389 non-null  float64\n",
      " 1   artists           174389 non-null  object \n",
      " 2   danceability      174389 non-null  float64\n",
      " 3   duration_ms       174389 non-null  int64  \n",
      " 4   energy            174389 non-null  float64\n",
      " 5   explicit          174389 non-null  int64  \n",
      " 6   id                174389 non-null  object \n",
      " 7   instrumentalness  174389 non-null  float64\n",
      " 8   key               174389 non-null  int64  \n",
      " 9   liveness          174389 non-null  float64\n",
      " 10  loudness          174389 non-null  float64\n",
      " 11  mode              174389 non-null  int64  \n",
      " 12  name              174389 non-null  object \n",
      " 13  popularity        174389 non-null  int64  \n",
      " 14  release_date      174389 non-null  object \n",
      " 15  speechiness       174389 non-null  float64\n",
      " 16  tempo             174389 non-null  float64\n",
      " 17  valence           174389 non-null  float64\n",
      " 18  year              174389 non-null  int64  \n",
      "dtypes: float64(9), int64(6), object(4)\n",
      "memory usage: 25.3+ MB\n",
      "None\n",
      "\n",
      " Null Values Present:\n",
      " acousticness        0\n",
      "artists             0\n",
      "danceability        0\n",
      "duration_ms         0\n",
      "energy              0\n",
      "explicit            0\n",
      "id                  0\n",
      "instrumentalness    0\n",
      "key                 0\n",
      "liveness            0\n",
      "loudness            0\n",
      "mode                0\n",
      "name                0\n",
      "popularity          0\n",
      "release_date        0\n",
      "speechiness         0\n",
      "tempo               0\n",
      "valence             0\n",
      "year                0\n",
      "dtype: int64\n"
     ]
    }
   ],
   "source": [
    "# Checking out some info\n",
    "get_info(df)"
   ]
  },
  {
   "cell_type": "markdown",
   "metadata": {},
   "source": [
    "### Name"
   ]
  },
  {
   "cell_type": "markdown",
   "metadata": {},
   "source": [
    "Let's set the song name as the index for the dataframe"
   ]
  },
  {
   "cell_type": "code",
   "execution_count": 6,
   "metadata": {
    "ExecuteTime": {
     "end_time": "2021-03-23T17:50:20.706052Z",
     "start_time": "2021-03-23T17:50:20.661865Z"
    }
   },
   "outputs": [
    {
     "data": {
      "text/html": [
       "<div>\n",
       "<style scoped>\n",
       "    .dataframe tbody tr th:only-of-type {\n",
       "        vertical-align: middle;\n",
       "    }\n",
       "\n",
       "    .dataframe tbody tr th {\n",
       "        vertical-align: top;\n",
       "    }\n",
       "\n",
       "    .dataframe thead th {\n",
       "        text-align: right;\n",
       "    }\n",
       "</style>\n",
       "<table border=\"1\" class=\"dataframe\">\n",
       "  <thead>\n",
       "    <tr style=\"text-align: right;\">\n",
       "      <th></th>\n",
       "      <th>acousticness</th>\n",
       "      <th>artists</th>\n",
       "      <th>danceability</th>\n",
       "      <th>duration_ms</th>\n",
       "      <th>energy</th>\n",
       "      <th>explicit</th>\n",
       "      <th>id</th>\n",
       "      <th>instrumentalness</th>\n",
       "      <th>key</th>\n",
       "      <th>liveness</th>\n",
       "      <th>loudness</th>\n",
       "      <th>mode</th>\n",
       "      <th>popularity</th>\n",
       "      <th>release_date</th>\n",
       "      <th>speechiness</th>\n",
       "      <th>tempo</th>\n",
       "      <th>valence</th>\n",
       "      <th>year</th>\n",
       "    </tr>\n",
       "    <tr>\n",
       "      <th>name</th>\n",
       "      <th></th>\n",
       "      <th></th>\n",
       "      <th></th>\n",
       "      <th></th>\n",
       "      <th></th>\n",
       "      <th></th>\n",
       "      <th></th>\n",
       "      <th></th>\n",
       "      <th></th>\n",
       "      <th></th>\n",
       "      <th></th>\n",
       "      <th></th>\n",
       "      <th></th>\n",
       "      <th></th>\n",
       "      <th></th>\n",
       "      <th></th>\n",
       "      <th></th>\n",
       "      <th></th>\n",
       "    </tr>\n",
       "  </thead>\n",
       "  <tbody>\n",
       "    <tr>\n",
       "      <th>Keep A Song In Your Soul</th>\n",
       "      <td>0.991000</td>\n",
       "      <td>['Mamie Smith']</td>\n",
       "      <td>0.598</td>\n",
       "      <td>168333</td>\n",
       "      <td>0.224</td>\n",
       "      <td>0</td>\n",
       "      <td>0cS0A1fUEUd1EW3FcF8AEI</td>\n",
       "      <td>0.000522</td>\n",
       "      <td>5</td>\n",
       "      <td>0.3790</td>\n",
       "      <td>-12.628</td>\n",
       "      <td>0</td>\n",
       "      <td>12</td>\n",
       "      <td>1920</td>\n",
       "      <td>0.0936</td>\n",
       "      <td>149.976</td>\n",
       "      <td>0.6340</td>\n",
       "      <td>1920</td>\n",
       "    </tr>\n",
       "    <tr>\n",
       "      <th>I Put A Spell On You</th>\n",
       "      <td>0.643000</td>\n",
       "      <td>[\"Screamin' Jay Hawkins\"]</td>\n",
       "      <td>0.852</td>\n",
       "      <td>150200</td>\n",
       "      <td>0.517</td>\n",
       "      <td>0</td>\n",
       "      <td>0hbkKFIJm7Z05H8Zl9w30f</td>\n",
       "      <td>0.026400</td>\n",
       "      <td>5</td>\n",
       "      <td>0.0809</td>\n",
       "      <td>-7.261</td>\n",
       "      <td>0</td>\n",
       "      <td>7</td>\n",
       "      <td>1920-01-05</td>\n",
       "      <td>0.0534</td>\n",
       "      <td>86.889</td>\n",
       "      <td>0.9500</td>\n",
       "      <td>1920</td>\n",
       "    </tr>\n",
       "    <tr>\n",
       "      <th>Golfing Papa</th>\n",
       "      <td>0.993000</td>\n",
       "      <td>['Mamie Smith']</td>\n",
       "      <td>0.647</td>\n",
       "      <td>163827</td>\n",
       "      <td>0.186</td>\n",
       "      <td>0</td>\n",
       "      <td>11m7laMUgmOKqI3oYzuhne</td>\n",
       "      <td>0.000018</td>\n",
       "      <td>0</td>\n",
       "      <td>0.5190</td>\n",
       "      <td>-12.098</td>\n",
       "      <td>1</td>\n",
       "      <td>4</td>\n",
       "      <td>1920</td>\n",
       "      <td>0.1740</td>\n",
       "      <td>97.600</td>\n",
       "      <td>0.6890</td>\n",
       "      <td>1920</td>\n",
       "    </tr>\n",
       "    <tr>\n",
       "      <th>True House Music - Xavier Santos &amp; Carlos Gomix Remix</th>\n",
       "      <td>0.000173</td>\n",
       "      <td>['Oscar Velazquez']</td>\n",
       "      <td>0.730</td>\n",
       "      <td>422087</td>\n",
       "      <td>0.798</td>\n",
       "      <td>0</td>\n",
       "      <td>19Lc5SfJJ5O1oaxY0fpwfh</td>\n",
       "      <td>0.801000</td>\n",
       "      <td>2</td>\n",
       "      <td>0.1280</td>\n",
       "      <td>-7.311</td>\n",
       "      <td>1</td>\n",
       "      <td>17</td>\n",
       "      <td>1920-01-01</td>\n",
       "      <td>0.0425</td>\n",
       "      <td>127.997</td>\n",
       "      <td>0.0422</td>\n",
       "      <td>1920</td>\n",
       "    </tr>\n",
       "    <tr>\n",
       "      <th>Xuniverxe</th>\n",
       "      <td>0.295000</td>\n",
       "      <td>['Mixe']</td>\n",
       "      <td>0.704</td>\n",
       "      <td>165224</td>\n",
       "      <td>0.707</td>\n",
       "      <td>1</td>\n",
       "      <td>2hJjbsLCytGsnAHfdsLejp</td>\n",
       "      <td>0.000246</td>\n",
       "      <td>10</td>\n",
       "      <td>0.4020</td>\n",
       "      <td>-6.036</td>\n",
       "      <td>0</td>\n",
       "      <td>2</td>\n",
       "      <td>1920-10-01</td>\n",
       "      <td>0.0768</td>\n",
       "      <td>122.076</td>\n",
       "      <td>0.2990</td>\n",
       "      <td>1920</td>\n",
       "    </tr>\n",
       "  </tbody>\n",
       "</table>\n",
       "</div>"
      ],
      "text/plain": [
       "                                                    acousticness  \\\n",
       "name                                                               \n",
       "Keep A Song In Your Soul                                0.991000   \n",
       "I Put A Spell On You                                    0.643000   \n",
       "Golfing Papa                                            0.993000   \n",
       "True House Music - Xavier Santos & Carlos Gomix...      0.000173   \n",
       "Xuniverxe                                               0.295000   \n",
       "\n",
       "                                                                      artists  \\\n",
       "name                                                                            \n",
       "Keep A Song In Your Soul                                      ['Mamie Smith']   \n",
       "I Put A Spell On You                                [\"Screamin' Jay Hawkins\"]   \n",
       "Golfing Papa                                                  ['Mamie Smith']   \n",
       "True House Music - Xavier Santos & Carlos Gomix...        ['Oscar Velazquez']   \n",
       "Xuniverxe                                                            ['Mixe']   \n",
       "\n",
       "                                                    danceability  duration_ms  \\\n",
       "name                                                                            \n",
       "Keep A Song In Your Soul                                   0.598       168333   \n",
       "I Put A Spell On You                                       0.852       150200   \n",
       "Golfing Papa                                               0.647       163827   \n",
       "True House Music - Xavier Santos & Carlos Gomix...         0.730       422087   \n",
       "Xuniverxe                                                  0.704       165224   \n",
       "\n",
       "                                                    energy  explicit  \\\n",
       "name                                                                   \n",
       "Keep A Song In Your Soul                             0.224         0   \n",
       "I Put A Spell On You                                 0.517         0   \n",
       "Golfing Papa                                         0.186         0   \n",
       "True House Music - Xavier Santos & Carlos Gomix...   0.798         0   \n",
       "Xuniverxe                                            0.707         1   \n",
       "\n",
       "                                                                        id  \\\n",
       "name                                                                         \n",
       "Keep A Song In Your Soul                            0cS0A1fUEUd1EW3FcF8AEI   \n",
       "I Put A Spell On You                                0hbkKFIJm7Z05H8Zl9w30f   \n",
       "Golfing Papa                                        11m7laMUgmOKqI3oYzuhne   \n",
       "True House Music - Xavier Santos & Carlos Gomix...  19Lc5SfJJ5O1oaxY0fpwfh   \n",
       "Xuniverxe                                           2hJjbsLCytGsnAHfdsLejp   \n",
       "\n",
       "                                                    instrumentalness  key  \\\n",
       "name                                                                        \n",
       "Keep A Song In Your Soul                                    0.000522    5   \n",
       "I Put A Spell On You                                        0.026400    5   \n",
       "Golfing Papa                                                0.000018    0   \n",
       "True House Music - Xavier Santos & Carlos Gomix...          0.801000    2   \n",
       "Xuniverxe                                                   0.000246   10   \n",
       "\n",
       "                                                    liveness  loudness  mode  \\\n",
       "name                                                                           \n",
       "Keep A Song In Your Soul                              0.3790   -12.628     0   \n",
       "I Put A Spell On You                                  0.0809    -7.261     0   \n",
       "Golfing Papa                                          0.5190   -12.098     1   \n",
       "True House Music - Xavier Santos & Carlos Gomix...    0.1280    -7.311     1   \n",
       "Xuniverxe                                             0.4020    -6.036     0   \n",
       "\n",
       "                                                    popularity release_date  \\\n",
       "name                                                                          \n",
       "Keep A Song In Your Soul                                    12         1920   \n",
       "I Put A Spell On You                                         7   1920-01-05   \n",
       "Golfing Papa                                                 4         1920   \n",
       "True House Music - Xavier Santos & Carlos Gomix...          17   1920-01-01   \n",
       "Xuniverxe                                                    2   1920-10-01   \n",
       "\n",
       "                                                    speechiness    tempo  \\\n",
       "name                                                                       \n",
       "Keep A Song In Your Soul                                 0.0936  149.976   \n",
       "I Put A Spell On You                                     0.0534   86.889   \n",
       "Golfing Papa                                             0.1740   97.600   \n",
       "True House Music - Xavier Santos & Carlos Gomix...       0.0425  127.997   \n",
       "Xuniverxe                                                0.0768  122.076   \n",
       "\n",
       "                                                    valence  year  \n",
       "name                                                               \n",
       "Keep A Song In Your Soul                             0.6340  1920  \n",
       "I Put A Spell On You                                 0.9500  1920  \n",
       "Golfing Papa                                         0.6890  1920  \n",
       "True House Music - Xavier Santos & Carlos Gomix...   0.0422  1920  \n",
       "Xuniverxe                                            0.2990  1920  "
      ]
     },
     "execution_count": 6,
     "metadata": {},
     "output_type": "execute_result"
    }
   ],
   "source": [
    "df.set_index('name', inplace = True)\n",
    "df.head()"
   ]
  },
  {
   "cell_type": "markdown",
   "metadata": {},
   "source": [
    "### ID"
   ]
  },
  {
   "cell_type": "markdown",
   "metadata": {},
   "source": [
    "I suppose we can drop the ID column as it's not really necessary for this project at the moment."
   ]
  },
  {
   "cell_type": "code",
   "execution_count": 7,
   "metadata": {
    "ExecuteTime": {
     "end_time": "2021-03-23T17:50:20.754336Z",
     "start_time": "2021-03-23T17:50:20.708646Z"
    }
   },
   "outputs": [
    {
     "data": {
      "text/html": [
       "<div>\n",
       "<style scoped>\n",
       "    .dataframe tbody tr th:only-of-type {\n",
       "        vertical-align: middle;\n",
       "    }\n",
       "\n",
       "    .dataframe tbody tr th {\n",
       "        vertical-align: top;\n",
       "    }\n",
       "\n",
       "    .dataframe thead th {\n",
       "        text-align: right;\n",
       "    }\n",
       "</style>\n",
       "<table border=\"1\" class=\"dataframe\">\n",
       "  <thead>\n",
       "    <tr style=\"text-align: right;\">\n",
       "      <th></th>\n",
       "      <th>acousticness</th>\n",
       "      <th>artists</th>\n",
       "      <th>danceability</th>\n",
       "      <th>duration_ms</th>\n",
       "      <th>energy</th>\n",
       "      <th>explicit</th>\n",
       "      <th>instrumentalness</th>\n",
       "      <th>key</th>\n",
       "      <th>liveness</th>\n",
       "      <th>loudness</th>\n",
       "      <th>mode</th>\n",
       "      <th>popularity</th>\n",
       "      <th>release_date</th>\n",
       "      <th>speechiness</th>\n",
       "      <th>tempo</th>\n",
       "      <th>valence</th>\n",
       "      <th>year</th>\n",
       "    </tr>\n",
       "    <tr>\n",
       "      <th>name</th>\n",
       "      <th></th>\n",
       "      <th></th>\n",
       "      <th></th>\n",
       "      <th></th>\n",
       "      <th></th>\n",
       "      <th></th>\n",
       "      <th></th>\n",
       "      <th></th>\n",
       "      <th></th>\n",
       "      <th></th>\n",
       "      <th></th>\n",
       "      <th></th>\n",
       "      <th></th>\n",
       "      <th></th>\n",
       "      <th></th>\n",
       "      <th></th>\n",
       "      <th></th>\n",
       "    </tr>\n",
       "  </thead>\n",
       "  <tbody>\n",
       "    <tr>\n",
       "      <th>Keep A Song In Your Soul</th>\n",
       "      <td>0.991000</td>\n",
       "      <td>['Mamie Smith']</td>\n",
       "      <td>0.598</td>\n",
       "      <td>168333</td>\n",
       "      <td>0.224</td>\n",
       "      <td>0</td>\n",
       "      <td>0.000522</td>\n",
       "      <td>5</td>\n",
       "      <td>0.3790</td>\n",
       "      <td>-12.628</td>\n",
       "      <td>0</td>\n",
       "      <td>12</td>\n",
       "      <td>1920</td>\n",
       "      <td>0.0936</td>\n",
       "      <td>149.976</td>\n",
       "      <td>0.6340</td>\n",
       "      <td>1920</td>\n",
       "    </tr>\n",
       "    <tr>\n",
       "      <th>I Put A Spell On You</th>\n",
       "      <td>0.643000</td>\n",
       "      <td>[\"Screamin' Jay Hawkins\"]</td>\n",
       "      <td>0.852</td>\n",
       "      <td>150200</td>\n",
       "      <td>0.517</td>\n",
       "      <td>0</td>\n",
       "      <td>0.026400</td>\n",
       "      <td>5</td>\n",
       "      <td>0.0809</td>\n",
       "      <td>-7.261</td>\n",
       "      <td>0</td>\n",
       "      <td>7</td>\n",
       "      <td>1920-01-05</td>\n",
       "      <td>0.0534</td>\n",
       "      <td>86.889</td>\n",
       "      <td>0.9500</td>\n",
       "      <td>1920</td>\n",
       "    </tr>\n",
       "    <tr>\n",
       "      <th>Golfing Papa</th>\n",
       "      <td>0.993000</td>\n",
       "      <td>['Mamie Smith']</td>\n",
       "      <td>0.647</td>\n",
       "      <td>163827</td>\n",
       "      <td>0.186</td>\n",
       "      <td>0</td>\n",
       "      <td>0.000018</td>\n",
       "      <td>0</td>\n",
       "      <td>0.5190</td>\n",
       "      <td>-12.098</td>\n",
       "      <td>1</td>\n",
       "      <td>4</td>\n",
       "      <td>1920</td>\n",
       "      <td>0.1740</td>\n",
       "      <td>97.600</td>\n",
       "      <td>0.6890</td>\n",
       "      <td>1920</td>\n",
       "    </tr>\n",
       "    <tr>\n",
       "      <th>True House Music - Xavier Santos &amp; Carlos Gomix Remix</th>\n",
       "      <td>0.000173</td>\n",
       "      <td>['Oscar Velazquez']</td>\n",
       "      <td>0.730</td>\n",
       "      <td>422087</td>\n",
       "      <td>0.798</td>\n",
       "      <td>0</td>\n",
       "      <td>0.801000</td>\n",
       "      <td>2</td>\n",
       "      <td>0.1280</td>\n",
       "      <td>-7.311</td>\n",
       "      <td>1</td>\n",
       "      <td>17</td>\n",
       "      <td>1920-01-01</td>\n",
       "      <td>0.0425</td>\n",
       "      <td>127.997</td>\n",
       "      <td>0.0422</td>\n",
       "      <td>1920</td>\n",
       "    </tr>\n",
       "    <tr>\n",
       "      <th>Xuniverxe</th>\n",
       "      <td>0.295000</td>\n",
       "      <td>['Mixe']</td>\n",
       "      <td>0.704</td>\n",
       "      <td>165224</td>\n",
       "      <td>0.707</td>\n",
       "      <td>1</td>\n",
       "      <td>0.000246</td>\n",
       "      <td>10</td>\n",
       "      <td>0.4020</td>\n",
       "      <td>-6.036</td>\n",
       "      <td>0</td>\n",
       "      <td>2</td>\n",
       "      <td>1920-10-01</td>\n",
       "      <td>0.0768</td>\n",
       "      <td>122.076</td>\n",
       "      <td>0.2990</td>\n",
       "      <td>1920</td>\n",
       "    </tr>\n",
       "  </tbody>\n",
       "</table>\n",
       "</div>"
      ],
      "text/plain": [
       "                                                    acousticness  \\\n",
       "name                                                               \n",
       "Keep A Song In Your Soul                                0.991000   \n",
       "I Put A Spell On You                                    0.643000   \n",
       "Golfing Papa                                            0.993000   \n",
       "True House Music - Xavier Santos & Carlos Gomix...      0.000173   \n",
       "Xuniverxe                                               0.295000   \n",
       "\n",
       "                                                                      artists  \\\n",
       "name                                                                            \n",
       "Keep A Song In Your Soul                                      ['Mamie Smith']   \n",
       "I Put A Spell On You                                [\"Screamin' Jay Hawkins\"]   \n",
       "Golfing Papa                                                  ['Mamie Smith']   \n",
       "True House Music - Xavier Santos & Carlos Gomix...        ['Oscar Velazquez']   \n",
       "Xuniverxe                                                            ['Mixe']   \n",
       "\n",
       "                                                    danceability  duration_ms  \\\n",
       "name                                                                            \n",
       "Keep A Song In Your Soul                                   0.598       168333   \n",
       "I Put A Spell On You                                       0.852       150200   \n",
       "Golfing Papa                                               0.647       163827   \n",
       "True House Music - Xavier Santos & Carlos Gomix...         0.730       422087   \n",
       "Xuniverxe                                                  0.704       165224   \n",
       "\n",
       "                                                    energy  explicit  \\\n",
       "name                                                                   \n",
       "Keep A Song In Your Soul                             0.224         0   \n",
       "I Put A Spell On You                                 0.517         0   \n",
       "Golfing Papa                                         0.186         0   \n",
       "True House Music - Xavier Santos & Carlos Gomix...   0.798         0   \n",
       "Xuniverxe                                            0.707         1   \n",
       "\n",
       "                                                    instrumentalness  key  \\\n",
       "name                                                                        \n",
       "Keep A Song In Your Soul                                    0.000522    5   \n",
       "I Put A Spell On You                                        0.026400    5   \n",
       "Golfing Papa                                                0.000018    0   \n",
       "True House Music - Xavier Santos & Carlos Gomix...          0.801000    2   \n",
       "Xuniverxe                                                   0.000246   10   \n",
       "\n",
       "                                                    liveness  loudness  mode  \\\n",
       "name                                                                           \n",
       "Keep A Song In Your Soul                              0.3790   -12.628     0   \n",
       "I Put A Spell On You                                  0.0809    -7.261     0   \n",
       "Golfing Papa                                          0.5190   -12.098     1   \n",
       "True House Music - Xavier Santos & Carlos Gomix...    0.1280    -7.311     1   \n",
       "Xuniverxe                                             0.4020    -6.036     0   \n",
       "\n",
       "                                                    popularity release_date  \\\n",
       "name                                                                          \n",
       "Keep A Song In Your Soul                                    12         1920   \n",
       "I Put A Spell On You                                         7   1920-01-05   \n",
       "Golfing Papa                                                 4         1920   \n",
       "True House Music - Xavier Santos & Carlos Gomix...          17   1920-01-01   \n",
       "Xuniverxe                                                    2   1920-10-01   \n",
       "\n",
       "                                                    speechiness    tempo  \\\n",
       "name                                                                       \n",
       "Keep A Song In Your Soul                                 0.0936  149.976   \n",
       "I Put A Spell On You                                     0.0534   86.889   \n",
       "Golfing Papa                                             0.1740   97.600   \n",
       "True House Music - Xavier Santos & Carlos Gomix...       0.0425  127.997   \n",
       "Xuniverxe                                                0.0768  122.076   \n",
       "\n",
       "                                                    valence  year  \n",
       "name                                                               \n",
       "Keep A Song In Your Soul                             0.6340  1920  \n",
       "I Put A Spell On You                                 0.9500  1920  \n",
       "Golfing Papa                                         0.6890  1920  \n",
       "True House Music - Xavier Santos & Carlos Gomix...   0.0422  1920  \n",
       "Xuniverxe                                            0.2990  1920  "
      ]
     },
     "execution_count": 7,
     "metadata": {},
     "output_type": "execute_result"
    }
   ],
   "source": [
    "df.drop('id', axis = 1, inplace = True)\n",
    "df.head()"
   ]
  },
  {
   "cell_type": "markdown",
   "metadata": {},
   "source": [
    "### Null Values"
   ]
  },
  {
   "cell_type": "code",
   "execution_count": 8,
   "metadata": {
    "ExecuteTime": {
     "end_time": "2021-03-23T17:50:20.791344Z",
     "start_time": "2021-03-23T17:50:20.758857Z"
    }
   },
   "outputs": [
    {
     "data": {
      "text/plain": [
       "acousticness        0\n",
       "artists             0\n",
       "danceability        0\n",
       "duration_ms         0\n",
       "energy              0\n",
       "explicit            0\n",
       "instrumentalness    0\n",
       "key                 0\n",
       "liveness            0\n",
       "loudness            0\n",
       "mode                0\n",
       "popularity          0\n",
       "release_date        0\n",
       "speechiness         0\n",
       "tempo               0\n",
       "valence             0\n",
       "year                0\n",
       "dtype: int64"
      ]
     },
     "execution_count": 8,
     "metadata": {},
     "output_type": "execute_result"
    }
   ],
   "source": [
    "# Checking nulls \n",
    "df.isna().sum()"
   ]
  },
  {
   "cell_type": "markdown",
   "metadata": {},
   "source": [
    "No nulls here, so we're in the clear!"
   ]
  },
  {
   "cell_type": "markdown",
   "metadata": {},
   "source": [
    "### Year"
   ]
  },
  {
   "cell_type": "markdown",
   "metadata": {},
   "source": [
    "Let's try a different approach here. At first, we changed the values of the year column to strings so that they wouldn't be affected by scaling. The drawback here is that we wound up with a massive amount of columns after one hot encoding it as a categorical column. Let's try binning year into decades to cut down on these columns."
   ]
  },
  {
   "cell_type": "code",
   "execution_count": 9,
   "metadata": {
    "ExecuteTime": {
     "end_time": "2021-03-23T17:50:20.806589Z",
     "start_time": "2021-03-23T17:50:20.794934Z"
    }
   },
   "outputs": [
    {
     "data": {
      "text/plain": [
       "array([1920, 1921, 1922, 1923, 1924, 1925, 1926, 1927, 1928, 1929, 1930,\n",
       "       1931, 1932, 1933, 1934, 1935, 1936, 1937, 1938, 1939, 1940, 1941,\n",
       "       1942, 1943, 1944, 1945, 1946, 1947, 1948, 1949, 1950, 1951, 1952,\n",
       "       1953, 1954, 1955, 1956, 1957, 1958, 1959, 1960, 1961, 1962, 1963,\n",
       "       1964, 1965, 1966, 1968, 2008, 2018, 2020, 1997, 1991, 2006, 2012,\n",
       "       2011, 2007, 1967, 1969, 1970, 1971, 1972, 1973, 1974, 1975, 1976,\n",
       "       1977, 1978, 1979, 1980, 1981, 1982, 1983, 1984, 1985, 1986, 1987,\n",
       "       1988, 1989, 1990, 1992, 1993, 1994, 1995, 1996, 1998, 1999, 2000,\n",
       "       2019, 2013, 2001, 2017, 2016, 2010, 2002, 2004, 2005, 2015, 2003,\n",
       "       2009, 2021, 2014])"
      ]
     },
     "execution_count": 9,
     "metadata": {},
     "output_type": "execute_result"
    }
   ],
   "source": [
    "df['year'].unique()"
   ]
  },
  {
   "cell_type": "code",
   "execution_count": 10,
   "metadata": {
    "ExecuteTime": {
     "end_time": "2021-03-23T18:15:54.279618Z",
     "start_time": "2021-03-23T17:50:20.809019Z"
    }
   },
   "outputs": [
    {
     "name": "stderr",
     "output_type": "stream",
     "text": [
      "/Users/spags/opt/anaconda3/envs/learn-env/lib/python3.6/site-packages/ipykernel_launcher.py:1: TqdmDeprecationWarning: This function will be removed in tqdm==5.0.0\n",
      "Please use `tqdm.notebook.tqdm` instead of `tqdm.tqdm_notebook`\n",
      "  \"\"\"Entry point for launching an IPython kernel.\n"
     ]
    },
    {
     "data": {
      "application/vnd.jupyter.widget-view+json": {
       "model_id": "886bb250d84b4da7a575bd629b8b032b",
       "version_major": 2,
       "version_minor": 0
      },
      "text/plain": [
       "  0%|          | 0/174389 [00:00<?, ?it/s]"
      ]
     },
     "metadata": {},
     "output_type": "display_data"
    }
   ],
   "source": [
    "for i in tqdm(df['year']):\n",
    "    if i >= 1920 and i < 1930:\n",
    "        df['year'] = df['year'].replace(i, '1920s')\n",
    "    elif i >= 1930 and i < 1940:\n",
    "        df['year'] = df['year'].replace(i, '1930s')\n",
    "    elif i >= 1940 and i < 1950:\n",
    "        df['year'] = df['year'].replace(i, '1940s')\n",
    "    elif i >= 1950 and i < 1960:\n",
    "        df['year'] = df['year'].replace(i, '1950s')\n",
    "    elif i >= 1960 and i < 1970:\n",
    "        df['year'] = df['year'].replace(i, '1960s')\n",
    "    elif i >= 1970 and i < 1980:\n",
    "        df['year'] = df['year'].replace(i, '1970s')\n",
    "    elif i >= 1980 and i < 1990:\n",
    "        df['year'] = df['year'].replace(i, '1980s')\n",
    "    elif i >= 1990 and i < 2000:\n",
    "        df['year'] = df['year'].replace(i, '1990s')\n",
    "    elif i >= 2000 and i < 2010:\n",
    "        df['year'] = df['year'].replace(i, '2000s')\n",
    "    elif i >= 2010 and i < 2020:\n",
    "        df['year'] = df['year'].replace(i, '2010s')\n",
    "    elif i >= 2020 and i < 2029:\n",
    "        df['year'] = df['year'].replace(i, '2020s')"
   ]
  },
  {
   "cell_type": "code",
   "execution_count": 11,
   "metadata": {
    "ExecuteTime": {
     "end_time": "2021-03-23T18:15:54.307641Z",
     "start_time": "2021-03-23T18:15:54.281916Z"
    }
   },
   "outputs": [
    {
     "data": {
      "text/plain": [
       "2010s    22455\n",
       "1990s    20328\n",
       "1970s    20118\n",
       "1980s    20074\n",
       "1950s    20000\n",
       "1960s    19610\n",
       "1940s    15493\n",
       "2000s    13782\n",
       "1930s    10764\n",
       "2020s     6134\n",
       "1920s     5631\n",
       "Name: year, dtype: int64"
      ]
     },
     "execution_count": 11,
     "metadata": {},
     "output_type": "execute_result"
    }
   ],
   "source": [
    "df['year'].value_counts()"
   ]
  },
  {
   "cell_type": "markdown",
   "metadata": {},
   "source": [
    "### Release Date"
   ]
  },
  {
   "cell_type": "markdown",
   "metadata": {},
   "source": [
    "Let's change the release date to a datetime object."
   ]
  },
  {
   "cell_type": "code",
   "execution_count": 12,
   "metadata": {
    "ExecuteTime": {
     "end_time": "2021-03-23T18:15:54.383263Z",
     "start_time": "2021-03-23T18:15:54.310072Z"
    }
   },
   "outputs": [
    {
     "data": {
      "text/html": [
       "<div>\n",
       "<style scoped>\n",
       "    .dataframe tbody tr th:only-of-type {\n",
       "        vertical-align: middle;\n",
       "    }\n",
       "\n",
       "    .dataframe tbody tr th {\n",
       "        vertical-align: top;\n",
       "    }\n",
       "\n",
       "    .dataframe thead th {\n",
       "        text-align: right;\n",
       "    }\n",
       "</style>\n",
       "<table border=\"1\" class=\"dataframe\">\n",
       "  <thead>\n",
       "    <tr style=\"text-align: right;\">\n",
       "      <th></th>\n",
       "      <th>acousticness</th>\n",
       "      <th>artists</th>\n",
       "      <th>danceability</th>\n",
       "      <th>duration_ms</th>\n",
       "      <th>energy</th>\n",
       "      <th>explicit</th>\n",
       "      <th>instrumentalness</th>\n",
       "      <th>key</th>\n",
       "      <th>liveness</th>\n",
       "      <th>loudness</th>\n",
       "      <th>mode</th>\n",
       "      <th>popularity</th>\n",
       "      <th>release_date</th>\n",
       "      <th>speechiness</th>\n",
       "      <th>tempo</th>\n",
       "      <th>valence</th>\n",
       "      <th>year</th>\n",
       "    </tr>\n",
       "    <tr>\n",
       "      <th>name</th>\n",
       "      <th></th>\n",
       "      <th></th>\n",
       "      <th></th>\n",
       "      <th></th>\n",
       "      <th></th>\n",
       "      <th></th>\n",
       "      <th></th>\n",
       "      <th></th>\n",
       "      <th></th>\n",
       "      <th></th>\n",
       "      <th></th>\n",
       "      <th></th>\n",
       "      <th></th>\n",
       "      <th></th>\n",
       "      <th></th>\n",
       "      <th></th>\n",
       "      <th></th>\n",
       "    </tr>\n",
       "  </thead>\n",
       "  <tbody>\n",
       "    <tr>\n",
       "      <th>Keep A Song In Your Soul</th>\n",
       "      <td>0.991000</td>\n",
       "      <td>['Mamie Smith']</td>\n",
       "      <td>0.598</td>\n",
       "      <td>168333</td>\n",
       "      <td>0.224</td>\n",
       "      <td>0</td>\n",
       "      <td>0.000522</td>\n",
       "      <td>5</td>\n",
       "      <td>0.3790</td>\n",
       "      <td>-12.628</td>\n",
       "      <td>0</td>\n",
       "      <td>12</td>\n",
       "      <td>1920-01-01</td>\n",
       "      <td>0.0936</td>\n",
       "      <td>149.976</td>\n",
       "      <td>0.6340</td>\n",
       "      <td>1920s</td>\n",
       "    </tr>\n",
       "    <tr>\n",
       "      <th>I Put A Spell On You</th>\n",
       "      <td>0.643000</td>\n",
       "      <td>[\"Screamin' Jay Hawkins\"]</td>\n",
       "      <td>0.852</td>\n",
       "      <td>150200</td>\n",
       "      <td>0.517</td>\n",
       "      <td>0</td>\n",
       "      <td>0.026400</td>\n",
       "      <td>5</td>\n",
       "      <td>0.0809</td>\n",
       "      <td>-7.261</td>\n",
       "      <td>0</td>\n",
       "      <td>7</td>\n",
       "      <td>1920-01-05</td>\n",
       "      <td>0.0534</td>\n",
       "      <td>86.889</td>\n",
       "      <td>0.9500</td>\n",
       "      <td>1920s</td>\n",
       "    </tr>\n",
       "    <tr>\n",
       "      <th>Golfing Papa</th>\n",
       "      <td>0.993000</td>\n",
       "      <td>['Mamie Smith']</td>\n",
       "      <td>0.647</td>\n",
       "      <td>163827</td>\n",
       "      <td>0.186</td>\n",
       "      <td>0</td>\n",
       "      <td>0.000018</td>\n",
       "      <td>0</td>\n",
       "      <td>0.5190</td>\n",
       "      <td>-12.098</td>\n",
       "      <td>1</td>\n",
       "      <td>4</td>\n",
       "      <td>1920-01-01</td>\n",
       "      <td>0.1740</td>\n",
       "      <td>97.600</td>\n",
       "      <td>0.6890</td>\n",
       "      <td>1920s</td>\n",
       "    </tr>\n",
       "    <tr>\n",
       "      <th>True House Music - Xavier Santos &amp; Carlos Gomix Remix</th>\n",
       "      <td>0.000173</td>\n",
       "      <td>['Oscar Velazquez']</td>\n",
       "      <td>0.730</td>\n",
       "      <td>422087</td>\n",
       "      <td>0.798</td>\n",
       "      <td>0</td>\n",
       "      <td>0.801000</td>\n",
       "      <td>2</td>\n",
       "      <td>0.1280</td>\n",
       "      <td>-7.311</td>\n",
       "      <td>1</td>\n",
       "      <td>17</td>\n",
       "      <td>1920-01-01</td>\n",
       "      <td>0.0425</td>\n",
       "      <td>127.997</td>\n",
       "      <td>0.0422</td>\n",
       "      <td>1920s</td>\n",
       "    </tr>\n",
       "    <tr>\n",
       "      <th>Xuniverxe</th>\n",
       "      <td>0.295000</td>\n",
       "      <td>['Mixe']</td>\n",
       "      <td>0.704</td>\n",
       "      <td>165224</td>\n",
       "      <td>0.707</td>\n",
       "      <td>1</td>\n",
       "      <td>0.000246</td>\n",
       "      <td>10</td>\n",
       "      <td>0.4020</td>\n",
       "      <td>-6.036</td>\n",
       "      <td>0</td>\n",
       "      <td>2</td>\n",
       "      <td>1920-10-01</td>\n",
       "      <td>0.0768</td>\n",
       "      <td>122.076</td>\n",
       "      <td>0.2990</td>\n",
       "      <td>1920s</td>\n",
       "    </tr>\n",
       "  </tbody>\n",
       "</table>\n",
       "</div>"
      ],
      "text/plain": [
       "                                                    acousticness  \\\n",
       "name                                                               \n",
       "Keep A Song In Your Soul                                0.991000   \n",
       "I Put A Spell On You                                    0.643000   \n",
       "Golfing Papa                                            0.993000   \n",
       "True House Music - Xavier Santos & Carlos Gomix...      0.000173   \n",
       "Xuniverxe                                               0.295000   \n",
       "\n",
       "                                                                      artists  \\\n",
       "name                                                                            \n",
       "Keep A Song In Your Soul                                      ['Mamie Smith']   \n",
       "I Put A Spell On You                                [\"Screamin' Jay Hawkins\"]   \n",
       "Golfing Papa                                                  ['Mamie Smith']   \n",
       "True House Music - Xavier Santos & Carlos Gomix...        ['Oscar Velazquez']   \n",
       "Xuniverxe                                                            ['Mixe']   \n",
       "\n",
       "                                                    danceability  duration_ms  \\\n",
       "name                                                                            \n",
       "Keep A Song In Your Soul                                   0.598       168333   \n",
       "I Put A Spell On You                                       0.852       150200   \n",
       "Golfing Papa                                               0.647       163827   \n",
       "True House Music - Xavier Santos & Carlos Gomix...         0.730       422087   \n",
       "Xuniverxe                                                  0.704       165224   \n",
       "\n",
       "                                                    energy  explicit  \\\n",
       "name                                                                   \n",
       "Keep A Song In Your Soul                             0.224         0   \n",
       "I Put A Spell On You                                 0.517         0   \n",
       "Golfing Papa                                         0.186         0   \n",
       "True House Music - Xavier Santos & Carlos Gomix...   0.798         0   \n",
       "Xuniverxe                                            0.707         1   \n",
       "\n",
       "                                                    instrumentalness  key  \\\n",
       "name                                                                        \n",
       "Keep A Song In Your Soul                                    0.000522    5   \n",
       "I Put A Spell On You                                        0.026400    5   \n",
       "Golfing Papa                                                0.000018    0   \n",
       "True House Music - Xavier Santos & Carlos Gomix...          0.801000    2   \n",
       "Xuniverxe                                                   0.000246   10   \n",
       "\n",
       "                                                    liveness  loudness  mode  \\\n",
       "name                                                                           \n",
       "Keep A Song In Your Soul                              0.3790   -12.628     0   \n",
       "I Put A Spell On You                                  0.0809    -7.261     0   \n",
       "Golfing Papa                                          0.5190   -12.098     1   \n",
       "True House Music - Xavier Santos & Carlos Gomix...    0.1280    -7.311     1   \n",
       "Xuniverxe                                             0.4020    -6.036     0   \n",
       "\n",
       "                                                    popularity release_date  \\\n",
       "name                                                                          \n",
       "Keep A Song In Your Soul                                    12   1920-01-01   \n",
       "I Put A Spell On You                                         7   1920-01-05   \n",
       "Golfing Papa                                                 4   1920-01-01   \n",
       "True House Music - Xavier Santos & Carlos Gomix...          17   1920-01-01   \n",
       "Xuniverxe                                                    2   1920-10-01   \n",
       "\n",
       "                                                    speechiness    tempo  \\\n",
       "name                                                                       \n",
       "Keep A Song In Your Soul                                 0.0936  149.976   \n",
       "I Put A Spell On You                                     0.0534   86.889   \n",
       "Golfing Papa                                             0.1740   97.600   \n",
       "True House Music - Xavier Santos & Carlos Gomix...       0.0425  127.997   \n",
       "Xuniverxe                                                0.0768  122.076   \n",
       "\n",
       "                                                    valence   year  \n",
       "name                                                                \n",
       "Keep A Song In Your Soul                             0.6340  1920s  \n",
       "I Put A Spell On You                                 0.9500  1920s  \n",
       "Golfing Papa                                         0.6890  1920s  \n",
       "True House Music - Xavier Santos & Carlos Gomix...   0.0422  1920s  \n",
       "Xuniverxe                                            0.2990  1920s  "
      ]
     },
     "execution_count": 12,
     "metadata": {},
     "output_type": "execute_result"
    }
   ],
   "source": [
    "df['release_date'] = pd.to_datetime(df['release_date'])\n",
    "df.head()"
   ]
  },
  {
   "cell_type": "markdown",
   "metadata": {},
   "source": [
    "Since we already have our years binned into decades and one hot encoding the release date would ballooon our dataset, let's make this a bit more manageable by pulling the release month from the datetime object."
   ]
  },
  {
   "cell_type": "code",
   "execution_count": 13,
   "metadata": {
    "ExecuteTime": {
     "end_time": "2021-03-23T18:15:54.389143Z",
     "start_time": "2021-03-23T18:15:54.385284Z"
    }
   },
   "outputs": [],
   "source": [
    "import datetime as dt"
   ]
  },
  {
   "cell_type": "code",
   "execution_count": 15,
   "metadata": {
    "ExecuteTime": {
     "end_time": "2021-03-23T18:21:00.860005Z",
     "start_time": "2021-03-23T18:21:00.838350Z"
    }
   },
   "outputs": [],
   "source": [
    "df['month'] = df['release_date'].dt.month"
   ]
  },
  {
   "cell_type": "markdown",
   "metadata": {},
   "source": [
    "Now we can drop the release date column."
   ]
  },
  {
   "cell_type": "code",
   "execution_count": 16,
   "metadata": {
    "ExecuteTime": {
     "end_time": "2021-03-23T18:21:04.953642Z",
     "start_time": "2021-03-23T18:21:04.911666Z"
    }
   },
   "outputs": [],
   "source": [
    "df.drop('release_date', axis = 1, inplace = True)"
   ]
  },
  {
   "cell_type": "code",
   "execution_count": 17,
   "metadata": {
    "ExecuteTime": {
     "end_time": "2021-03-23T18:21:09.681601Z",
     "start_time": "2021-03-23T18:21:09.656019Z"
    }
   },
   "outputs": [
    {
     "data": {
      "text/html": [
       "<div>\n",
       "<style scoped>\n",
       "    .dataframe tbody tr th:only-of-type {\n",
       "        vertical-align: middle;\n",
       "    }\n",
       "\n",
       "    .dataframe tbody tr th {\n",
       "        vertical-align: top;\n",
       "    }\n",
       "\n",
       "    .dataframe thead th {\n",
       "        text-align: right;\n",
       "    }\n",
       "</style>\n",
       "<table border=\"1\" class=\"dataframe\">\n",
       "  <thead>\n",
       "    <tr style=\"text-align: right;\">\n",
       "      <th></th>\n",
       "      <th>acousticness</th>\n",
       "      <th>artists</th>\n",
       "      <th>danceability</th>\n",
       "      <th>duration_ms</th>\n",
       "      <th>energy</th>\n",
       "      <th>explicit</th>\n",
       "      <th>instrumentalness</th>\n",
       "      <th>key</th>\n",
       "      <th>liveness</th>\n",
       "      <th>loudness</th>\n",
       "      <th>mode</th>\n",
       "      <th>popularity</th>\n",
       "      <th>speechiness</th>\n",
       "      <th>tempo</th>\n",
       "      <th>valence</th>\n",
       "      <th>year</th>\n",
       "      <th>month</th>\n",
       "    </tr>\n",
       "    <tr>\n",
       "      <th>name</th>\n",
       "      <th></th>\n",
       "      <th></th>\n",
       "      <th></th>\n",
       "      <th></th>\n",
       "      <th></th>\n",
       "      <th></th>\n",
       "      <th></th>\n",
       "      <th></th>\n",
       "      <th></th>\n",
       "      <th></th>\n",
       "      <th></th>\n",
       "      <th></th>\n",
       "      <th></th>\n",
       "      <th></th>\n",
       "      <th></th>\n",
       "      <th></th>\n",
       "      <th></th>\n",
       "    </tr>\n",
       "  </thead>\n",
       "  <tbody>\n",
       "    <tr>\n",
       "      <th>Keep A Song In Your Soul</th>\n",
       "      <td>0.991000</td>\n",
       "      <td>['Mamie Smith']</td>\n",
       "      <td>0.598</td>\n",
       "      <td>168333</td>\n",
       "      <td>0.224</td>\n",
       "      <td>0</td>\n",
       "      <td>0.000522</td>\n",
       "      <td>5</td>\n",
       "      <td>0.3790</td>\n",
       "      <td>-12.628</td>\n",
       "      <td>0</td>\n",
       "      <td>12</td>\n",
       "      <td>0.0936</td>\n",
       "      <td>149.976</td>\n",
       "      <td>0.6340</td>\n",
       "      <td>1920s</td>\n",
       "      <td>1</td>\n",
       "    </tr>\n",
       "    <tr>\n",
       "      <th>I Put A Spell On You</th>\n",
       "      <td>0.643000</td>\n",
       "      <td>[\"Screamin' Jay Hawkins\"]</td>\n",
       "      <td>0.852</td>\n",
       "      <td>150200</td>\n",
       "      <td>0.517</td>\n",
       "      <td>0</td>\n",
       "      <td>0.026400</td>\n",
       "      <td>5</td>\n",
       "      <td>0.0809</td>\n",
       "      <td>-7.261</td>\n",
       "      <td>0</td>\n",
       "      <td>7</td>\n",
       "      <td>0.0534</td>\n",
       "      <td>86.889</td>\n",
       "      <td>0.9500</td>\n",
       "      <td>1920s</td>\n",
       "      <td>1</td>\n",
       "    </tr>\n",
       "    <tr>\n",
       "      <th>Golfing Papa</th>\n",
       "      <td>0.993000</td>\n",
       "      <td>['Mamie Smith']</td>\n",
       "      <td>0.647</td>\n",
       "      <td>163827</td>\n",
       "      <td>0.186</td>\n",
       "      <td>0</td>\n",
       "      <td>0.000018</td>\n",
       "      <td>0</td>\n",
       "      <td>0.5190</td>\n",
       "      <td>-12.098</td>\n",
       "      <td>1</td>\n",
       "      <td>4</td>\n",
       "      <td>0.1740</td>\n",
       "      <td>97.600</td>\n",
       "      <td>0.6890</td>\n",
       "      <td>1920s</td>\n",
       "      <td>1</td>\n",
       "    </tr>\n",
       "    <tr>\n",
       "      <th>True House Music - Xavier Santos &amp; Carlos Gomix Remix</th>\n",
       "      <td>0.000173</td>\n",
       "      <td>['Oscar Velazquez']</td>\n",
       "      <td>0.730</td>\n",
       "      <td>422087</td>\n",
       "      <td>0.798</td>\n",
       "      <td>0</td>\n",
       "      <td>0.801000</td>\n",
       "      <td>2</td>\n",
       "      <td>0.1280</td>\n",
       "      <td>-7.311</td>\n",
       "      <td>1</td>\n",
       "      <td>17</td>\n",
       "      <td>0.0425</td>\n",
       "      <td>127.997</td>\n",
       "      <td>0.0422</td>\n",
       "      <td>1920s</td>\n",
       "      <td>1</td>\n",
       "    </tr>\n",
       "    <tr>\n",
       "      <th>Xuniverxe</th>\n",
       "      <td>0.295000</td>\n",
       "      <td>['Mixe']</td>\n",
       "      <td>0.704</td>\n",
       "      <td>165224</td>\n",
       "      <td>0.707</td>\n",
       "      <td>1</td>\n",
       "      <td>0.000246</td>\n",
       "      <td>10</td>\n",
       "      <td>0.4020</td>\n",
       "      <td>-6.036</td>\n",
       "      <td>0</td>\n",
       "      <td>2</td>\n",
       "      <td>0.0768</td>\n",
       "      <td>122.076</td>\n",
       "      <td>0.2990</td>\n",
       "      <td>1920s</td>\n",
       "      <td>10</td>\n",
       "    </tr>\n",
       "  </tbody>\n",
       "</table>\n",
       "</div>"
      ],
      "text/plain": [
       "                                                    acousticness  \\\n",
       "name                                                               \n",
       "Keep A Song In Your Soul                                0.991000   \n",
       "I Put A Spell On You                                    0.643000   \n",
       "Golfing Papa                                            0.993000   \n",
       "True House Music - Xavier Santos & Carlos Gomix...      0.000173   \n",
       "Xuniverxe                                               0.295000   \n",
       "\n",
       "                                                                      artists  \\\n",
       "name                                                                            \n",
       "Keep A Song In Your Soul                                      ['Mamie Smith']   \n",
       "I Put A Spell On You                                [\"Screamin' Jay Hawkins\"]   \n",
       "Golfing Papa                                                  ['Mamie Smith']   \n",
       "True House Music - Xavier Santos & Carlos Gomix...        ['Oscar Velazquez']   \n",
       "Xuniverxe                                                            ['Mixe']   \n",
       "\n",
       "                                                    danceability  duration_ms  \\\n",
       "name                                                                            \n",
       "Keep A Song In Your Soul                                   0.598       168333   \n",
       "I Put A Spell On You                                       0.852       150200   \n",
       "Golfing Papa                                               0.647       163827   \n",
       "True House Music - Xavier Santos & Carlos Gomix...         0.730       422087   \n",
       "Xuniverxe                                                  0.704       165224   \n",
       "\n",
       "                                                    energy  explicit  \\\n",
       "name                                                                   \n",
       "Keep A Song In Your Soul                             0.224         0   \n",
       "I Put A Spell On You                                 0.517         0   \n",
       "Golfing Papa                                         0.186         0   \n",
       "True House Music - Xavier Santos & Carlos Gomix...   0.798         0   \n",
       "Xuniverxe                                            0.707         1   \n",
       "\n",
       "                                                    instrumentalness  key  \\\n",
       "name                                                                        \n",
       "Keep A Song In Your Soul                                    0.000522    5   \n",
       "I Put A Spell On You                                        0.026400    5   \n",
       "Golfing Papa                                                0.000018    0   \n",
       "True House Music - Xavier Santos & Carlos Gomix...          0.801000    2   \n",
       "Xuniverxe                                                   0.000246   10   \n",
       "\n",
       "                                                    liveness  loudness  mode  \\\n",
       "name                                                                           \n",
       "Keep A Song In Your Soul                              0.3790   -12.628     0   \n",
       "I Put A Spell On You                                  0.0809    -7.261     0   \n",
       "Golfing Papa                                          0.5190   -12.098     1   \n",
       "True House Music - Xavier Santos & Carlos Gomix...    0.1280    -7.311     1   \n",
       "Xuniverxe                                             0.4020    -6.036     0   \n",
       "\n",
       "                                                    popularity  speechiness  \\\n",
       "name                                                                          \n",
       "Keep A Song In Your Soul                                    12       0.0936   \n",
       "I Put A Spell On You                                         7       0.0534   \n",
       "Golfing Papa                                                 4       0.1740   \n",
       "True House Music - Xavier Santos & Carlos Gomix...          17       0.0425   \n",
       "Xuniverxe                                                    2       0.0768   \n",
       "\n",
       "                                                      tempo  valence   year  \\\n",
       "name                                                                          \n",
       "Keep A Song In Your Soul                            149.976   0.6340  1920s   \n",
       "I Put A Spell On You                                 86.889   0.9500  1920s   \n",
       "Golfing Papa                                         97.600   0.6890  1920s   \n",
       "True House Music - Xavier Santos & Carlos Gomix...  127.997   0.0422  1920s   \n",
       "Xuniverxe                                           122.076   0.2990  1920s   \n",
       "\n",
       "                                                    month  \n",
       "name                                                       \n",
       "Keep A Song In Your Soul                                1  \n",
       "I Put A Spell On You                                    1  \n",
       "Golfing Papa                                            1  \n",
       "True House Music - Xavier Santos & Carlos Gomix...      1  \n",
       "Xuniverxe                                              10  "
      ]
     },
     "execution_count": 17,
     "metadata": {},
     "output_type": "execute_result"
    }
   ],
   "source": [
    "df.head()"
   ]
  },
  {
   "cell_type": "markdown",
   "metadata": {},
   "source": [
    "### Artists"
   ]
  },
  {
   "cell_type": "code",
   "execution_count": 18,
   "metadata": {
    "ExecuteTime": {
     "end_time": "2021-03-23T18:21:32.747576Z",
     "start_time": "2021-03-23T18:21:32.686906Z"
    }
   },
   "outputs": [
    {
     "data": {
      "text/plain": [
       "['Tadeusz Dolega Mostowicz']         1281\n",
       "['Эрнест Хемингуэй']                 1175\n",
       "['Эрих Мария Ремарк']                1062\n",
       "['Francisco Canaro']                  951\n",
       "['Ignacio Corsini']                   624\n",
       "                                     ... \n",
       "['Abrasive Wheels']                     1\n",
       "['Walter Bobbie', 'J.K. Simmons']       1\n",
       "['Premlata', 'Mubarak Begum']           1\n",
       "['María José']                          1\n",
       "['Borneo & Sporenburg']                 1\n",
       "Name: artists, Length: 36195, dtype: int64"
      ]
     },
     "execution_count": 18,
     "metadata": {},
     "output_type": "execute_result"
    }
   ],
   "source": [
    "df['artists'].value_counts()"
   ]
  },
  {
   "cell_type": "markdown",
   "metadata": {},
   "source": [
    "Keeping all the artists in the artist column creates an issue when one hot encoding...namely that it expands to over 31k columns and creates an issue for running our models. Let's do some exploration here and see if there's any way to bin artists in a sensible way."
   ]
  },
  {
   "cell_type": "code",
   "execution_count": 19,
   "metadata": {
    "ExecuteTime": {
     "end_time": "2021-03-23T18:21:33.714239Z",
     "start_time": "2021-03-23T18:21:33.662750Z"
    }
   },
   "outputs": [
    {
     "data": {
      "text/plain": [
       "31331"
      ]
     },
     "execution_count": 19,
     "metadata": {},
     "output_type": "execute_result"
    }
   ],
   "source": [
    "df['artists'].value_counts().unique().sum()"
   ]
  },
  {
   "cell_type": "markdown",
   "metadata": {},
   "source": [
    "Wow...31k+ unique artists represented in this dataset. This presents an interesting dilemma. It doesn't seem too likely that we can figure out a way to bin this column in a sensible way. We could separate the artists into bins of multiple artists and single artists for the tracks but that doesn't really take the individual artist popularity into account.\n",
    "\n",
    "For now, we're going to have to dump the artist column and then revisit this down the line after being able to get a few successful models running."
   ]
  },
  {
   "cell_type": "code",
   "execution_count": 20,
   "metadata": {
    "ExecuteTime": {
     "end_time": "2021-03-23T18:21:34.815118Z",
     "start_time": "2021-03-23T18:21:34.798204Z"
    }
   },
   "outputs": [],
   "source": [
    "df.drop('artists', axis = 1, inplace = True)"
   ]
  },
  {
   "cell_type": "markdown",
   "metadata": {},
   "source": [
    "### Popularity Column"
   ]
  },
  {
   "cell_type": "markdown",
   "metadata": {},
   "source": [
    "This one is going to take some thought and research. We know that the popularity metric is a number from 1 to 100 that (with 100 being the most popular) that is assigned to a song to denote it's popularity. Spotify calculates this metric based on total streams, trends, and several other factors. First, we need to see what we're working with in terms of the value counts. Next, we need to make some sort of determination of what level of popularity constitutes as a hit song and the level that constitutes a dud.\n",
    "\n",
    "<b> Note:</b> In the other notebook, we work on a multiclass version that creates 3 targets: hit, solid single, and dud."
   ]
  },
  {
   "cell_type": "code",
   "execution_count": 21,
   "metadata": {
    "ExecuteTime": {
     "end_time": "2021-03-23T18:21:47.055379Z",
     "start_time": "2021-03-23T18:21:45.248446Z"
    }
   },
   "outputs": [
    {
     "data": {
      "image/png": "[encoded data removed]",
      "text/plain": [
       "<Figure size 1728x432 with 1 Axes>"
      ]
     },
     "metadata": {
      "needs_background": "light"
     },
     "output_type": "display_data"
    }
   ],
   "source": [
    "# Placeholder Plot\n",
    "\n",
    "ax = plt.figure(figsize = (24, 6))\n",
    "ax = sns.countplot(df['popularity'])\n",
    "ax.set_title('Song Popularity Countplot')\n",
    "ax.set_xlabel('Popularity')\n",
    "ax.set_ylabel('Count')\n",
    "plt.show();"
   ]
  },
  {
   "cell_type": "markdown",
   "metadata": {},
   "source": [
    "> We can see from the figure above that an overhwelmingly large percentage of the songs have a popularity of 0 and the top of the scale is an extremely small percentage.  This is going to wreak havok on class weights."
   ]
  },
  {
   "cell_type": "markdown",
   "metadata": {},
   "source": [
    "<b>From Spotify:</b><br>\n",
    "The popularity of the track. The value will be between 0 and 100, with 100 being the most popular. The popularity of a track is a value between 0 and 100, with 100 being the most popular. The popularity is calculated by algorithm and is based, in the most part, on the total number of plays the track has had and how recent those plays are. Generally speaking, songs that are being played a lot now will have a higher popularity than songs that were played a lot in the past. Duplicate tracks (e.g. the same track from a single and an album) are rated independently. Artist and album popularity is derived mathematically from track popularity. Note that the popularity value may lag actual popularity by a few days: the value is not updated in real time."
   ]
  },
  {
   "cell_type": "markdown",
   "metadata": {},
   "source": [
    "#### Binning Popularity"
   ]
  },
  {
   "cell_type": "markdown",
   "metadata": {},
   "source": [
    "We'll make the following labels by binning hte popularity metric:<br>\n",
    "0 - Not a hit<br>\n",
    "1 - Hit"
   ]
  },
  {
   "cell_type": "code",
   "execution_count": 22,
   "metadata": {
    "ExecuteTime": {
     "end_time": "2021-03-23T18:21:47.103943Z",
     "start_time": "2021-03-23T18:21:47.057931Z"
    }
   },
   "outputs": [
    {
     "data": {
      "text/html": [
       "<div>\n",
       "<style scoped>\n",
       "    .dataframe tbody tr th:only-of-type {\n",
       "        vertical-align: middle;\n",
       "    }\n",
       "\n",
       "    .dataframe tbody tr th {\n",
       "        vertical-align: top;\n",
       "    }\n",
       "\n",
       "    .dataframe thead th {\n",
       "        text-align: right;\n",
       "    }\n",
       "</style>\n",
       "<table border=\"1\" class=\"dataframe\">\n",
       "  <thead>\n",
       "    <tr style=\"text-align: right;\">\n",
       "      <th></th>\n",
       "      <th>acousticness</th>\n",
       "      <th>danceability</th>\n",
       "      <th>duration_ms</th>\n",
       "      <th>energy</th>\n",
       "      <th>explicit</th>\n",
       "      <th>instrumentalness</th>\n",
       "      <th>key</th>\n",
       "      <th>liveness</th>\n",
       "      <th>loudness</th>\n",
       "      <th>mode</th>\n",
       "      <th>popularity</th>\n",
       "      <th>speechiness</th>\n",
       "      <th>tempo</th>\n",
       "      <th>valence</th>\n",
       "      <th>year</th>\n",
       "      <th>month</th>\n",
       "    </tr>\n",
       "    <tr>\n",
       "      <th>name</th>\n",
       "      <th></th>\n",
       "      <th></th>\n",
       "      <th></th>\n",
       "      <th></th>\n",
       "      <th></th>\n",
       "      <th></th>\n",
       "      <th></th>\n",
       "      <th></th>\n",
       "      <th></th>\n",
       "      <th></th>\n",
       "      <th></th>\n",
       "      <th></th>\n",
       "      <th></th>\n",
       "      <th></th>\n",
       "      <th></th>\n",
       "      <th></th>\n",
       "    </tr>\n",
       "  </thead>\n",
       "  <tbody>\n",
       "    <tr>\n",
       "      <th>Rudolph the Red-Nosed Reindeer</th>\n",
       "      <td>0.88300</td>\n",
       "      <td>0.629</td>\n",
       "      <td>186733</td>\n",
       "      <td>0.1590</td>\n",
       "      <td>0</td>\n",
       "      <td>0.000000</td>\n",
       "      <td>8</td>\n",
       "      <td>0.2220</td>\n",
       "      <td>-14.056</td>\n",
       "      <td>1</td>\n",
       "      <td>65</td>\n",
       "      <td>0.0495</td>\n",
       "      <td>142.157</td>\n",
       "      <td>0.642</td>\n",
       "      <td>1940s</td>\n",
       "      <td>1</td>\n",
       "    </tr>\n",
       "    <tr>\n",
       "      <th>I Fall In Love Too Easily - Vocal Version</th>\n",
       "      <td>0.94000</td>\n",
       "      <td>0.532</td>\n",
       "      <td>201440</td>\n",
       "      <td>0.0657</td>\n",
       "      <td>0</td>\n",
       "      <td>0.004880</td>\n",
       "      <td>0</td>\n",
       "      <td>0.0946</td>\n",
       "      <td>-19.136</td>\n",
       "      <td>0</td>\n",
       "      <td>65</td>\n",
       "      <td>0.0406</td>\n",
       "      <td>128.607</td>\n",
       "      <td>0.292</td>\n",
       "      <td>1950s</td>\n",
       "      <td>1</td>\n",
       "    </tr>\n",
       "    <tr>\n",
       "      <th>Pennies From Heaven</th>\n",
       "      <td>0.45200</td>\n",
       "      <td>0.515</td>\n",
       "      <td>141667</td>\n",
       "      <td>0.4080</td>\n",
       "      <td>0</td>\n",
       "      <td>0.000000</td>\n",
       "      <td>8</td>\n",
       "      <td>0.0682</td>\n",
       "      <td>-11.960</td>\n",
       "      <td>1</td>\n",
       "      <td>65</td>\n",
       "      <td>0.1940</td>\n",
       "      <td>185.767</td>\n",
       "      <td>0.915</td>\n",
       "      <td>1950s</td>\n",
       "      <td>1</td>\n",
       "    </tr>\n",
       "    <tr>\n",
       "      <th>I'll Be Seeing You</th>\n",
       "      <td>0.98900</td>\n",
       "      <td>0.355</td>\n",
       "      <td>211533</td>\n",
       "      <td>0.0304</td>\n",
       "      <td>0</td>\n",
       "      <td>0.055500</td>\n",
       "      <td>1</td>\n",
       "      <td>0.1160</td>\n",
       "      <td>-20.479</td>\n",
       "      <td>1</td>\n",
       "      <td>65</td>\n",
       "      <td>0.0361</td>\n",
       "      <td>90.495</td>\n",
       "      <td>0.188</td>\n",
       "      <td>1950s</td>\n",
       "      <td>1</td>\n",
       "    </tr>\n",
       "    <tr>\n",
       "      <th>Volare (Nel Blu Di Pinto Di Blu) - Remastered</th>\n",
       "      <td>0.88000</td>\n",
       "      <td>0.612</td>\n",
       "      <td>181627</td>\n",
       "      <td>0.1440</td>\n",
       "      <td>0</td>\n",
       "      <td>0.000000</td>\n",
       "      <td>6</td>\n",
       "      <td>0.2030</td>\n",
       "      <td>-12.204</td>\n",
       "      <td>0</td>\n",
       "      <td>65</td>\n",
       "      <td>0.0352</td>\n",
       "      <td>128.629</td>\n",
       "      <td>0.343</td>\n",
       "      <td>1950s</td>\n",
       "      <td>1</td>\n",
       "    </tr>\n",
       "    <tr>\n",
       "      <th>...</th>\n",
       "      <td>...</td>\n",
       "      <td>...</td>\n",
       "      <td>...</td>\n",
       "      <td>...</td>\n",
       "      <td>...</td>\n",
       "      <td>...</td>\n",
       "      <td>...</td>\n",
       "      <td>...</td>\n",
       "      <td>...</td>\n",
       "      <td>...</td>\n",
       "      <td>...</td>\n",
       "      <td>...</td>\n",
       "      <td>...</td>\n",
       "      <td>...</td>\n",
       "      <td>...</td>\n",
       "      <td>...</td>\n",
       "    </tr>\n",
       "    <tr>\n",
       "      <th>Legacy (feat. Travis Scott &amp; 21 Savage)</th>\n",
       "      <td>0.17800</td>\n",
       "      <td>0.844</td>\n",
       "      <td>244941</td>\n",
       "      <td>0.5130</td>\n",
       "      <td>1</td>\n",
       "      <td>0.000000</td>\n",
       "      <td>1</td>\n",
       "      <td>0.0845</td>\n",
       "      <td>-8.769</td>\n",
       "      <td>1</td>\n",
       "      <td>65</td>\n",
       "      <td>0.3350</td>\n",
       "      <td>128.085</td>\n",
       "      <td>0.344</td>\n",
       "      <td>2010s</td>\n",
       "      <td>2</td>\n",
       "    </tr>\n",
       "    <tr>\n",
       "      <th>NNAN</th>\n",
       "      <td>0.28100</td>\n",
       "      <td>0.817</td>\n",
       "      <td>193479</td>\n",
       "      <td>0.5390</td>\n",
       "      <td>1</td>\n",
       "      <td>0.000000</td>\n",
       "      <td>5</td>\n",
       "      <td>0.1990</td>\n",
       "      <td>-5.015</td>\n",
       "      <td>1</td>\n",
       "      <td>65</td>\n",
       "      <td>0.0626</td>\n",
       "      <td>96.039</td>\n",
       "      <td>0.674</td>\n",
       "      <td>2010s</td>\n",
       "      <td>9</td>\n",
       "    </tr>\n",
       "    <tr>\n",
       "      <th>VALENTINO</th>\n",
       "      <td>0.19700</td>\n",
       "      <td>0.744</td>\n",
       "      <td>179133</td>\n",
       "      <td>0.7180</td>\n",
       "      <td>1</td>\n",
       "      <td>0.000000</td>\n",
       "      <td>9</td>\n",
       "      <td>0.1340</td>\n",
       "      <td>-4.853</td>\n",
       "      <td>0</td>\n",
       "      <td>65</td>\n",
       "      <td>0.1810</td>\n",
       "      <td>151.098</td>\n",
       "      <td>0.549</td>\n",
       "      <td>2010s</td>\n",
       "      <td>1</td>\n",
       "    </tr>\n",
       "    <tr>\n",
       "      <th>Novocaine</th>\n",
       "      <td>0.00191</td>\n",
       "      <td>0.652</td>\n",
       "      <td>245240</td>\n",
       "      <td>0.8330</td>\n",
       "      <td>1</td>\n",
       "      <td>0.000536</td>\n",
       "      <td>10</td>\n",
       "      <td>0.1220</td>\n",
       "      <td>-4.898</td>\n",
       "      <td>1</td>\n",
       "      <td>65</td>\n",
       "      <td>0.0392</td>\n",
       "      <td>116.043</td>\n",
       "      <td>0.231</td>\n",
       "      <td>2010s</td>\n",
       "      <td>3</td>\n",
       "    </tr>\n",
       "    <tr>\n",
       "      <th>Chopper City</th>\n",
       "      <td>0.05070</td>\n",
       "      <td>0.598</td>\n",
       "      <td>152607</td>\n",
       "      <td>0.7730</td>\n",
       "      <td>1</td>\n",
       "      <td>0.000000</td>\n",
       "      <td>5</td>\n",
       "      <td>0.1330</td>\n",
       "      <td>-5.624</td>\n",
       "      <td>0</td>\n",
       "      <td>65</td>\n",
       "      <td>0.4260</td>\n",
       "      <td>80.777</td>\n",
       "      <td>0.707</td>\n",
       "      <td>2020s</td>\n",
       "      <td>11</td>\n",
       "    </tr>\n",
       "  </tbody>\n",
       "</table>\n",
       "<p>901 rows × 16 columns</p>\n",
       "</div>"
      ],
      "text/plain": [
       "                                               acousticness  danceability  \\\n",
       "name                                                                        \n",
       "Rudolph the Red-Nosed Reindeer                      0.88300         0.629   \n",
       "I Fall In Love Too Easily - Vocal Version           0.94000         0.532   \n",
       "Pennies From Heaven                                 0.45200         0.515   \n",
       "I'll Be Seeing You                                  0.98900         0.355   \n",
       "Volare (Nel Blu Di Pinto Di Blu) - Remastered       0.88000         0.612   \n",
       "...                                                     ...           ...   \n",
       "Legacy (feat. Travis Scott & 21 Savage)             0.17800         0.844   \n",
       "NNAN                                                0.28100         0.817   \n",
       "VALENTINO                                           0.19700         0.744   \n",
       "Novocaine                                           0.00191         0.652   \n",
       "Chopper City                                        0.05070         0.598   \n",
       "\n",
       "                                               duration_ms  energy  explicit  \\\n",
       "name                                                                           \n",
       "Rudolph the Red-Nosed Reindeer                      186733  0.1590         0   \n",
       "I Fall In Love Too Easily - Vocal Version           201440  0.0657         0   \n",
       "Pennies From Heaven                                 141667  0.4080         0   \n",
       "I'll Be Seeing You                                  211533  0.0304         0   \n",
       "Volare (Nel Blu Di Pinto Di Blu) - Remastered       181627  0.1440         0   \n",
       "...                                                    ...     ...       ...   \n",
       "Legacy (feat. Travis Scott & 21 Savage)             244941  0.5130         1   \n",
       "NNAN                                                193479  0.5390         1   \n",
       "VALENTINO                                           179133  0.7180         1   \n",
       "Novocaine                                           245240  0.8330         1   \n",
       "Chopper City                                        152607  0.7730         1   \n",
       "\n",
       "                                               instrumentalness  key  \\\n",
       "name                                                                   \n",
       "Rudolph the Red-Nosed Reindeer                         0.000000    8   \n",
       "I Fall In Love Too Easily - Vocal Version              0.004880    0   \n",
       "Pennies From Heaven                                    0.000000    8   \n",
       "I'll Be Seeing You                                     0.055500    1   \n",
       "Volare (Nel Blu Di Pinto Di Blu) - Remastered          0.000000    6   \n",
       "...                                                         ...  ...   \n",
       "Legacy (feat. Travis Scott & 21 Savage)                0.000000    1   \n",
       "NNAN                                                   0.000000    5   \n",
       "VALENTINO                                              0.000000    9   \n",
       "Novocaine                                              0.000536   10   \n",
       "Chopper City                                           0.000000    5   \n",
       "\n",
       "                                               liveness  loudness  mode  \\\n",
       "name                                                                      \n",
       "Rudolph the Red-Nosed Reindeer                   0.2220   -14.056     1   \n",
       "I Fall In Love Too Easily - Vocal Version        0.0946   -19.136     0   \n",
       "Pennies From Heaven                              0.0682   -11.960     1   \n",
       "I'll Be Seeing You                               0.1160   -20.479     1   \n",
       "Volare (Nel Blu Di Pinto Di Blu) - Remastered    0.2030   -12.204     0   \n",
       "...                                                 ...       ...   ...   \n",
       "Legacy (feat. Travis Scott & 21 Savage)          0.0845    -8.769     1   \n",
       "NNAN                                             0.1990    -5.015     1   \n",
       "VALENTINO                                        0.1340    -4.853     0   \n",
       "Novocaine                                        0.1220    -4.898     1   \n",
       "Chopper City                                     0.1330    -5.624     0   \n",
       "\n",
       "                                               popularity  speechiness  \\\n",
       "name                                                                     \n",
       "Rudolph the Red-Nosed Reindeer                         65       0.0495   \n",
       "I Fall In Love Too Easily - Vocal Version              65       0.0406   \n",
       "Pennies From Heaven                                    65       0.1940   \n",
       "I'll Be Seeing You                                     65       0.0361   \n",
       "Volare (Nel Blu Di Pinto Di Blu) - Remastered          65       0.0352   \n",
       "...                                                   ...          ...   \n",
       "Legacy (feat. Travis Scott & 21 Savage)                65       0.3350   \n",
       "NNAN                                                   65       0.0626   \n",
       "VALENTINO                                              65       0.1810   \n",
       "Novocaine                                              65       0.0392   \n",
       "Chopper City                                           65       0.4260   \n",
       "\n",
       "                                                 tempo  valence   year  month  \n",
       "name                                                                           \n",
       "Rudolph the Red-Nosed Reindeer                 142.157    0.642  1940s      1  \n",
       "I Fall In Love Too Easily - Vocal Version      128.607    0.292  1950s      1  \n",
       "Pennies From Heaven                            185.767    0.915  1950s      1  \n",
       "I'll Be Seeing You                              90.495    0.188  1950s      1  \n",
       "Volare (Nel Blu Di Pinto Di Blu) - Remastered  128.629    0.343  1950s      1  \n",
       "...                                                ...      ...    ...    ...  \n",
       "Legacy (feat. Travis Scott & 21 Savage)        128.085    0.344  2010s      2  \n",
       "NNAN                                            96.039    0.674  2010s      9  \n",
       "VALENTINO                                      151.098    0.549  2010s      1  \n",
       "Novocaine                                      116.043    0.231  2010s      3  \n",
       "Chopper City                                    80.777    0.707  2020s     11  \n",
       "\n",
       "[901 rows x 16 columns]"
      ]
     },
     "execution_count": 22,
     "metadata": {},
     "output_type": "execute_result"
    }
   ],
   "source": [
    "# Using the following code with various values to check what our thresholds should be\n",
    "\n",
    "df[df[\"popularity\"] == 65]"
   ]
  },
  {
   "cell_type": "markdown",
   "metadata": {},
   "source": [
    "> First we'll create strings and then label encode from there.  I'm sure there's an easier way, but this is what's worked for me to this point."
   ]
  },
  {
   "cell_type": "code",
   "execution_count": 23,
   "metadata": {
    "ExecuteTime": {
     "end_time": "2021-03-23T18:41:29.644852Z",
     "start_time": "2021-03-23T18:21:47.107290Z"
    }
   },
   "outputs": [
    {
     "name": "stderr",
     "output_type": "stream",
     "text": [
      "/Users/spags/opt/anaconda3/envs/learn-env/lib/python3.6/site-packages/ipykernel_launcher.py:1: TqdmDeprecationWarning: This function will be removed in tqdm==5.0.0\n",
      "Please use `tqdm.notebook.tqdm` instead of `tqdm.tqdm_notebook`\n",
      "  \"\"\"Entry point for launching an IPython kernel.\n"
     ]
    },
    {
     "data": {
      "application/vnd.jupyter.widget-view+json": {
       "model_id": "62dbafcd868447859f25c8202633638a",
       "version_major": 2,
       "version_minor": 0
      },
      "text/plain": [
       "  0%|          | 0/174389 [00:00<?, ?it/s]"
      ]
     },
     "metadata": {},
     "output_type": "display_data"
    }
   ],
   "source": [
    "for i in tqdm(df['popularity']):\n",
    "    if i >= 65:\n",
    "        df['popularity'] = df['popularity'].replace(i, 'Hit')\n",
    "    else:\n",
    "        df['popularity'] = df['popularity'].replace(i, 'Dud')"
   ]
  },
  {
   "cell_type": "code",
   "execution_count": 24,
   "metadata": {
    "ExecuteTime": {
     "end_time": "2021-03-23T18:41:29.674990Z",
     "start_time": "2021-03-23T18:41:29.647662Z"
    }
   },
   "outputs": [
    {
     "data": {
      "text/plain": [
       "Dud    166417\n",
       "Hit      7972\n",
       "Name: popularity, dtype: int64"
      ]
     },
     "execution_count": 24,
     "metadata": {},
     "output_type": "execute_result"
    }
   ],
   "source": [
    "df['popularity'].value_counts()"
   ]
  },
  {
   "cell_type": "code",
   "execution_count": 25,
   "metadata": {
    "ExecuteTime": {
     "end_time": "2021-03-23T18:49:29.609103Z",
     "start_time": "2021-03-23T18:41:29.677159Z"
    }
   },
   "outputs": [
    {
     "name": "stderr",
     "output_type": "stream",
     "text": [
      "/Users/spags/opt/anaconda3/envs/learn-env/lib/python3.6/site-packages/ipykernel_launcher.py:3: TqdmDeprecationWarning: This function will be removed in tqdm==5.0.0\n",
      "Please use `tqdm.notebook.tqdm` instead of `tqdm.tqdm_notebook`\n",
      "  This is separate from the ipykernel package so we can avoid doing imports until\n"
     ]
    },
    {
     "data": {
      "application/vnd.jupyter.widget-view+json": {
       "model_id": "7eba8b8eb48b401287c83527cafad4ab",
       "version_major": 2,
       "version_minor": 0
      },
      "text/plain": [
       "  0%|          | 0/174389 [00:00<?, ?it/s]"
      ]
     },
     "metadata": {},
     "output_type": "display_data"
    }
   ],
   "source": [
    "# Now for encoding it for 1 and 0\n",
    "\n",
    "for i in tqdm(df['popularity']):\n",
    "    if i == 'Hit':\n",
    "        df['popularity'] = df['popularity'].replace(i, 1)\n",
    "    else: \n",
    "        df['popularity'] = df['popularity'].replace(i, 0)"
   ]
  },
  {
   "cell_type": "code",
   "execution_count": 26,
   "metadata": {
    "ExecuteTime": {
     "end_time": "2021-03-23T18:49:29.622343Z",
     "start_time": "2021-03-23T18:49:29.611464Z"
    }
   },
   "outputs": [
    {
     "data": {
      "text/plain": [
       "0    166417\n",
       "1      7972\n",
       "Name: popularity, dtype: int64"
      ]
     },
     "execution_count": 26,
     "metadata": {},
     "output_type": "execute_result"
    }
   ],
   "source": [
    "df['popularity'].value_counts()"
   ]
  },
  {
   "cell_type": "markdown",
   "metadata": {},
   "source": [
    "## Save Clean DataFrame"
   ]
  },
  {
   "cell_type": "code",
   "execution_count": 27,
   "metadata": {
    "ExecuteTime": {
     "end_time": "2021-03-23T18:49:29.653605Z",
     "start_time": "2021-03-23T18:49:29.624546Z"
    }
   },
   "outputs": [
    {
     "data": {
      "text/html": [
       "<div>\n",
       "<style scoped>\n",
       "    .dataframe tbody tr th:only-of-type {\n",
       "        vertical-align: middle;\n",
       "    }\n",
       "\n",
       "    .dataframe tbody tr th {\n",
       "        vertical-align: top;\n",
       "    }\n",
       "\n",
       "    .dataframe thead th {\n",
       "        text-align: right;\n",
       "    }\n",
       "</style>\n",
       "<table border=\"1\" class=\"dataframe\">\n",
       "  <thead>\n",
       "    <tr style=\"text-align: right;\">\n",
       "      <th></th>\n",
       "      <th>acousticness</th>\n",
       "      <th>danceability</th>\n",
       "      <th>duration_ms</th>\n",
       "      <th>energy</th>\n",
       "      <th>explicit</th>\n",
       "      <th>instrumentalness</th>\n",
       "      <th>key</th>\n",
       "      <th>liveness</th>\n",
       "      <th>loudness</th>\n",
       "      <th>mode</th>\n",
       "      <th>popularity</th>\n",
       "      <th>speechiness</th>\n",
       "      <th>tempo</th>\n",
       "      <th>valence</th>\n",
       "      <th>year</th>\n",
       "      <th>month</th>\n",
       "    </tr>\n",
       "    <tr>\n",
       "      <th>name</th>\n",
       "      <th></th>\n",
       "      <th></th>\n",
       "      <th></th>\n",
       "      <th></th>\n",
       "      <th></th>\n",
       "      <th></th>\n",
       "      <th></th>\n",
       "      <th></th>\n",
       "      <th></th>\n",
       "      <th></th>\n",
       "      <th></th>\n",
       "      <th></th>\n",
       "      <th></th>\n",
       "      <th></th>\n",
       "      <th></th>\n",
       "      <th></th>\n",
       "    </tr>\n",
       "  </thead>\n",
       "  <tbody>\n",
       "    <tr>\n",
       "      <th>Keep A Song In Your Soul</th>\n",
       "      <td>0.991000</td>\n",
       "      <td>0.598</td>\n",
       "      <td>168333</td>\n",
       "      <td>0.224</td>\n",
       "      <td>0</td>\n",
       "      <td>0.000522</td>\n",
       "      <td>5</td>\n",
       "      <td>0.3790</td>\n",
       "      <td>-12.628</td>\n",
       "      <td>0</td>\n",
       "      <td>0</td>\n",
       "      <td>0.0936</td>\n",
       "      <td>149.976</td>\n",
       "      <td>0.6340</td>\n",
       "      <td>1920s</td>\n",
       "      <td>1</td>\n",
       "    </tr>\n",
       "    <tr>\n",
       "      <th>I Put A Spell On You</th>\n",
       "      <td>0.643000</td>\n",
       "      <td>0.852</td>\n",
       "      <td>150200</td>\n",
       "      <td>0.517</td>\n",
       "      <td>0</td>\n",
       "      <td>0.026400</td>\n",
       "      <td>5</td>\n",
       "      <td>0.0809</td>\n",
       "      <td>-7.261</td>\n",
       "      <td>0</td>\n",
       "      <td>0</td>\n",
       "      <td>0.0534</td>\n",
       "      <td>86.889</td>\n",
       "      <td>0.9500</td>\n",
       "      <td>1920s</td>\n",
       "      <td>1</td>\n",
       "    </tr>\n",
       "    <tr>\n",
       "      <th>Golfing Papa</th>\n",
       "      <td>0.993000</td>\n",
       "      <td>0.647</td>\n",
       "      <td>163827</td>\n",
       "      <td>0.186</td>\n",
       "      <td>0</td>\n",
       "      <td>0.000018</td>\n",
       "      <td>0</td>\n",
       "      <td>0.5190</td>\n",
       "      <td>-12.098</td>\n",
       "      <td>1</td>\n",
       "      <td>0</td>\n",
       "      <td>0.1740</td>\n",
       "      <td>97.600</td>\n",
       "      <td>0.6890</td>\n",
       "      <td>1920s</td>\n",
       "      <td>1</td>\n",
       "    </tr>\n",
       "    <tr>\n",
       "      <th>True House Music - Xavier Santos &amp; Carlos Gomix Remix</th>\n",
       "      <td>0.000173</td>\n",
       "      <td>0.730</td>\n",
       "      <td>422087</td>\n",
       "      <td>0.798</td>\n",
       "      <td>0</td>\n",
       "      <td>0.801000</td>\n",
       "      <td>2</td>\n",
       "      <td>0.1280</td>\n",
       "      <td>-7.311</td>\n",
       "      <td>1</td>\n",
       "      <td>0</td>\n",
       "      <td>0.0425</td>\n",
       "      <td>127.997</td>\n",
       "      <td>0.0422</td>\n",
       "      <td>1920s</td>\n",
       "      <td>1</td>\n",
       "    </tr>\n",
       "    <tr>\n",
       "      <th>Xuniverxe</th>\n",
       "      <td>0.295000</td>\n",
       "      <td>0.704</td>\n",
       "      <td>165224</td>\n",
       "      <td>0.707</td>\n",
       "      <td>1</td>\n",
       "      <td>0.000246</td>\n",
       "      <td>10</td>\n",
       "      <td>0.4020</td>\n",
       "      <td>-6.036</td>\n",
       "      <td>0</td>\n",
       "      <td>0</td>\n",
       "      <td>0.0768</td>\n",
       "      <td>122.076</td>\n",
       "      <td>0.2990</td>\n",
       "      <td>1920s</td>\n",
       "      <td>10</td>\n",
       "    </tr>\n",
       "  </tbody>\n",
       "</table>\n",
       "</div>"
      ],
      "text/plain": [
       "                                                    acousticness  \\\n",
       "name                                                               \n",
       "Keep A Song In Your Soul                                0.991000   \n",
       "I Put A Spell On You                                    0.643000   \n",
       "Golfing Papa                                            0.993000   \n",
       "True House Music - Xavier Santos & Carlos Gomix...      0.000173   \n",
       "Xuniverxe                                               0.295000   \n",
       "\n",
       "                                                    danceability  duration_ms  \\\n",
       "name                                                                            \n",
       "Keep A Song In Your Soul                                   0.598       168333   \n",
       "I Put A Spell On You                                       0.852       150200   \n",
       "Golfing Papa                                               0.647       163827   \n",
       "True House Music - Xavier Santos & Carlos Gomix...         0.730       422087   \n",
       "Xuniverxe                                                  0.704       165224   \n",
       "\n",
       "                                                    energy  explicit  \\\n",
       "name                                                                   \n",
       "Keep A Song In Your Soul                             0.224         0   \n",
       "I Put A Spell On You                                 0.517         0   \n",
       "Golfing Papa                                         0.186         0   \n",
       "True House Music - Xavier Santos & Carlos Gomix...   0.798         0   \n",
       "Xuniverxe                                            0.707         1   \n",
       "\n",
       "                                                    instrumentalness  key  \\\n",
       "name                                                                        \n",
       "Keep A Song In Your Soul                                    0.000522    5   \n",
       "I Put A Spell On You                                        0.026400    5   \n",
       "Golfing Papa                                                0.000018    0   \n",
       "True House Music - Xavier Santos & Carlos Gomix...          0.801000    2   \n",
       "Xuniverxe                                                   0.000246   10   \n",
       "\n",
       "                                                    liveness  loudness  mode  \\\n",
       "name                                                                           \n",
       "Keep A Song In Your Soul                              0.3790   -12.628     0   \n",
       "I Put A Spell On You                                  0.0809    -7.261     0   \n",
       "Golfing Papa                                          0.5190   -12.098     1   \n",
       "True House Music - Xavier Santos & Carlos Gomix...    0.1280    -7.311     1   \n",
       "Xuniverxe                                             0.4020    -6.036     0   \n",
       "\n",
       "                                                    popularity  speechiness  \\\n",
       "name                                                                          \n",
       "Keep A Song In Your Soul                                     0       0.0936   \n",
       "I Put A Spell On You                                         0       0.0534   \n",
       "Golfing Papa                                                 0       0.1740   \n",
       "True House Music - Xavier Santos & Carlos Gomix...           0       0.0425   \n",
       "Xuniverxe                                                    0       0.0768   \n",
       "\n",
       "                                                      tempo  valence   year  \\\n",
       "name                                                                          \n",
       "Keep A Song In Your Soul                            149.976   0.6340  1920s   \n",
       "I Put A Spell On You                                 86.889   0.9500  1920s   \n",
       "Golfing Papa                                         97.600   0.6890  1920s   \n",
       "True House Music - Xavier Santos & Carlos Gomix...  127.997   0.0422  1920s   \n",
       "Xuniverxe                                           122.076   0.2990  1920s   \n",
       "\n",
       "                                                    month  \n",
       "name                                                       \n",
       "Keep A Song In Your Soul                                1  \n",
       "I Put A Spell On You                                    1  \n",
       "Golfing Papa                                            1  \n",
       "True House Music - Xavier Santos & Carlos Gomix...      1  \n",
       "Xuniverxe                                              10  "
      ]
     },
     "execution_count": 27,
     "metadata": {},
     "output_type": "execute_result"
    }
   ],
   "source": [
    "df.head()"
   ]
  },
  {
   "cell_type": "markdown",
   "metadata": {},
   "source": [
    "Now that we've successfully cleaned the data, we can save our clean dataframe to use in other notebooks.  "
   ]
  },
  {
   "cell_type": "code",
   "execution_count": 28,
   "metadata": {
    "ExecuteTime": {
     "end_time": "2021-03-23T18:49:32.480175Z",
     "start_time": "2021-03-23T18:49:29.656989Z"
    }
   },
   "outputs": [],
   "source": [
    "df.to_csv('clean_spotify_data.csv')"
   ]
  }
 ],
 "metadata": {
  "kernelspec": {
   "display_name": "Python [conda env:learn-env] *",
   "language": "python",
   "name": "conda-env-learn-env-py"
  },
  "language_info": {
   "codemirror_mode": {
    "name": "ipython",
    "version": 3
   },
   "file_extension": ".py",
   "mimetype": "text/x-python",
   "name": "python",
   "nbconvert_exporter": "python",
   "pygments_lexer": "ipython3",
   "version": "3.6.9"
  },
  "toc": {
   "base_numbering": 1,
   "nav_menu": {},
   "number_sections": true,
   "sideBar": true,
   "skip_h1_title": false,
   "title_cell": "Table of Contents",
   "title_sidebar": "Contents",
   "toc_cell": false,
   "toc_position": {},
   "toc_section_display": true,
   "toc_window_display": true
  }
 },
 "nbformat": 4,
 "nbformat_minor": 2
}
